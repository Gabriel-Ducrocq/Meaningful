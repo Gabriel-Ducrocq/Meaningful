{
 "cells": [
  {
   "cell_type": "code",
   "execution_count": 1,
   "metadata": {},
   "outputs": [
    {
     "name": "stderr",
     "output_type": "stream",
     "text": [
      "/home/gabriel/anaconda3/lib/python3.6/importlib/_bootstrap.py:219: RuntimeWarning: compiletime version 3.5 of module 'tensorflow.python.framework.fast_tensor_util' does not match runtime version 3.6\n",
      "  return f(*args, **kwds)\n",
      "/home/gabriel/anaconda3/lib/python3.6/site-packages/h5py/__init__.py:34: FutureWarning: Conversion of the second argument of issubdtype from `float` to `np.floating` is deprecated. In future, it will be treated as `np.float64 == np.dtype(float).type`.\n",
      "  from ._conv import register_converters as _register_converters\n"
     ]
    }
   ],
   "source": [
    "import tensorflow as tf\n",
    "import numpy as np\n",
    "import matplotlib.pyplot as plt\n",
    "from sklearn.preprocessing import OneHotEncoder\n",
    "from tensorflow.python import debug as tf_debug\n",
    "from datetime import datetime\n",
    "import _pickle as cPickle\n",
    "import os\n",
    "import time\n",
    "import shutil\n",
    "from pathlib import Path\n",
    "#%load_ext autotime\n",
    "%matplotlib inline"
   ]
  },
  {
   "cell_type": "code",
   "execution_count": 2,
   "metadata": {
    "collapsed": true
   },
   "outputs": [],
   "source": [
    "flags = tf.app.flags\n",
    "FLAGS = flags.FLAGS\n",
    "#0.0008\n",
    "flags.DEFINE_float('learning_rate', 0.0008, 'Initial learning rate.')#0.0008\n",
    "flags.DEFINE_integer('max_steps', 20000, 'Number of iteration to train.')\n",
    "flags.DEFINE_integer('number_layers', 3, 'Number of layers in each network')\n",
    "flags.DEFINE_integer('layer_sizes', 256, 'Number of units in hidden layer.')\n",
    "flags.DEFINE_integer('batch_size', 100, 'Batch size.')#100\n",
    "flags.DEFINE_integer('dim_env', 2, 'dimension of the environment')\n",
    "flags.DEFINE_integer('number_goal_types', 3, 'number of different goal types')\n",
    "flags.DEFINE_integer('color_size', 3, 'number of components of the color: RGB as usual')\n",
    "flags.DEFINE_integer(\"output_size\", 256, \"number of units in the output layer\")\n",
    "flags.DEFINE_float(\"keep_prob\", 0.9, \"Dropouts rate of keeping\")\n",
    "flags.DEFINE_boolean(\"xav_init\", False,\"Distribution of initialization: False for normal, True for uniform\" )\n",
    "flags.DEFINE_integer(\"number_agents\", 2, \"Number of agents in the environment\")\n",
    "flags.DEFINE_integer(\"number_landmarks\", 3, \"Number of landmarks in the environment\")\n",
    "flags.DEFINE_integer(\"vocabulary_size\", 20, \"Size of the vocabulary\")\n",
    "flags.DEFINE_integer(\"mem_size\", 32, \"Size of the communication network's memory\")\n",
    "flags.DEFINE_integer(\"last_mem_size\", 32, \"Size of the last network's memory\")\n",
    "flags.DEFINE_float(\"gumbel_temperature\", 1, \"Temperature use for the gumbel softmax trick\")\n",
    "flags.DEFINE_float(\"sddev_phys_sampling\", 0.0001, \"Standard deviation used to sample the velocity and gaze output\")\n",
    "flags.DEFINE_float(\"delta_t\", 0.5, \"delta of time between timesteps\")#0.5\n",
    "flags.DEFINE_float(\"damping_coef\", 0.5, \"damping coefficient for the new velocity computation\")\n",
    "flags.DEFINE_float(\"stddev_memory\", 0.0001, \"standard deviation of the gaussian used to update memories\")\n",
    "flags.DEFINE_integer(\"bound\", 5, \"Bounds of generation of initial positions, centered in 0.\")#5 usually\n",
    "flags.DEFINE_integer(\"time_horizon\", 50, \"Number of timestep before the end of the experiment.\")#50\n",
    "flags.DEFINE_integer(\"print_frequency\", 50, \"Frequency at which we print the reward, in number of steps.\")#500\n",
    "flags.DEFINE_boolean(\"learning_rate_decay\", True, \"Wether to use a piecewise learning rate decay or no decay at all\")#True\n",
    "flags.DEFINE_integer(\"tensorboard_freq\", 2000, \"Frequency at which we save the statistics in tensorflow\")#500\n",
    "flags.DEFINE_float(\"alpha_dirichlet\", 0, \"Probability of seeing an out of vocabulary word\")"
   ]
  },
  {
   "cell_type": "code",
   "execution_count": 76,
   "metadata": {
    "collapsed": true
   },
   "outputs": [],
   "source": [
    "tf.reset_default_graph()"
   ]
  },
  {
   "cell_type": "markdown",
   "metadata": {},
   "source": [
    "### A faire:\n",
    "\n",
    "- Checker que le softmax pooling est correct\n",
    "\n",
    "- Checker que le gumbel trick est okay, notamment sur les début et longueur de slicing\n",
    "\n",
    "- Checker que le sampling physique est okay, notamment sur les début et longueur de slicing\n",
    "\n",
    "- Checker que le calcul du nouvel état est correct, notamment sur les débuts et longueur de slicing et concaténation\n",
    "\n",
    "- Ajouter le calcul des forces dans le calcul du nouvel état\n",
    "\n",
    "- Vérifier que le shuffling est correct\n",
    "\n",
    "- Vérifier que le calcul du reward est correct\n",
    "\n",
    "- Vérifier que la backprop considère bien les variables broadcastées comme les mêmes.\n",
    "\n",
    "- Vérifier que le tenseur states est bien dans cet ordre sur le second axe: position, velocité, gaze, couleurs\n",
    "\n",
    "- RELIER LES LANDMARKS AUX POSITIONS DES GOALS, SINON CA N A PAS DE SENS !!!\n",
    "\n",
    "- Checker que les goals types sont bien distribués: une unique coordonnée doit être 1, les autres 0, et ce pour chaque agent.\n"
   ]
  },
  {
   "cell_type": "markdown",
   "metadata": {},
   "source": [
    "## Utils"
   ]
  },
  {
   "cell_type": "code",
   "execution_count": 77,
   "metadata": {
    "collapsed": true
   },
   "outputs": [],
   "source": [
    "def memory():\n",
    "    import os\n",
    "    import psutil\n",
    "    pid = os.getpid()\n",
    "    py = psutil.Process(pid)\n",
    "    memoryUse = py.memory_info()[0]/2.**30  # memory use in GB...I think\n",
    "    print('memory use:', memoryUse)\n",
    "\n",
    "\n",
    "\n",
    "\n",
    "def plot_trajectory(coordinates, target_point, middle_point):\n",
    "    x = coordinates[1:-1, 0]\n",
    "    y = coordinates[1:-1, 1]\n",
    "    \n",
    "    x_start = coordinates[0, 0]\n",
    "    y_start = coordinates[0, 1]\n",
    "    \n",
    "    x_final = coordinates[-1, 0]\n",
    "    y_final = coordinates[-1, 1]\n",
    "    \n",
    "    x_target, y_target = target_point\n",
    "    x_middle, y_middle = middle_point\n",
    "    \n",
    "    plt.plot(x,y, \"o\")\n",
    "    plt.plot(x_start, y_start, 'ro')\n",
    "    plt.plot(x_target, y_target, 'go')\n",
    "    plt.plot(x_final, y_final, 'yo')\n",
    "    plt.plot(x_middle, y_middle, 'mo')\n",
    "    axes = plt.gca()\n",
    "    axes.set_xlim([-5, 5])\n",
    "    axes.set_ylim([-5, 5])\n",
    "    plt.show()\n",
    "\n",
    "\n",
    "def python_shuffle(positions, shuffle_indexes):\n",
    "    shuffled_array = np.stack(\n",
    "    [positions[shuffle_indexes[: , 0, i], :, i] for i in range(FLAGS.batch_size)], axis = 2)\n",
    "    return shuffled_array\n",
    "    \n",
    "    \n",
    "def delete_history_files():\n",
    "    if os.path.isfile(\"env_history.pkl\"):\n",
    "        os.remove(\"env_history.pkl\")\n",
    "        \n",
    "    if os.path.isfile(\"arrays_history.pkl\"):\n",
    "        os.remove(\"arrays_history.pkl\")\n",
    "        \n",
    "    if Path(\"Summary\").is_dir():\n",
    "        shutil.rmtree(\"Summary\")\n",
    "\n",
    "\n",
    "def print_stat_vocabulary(utterances_array, l):\n",
    "    x = np.argmax(utterances_array, axis = 2)\n",
    "    r = []\n",
    "    for i in range(FLAGS.batch_size):\n",
    "        #r.append(len(np.unique(x[:, :, i])))\n",
    "        r.append(len(np.unique(x[:, 0, i])))\n",
    "        r.append(len(np.unique(x[:, 1, i])))\n",
    "    \n",
    "    if l%FLAGS.print_frequency == 0:\n",
    "        print(\"-- Stats word count:\")\n",
    "        print(\"---- Mean number of word activated: \" + str(np.mean(r)))\n",
    "        print(\"---- Median number of word activated: \" + str(np.median(r)))\n",
    "        print(\"---- Total number of word activated: \" + str(len(np.unique(x))))\n",
    "        \n",
    "    return np.mean(r)\n",
    "    \n",
    "        \n",
    "def dirichlet_log_lik_end(utterances_array):\n",
    "    #Note: we don't take minus the log-likelihood as we minimize minus the entire reward then !\n",
    "    by_symbol = tf.reduce_sum(utterances_array, axis =[0, 1, 3])\n",
    "    total_nb_uttered = FLAGS.number_agents*FLAGS.time_horizon*FLAGS.batch_size\n",
    "    #total_nb_uttered = tf.reduce_sum(utterances_array)\n",
    "    ratio = by_symbol/(FLAGS.alpha_dirichlet + total_nb_uttered - 1)\n",
    "    tiled_ratios = tf.tile(tf.reshape(ratio, [1, 1, FLAGS.vocabulary_size, 1]), [FLAGS.time_horizon, FLAGS.number_agents, 1, FLAGS.batch_size])\n",
    "    #log_likelihood = tf.reduce_sum(tf.gather_nd(tf.log(tiled_ratios), tf.where(tf.equal(utterances_array, 1))))\n",
    "    terms = tf.multiply(tf.stop_gradient(tf.log(tf.clip_by_value(ratio, 1e-10, 1e+10))),by_symbol)\n",
    "    log_likelihood = tf.reduce_sum(terms)\n",
    "    #log_likelihood = tf.Print(log_likelihood, [log_likelihood])\n",
    "    return log_likelihood/FLAGS.batch_size\n",
    "    \n",
    "    \n",
    "# Param: x, stacking of the output of fully connected physical network for each agent. Shape = (256, batch_size, nb_agents)\n",
    "# return: pooling of input features.\n",
    "def softmax_pooling(x):\n",
    "    # pooling function. Softmax pooling is a compromise between max pooling and average pooling\n",
    "    coefs = tf.nn.softmax(x, dim = 0)\n",
    "    softmax_pool = tf.reduce_sum(tf.multiply(coefs, x), axis = 0)\n",
    "    return softmax_pool\n",
    "\n",
    "\n",
    "def activation_function(x):\n",
    "    return tf.nn.elu(x)\n",
    "\n",
    "\n",
    "def gumbel_max_trick(x, hard = True):\n",
    "    # Application of gumbel-softmax trick\n",
    "    # Input: output of the last network \n",
    "    u = -tf.log(-tf.log(tf.random_uniform(shape = [FLAGS.number_agents, FLAGS.vocabulary_size, FLAGS.batch_size],\n",
    "                                          dtype=tf.float32)))\n",
    "    utterance_output = tf.slice(x, [0, 2*FLAGS.dim_env, 0], [FLAGS.number_agents, FLAGS.vocabulary_size, FLAGS.batch_size])\n",
    "    gumbel = tf.exp((utterance_output + u)/FLAGS.gumbel_temperature)\n",
    "    denoms = tf.reshape(tf.reduce_sum(gumbel, axis = 1), [FLAGS.number_agents, 1, FLAGS.batch_size])\n",
    "    utterance = gumbel/denoms\n",
    "    if hard:\n",
    "        idx_utt = tf.argmax(utterance, axis = 1)\n",
    "        utt_hard = tf.transpose(tf.one_hot(idx_utt, depth = FLAGS.vocabulary_size), [0, 2, 1])\n",
    "        utterance = tf.stop_gradient(utt_hard - utterance) + utterance\n",
    "        \n",
    "    return utterance \n",
    "\n",
    "\n",
    "def sample_phys(x):\n",
    "    #Input: output of the last network.\n",
    "    #Output: sampled values for new velocity and gaze\n",
    "    u = tf.random_normal(shape = [FLAGS.number_agents, 2*FLAGS.dim_env, FLAGS.batch_size],dtype=tf.float32,\n",
    "                         stddev = FLAGS.sddev_phys_sampling)\n",
    "    o = tf.add(tf.slice(x, [0, 0, 0], [FLAGS.number_agents, 2*FLAGS.dim_env, FLAGS.batch_size]), u)\n",
    "    sample_move = tf.slice(o, [0, 0, 0], [FLAGS.number_agents, FLAGS.dim_env, FLAGS.batch_size])\n",
    "    sample_gaze  = tf.slice(o, [0, FLAGS.dim_env, 0], [FLAGS.number_agents, FLAGS.dim_env, FLAGS.batch_size])\n",
    "    return sample_move, sample_gaze\n",
    "\n",
    "\n",
    "def compute_new_states(old_states, new_velocities, new_delta_gazes, new_utterances):\n",
    "    #Computes the new states according to the equations of the papers.\n",
    "    # Input: the old states of shape [number agents + nb_landmarks, 3*env dim + color size, batch size] because color is in state\n",
    "    # and of shape [number_agents, 2*env_dim, batch size]\n",
    "    # Adding the outputs of landmark, which are all zeros.\n",
    "    #new_velocities = tf.concat([new_velocities, tf.zeros([FLAGS.number_landmarks, FLAGS.dim_env, FLAGS.batch_size])],\n",
    "    #                                       axis = 0)\n",
    "\n",
    "    #new_delta_gazes = tf.concat([new_delta_gazes, tf.zeros([FLAGS.number_landmarks, FLAGS.dim_env, FLAGS.batch_size])],\n",
    "    #                                       axis = 0)\n",
    "    \n",
    "    #old_velocity = tf.slice(old_states, [0, FLAGS.dim_env, 0], \n",
    "    #                        [FLAGS.number_agents + FLAGS.number_landmarks, FLAGS.dim_env, FLAGS.batch_size])\n",
    "    \n",
    "    #old_gazes = tf.slice(old_states, [0, 2*FLAGS.dim_env, 0], \n",
    "    #                        [FLAGS.number_agents + FLAGS.number_landmarks, FLAGS.dim_env, FLAGS.batch_size])\n",
    "    \n",
    "    #new_pos = tf.slice(old_states, [0, 0, 0], \n",
    "    #                   [FLAGS.number_agents + FLAGS.number_landmarks, FLAGS.dim_env, FLAGS.batch_size]) + old_velocity*FLAGS.delta_t\n",
    "    \n",
    "    #new_gazes = old_gazes + new_delta_gazes*FLAGS.delta_t\n",
    "    \n",
    "    #new_velocity = (1 - FLAGS.damping_coef)*old_velocity + new_velocities*FLAGS.delta_t\n",
    "    \n",
    "    old_velocity = tf.slice(old_states, [0, FLAGS.dim_env, 0], \n",
    "                            [FLAGS.number_agents, FLAGS.dim_env, FLAGS.batch_size])\n",
    "    \n",
    "    old_gazes = tf.slice(old_states, [0, 2*FLAGS.dim_env, 0], \n",
    "                            [FLAGS.number_agents , FLAGS.dim_env, FLAGS.batch_size])\n",
    "    \n",
    "    new_pos_agents = tf.slice(old_states, [0, 0, 0], \n",
    "                       [FLAGS.number_agents, FLAGS.dim_env, FLAGS.batch_size]) + old_velocity*FLAGS.delta_t\n",
    "    \n",
    "    new_pos_landmarks = tf.slice(old_states, [FLAGS.number_agents, 0, 0], \n",
    "                       [FLAGS.number_landmarks, FLAGS.dim_env, FLAGS.batch_size])\n",
    "    new_pos = tf.concat([new_pos_agents, new_pos_landmarks], axis = 0)\n",
    "    \n",
    "    new_gazes_agents = old_gazes + new_delta_gazes*FLAGS.delta_t*FLAGS.delta_t\n",
    "    new_gazes_landmarks = tf.zeros([FLAGS.number_landmarks, FLAGS.dim_env, FLAGS.batch_size])\n",
    "    new_gazes = tf.concat([new_gazes_agents, new_gazes_landmarks], axis = 0)\n",
    "    \n",
    "    new_velocity_agents = (1 - FLAGS.damping_coef)*old_velocity + new_velocities*FLAGS.delta_t\n",
    "    new_velocity_landmarks = tf.zeros([FLAGS.number_landmarks, FLAGS.dim_env, FLAGS.batch_size])\n",
    "    new_velocity = tf.concat([new_velocity_agents, new_velocity_landmarks], axis = 0)\n",
    "    \n",
    "    colors = tf.slice(old_states, [0, 3*FLAGS.dim_env, 0], [FLAGS.number_agents + FLAGS.number_landmarks, \n",
    "                                                            FLAGS.color_size, FLAGS.batch_size])\n",
    "    \n",
    "    new_pos = tf.zeros([5, 2, 100])\n",
    "    new_velocity = tf.zeros([5, 2, 100])\n",
    "    new_states = tf.concat([new_pos, new_velocity, new_gazes, colors], axis = 1)\n",
    "\n",
    "    return new_states, new_pos, new_gazes\n",
    "\n",
    "\n",
    "\n",
    "def compute_new_memories(old_mem_com, old_mem_last, delta_mem_com, delta_mem_last):\n",
    "    new_memory_com = tf.tanh((2/3)*(old_mem_com + delta_mem_com + tf.random_normal([FLAGS.number_agents, FLAGS.mem_size,\n",
    "                                                                             FLAGS.batch_size], FLAGS.stddev_memory)))\n",
    "    new_memory_last = tf.tanh((2/3)*(old_mem_last + delta_mem_last + tf.random_normal([FLAGS.number_agents, FLAGS.mem_size,\n",
    "                                                   FLAGS.batch_size], FLAGS.stddev_memory)))\n",
    "    \n",
    "    #new_memory_com = tf.zeros([FLAGS.number_agents, 32, FLAGS.batch_size])\n",
    "    #new_memory_last = tf.zeros([FLAGS.number_agents, 32, FLAGS.batch_size])\n",
    "    return new_memory_com,new_memory_last\n",
    "\n",
    "\n",
    "\n",
    "def shuffle(x, name_targets, colors = False, goal = False):\n",
    "    slices_second_dim = []\n",
    "    ones = tf.ones([FLAGS.number_agents, 1, FLAGS.batch_size], tf.int32)\n",
    "    batch_num = tf.tile(tf.reshape(tf.range(0, FLAGS.batch_size, dtype = tf.int32), [1, 1, FLAGS.batch_size]), [FLAGS.number_agents,\n",
    "                                                                                                               1, 1])\n",
    "    if (not colors) and (not goal):\n",
    "        for i in range(FLAGS.dim_env):\n",
    "            slices_second_dim.append(tf.reshape(tf.concat([name_targets, ones*i, batch_num], axis = 1), \n",
    "                                            [FLAGS.number_agents, 1, 3, FLAGS.batch_size]))\n",
    "    if colors:\n",
    "        for i in range(FLAGS.color_size):\n",
    "            slices_second_dim.append(tf.reshape(tf.concat([name_targets, ones*i, batch_num], axis = 1), \n",
    "                                            [FLAGS.number_agents, 1, 3, FLAGS.batch_size]))\n",
    "            \n",
    "    if goal:\n",
    "        for i in range(2):\n",
    "            slices_second_dim.append(tf.reshape(tf.concat([name_targets, ones*i, batch_num], axis = 1), \n",
    "                                            [FLAGS.number_agents, 1, 3, FLAGS.batch_size]))   \n",
    "    \n",
    "            \n",
    "    gathering_tensor = tf.transpose(tf.concat(slices_second_dim, axis = 1), perm = [0, 1, 3, 2])\n",
    "    shuffled_x = tf.gather_nd(x, gathering_tensor)\n",
    "    \n",
    "    return shuffled_x\n",
    "    \n",
    "    \n",
    "def compute_reward(positions, gazes, outputs, utterances, name_targets, goals_loc, goals_types):\n",
    "    shuffled_positions = shuffle(positions, name_targets)\n",
    "    shuffled_gazes = shuffle(gazes, name_targets)\n",
    "\n",
    "    pos_distances = tf.reshape(tf.reduce_sum(tf.square((shuffled_positions - goals_loc)), axis = 1), [FLAGS.number_agents, 1, \n",
    "                                                                                                     FLAGS.batch_size])\n",
    "\n",
    "    gaze_distances = tf.reshape(tf.reduce_sum(tf.square((shuffled_gazes - goals_loc)), axis = 1), [FLAGS.number_agents, 1,\n",
    "                                                                                                     FLAGS.batch_size])\n",
    "    zeros = tf.zeros([FLAGS.number_agents, 1, FLAGS.batch_size])\n",
    "    x = tf.concat([pos_distances, gaze_distances, zeros], axis = 1)\n",
    "\n",
    "    dists_goal = -tf.reduce_sum(tf.multiply(x, goals_types), axis = 1)\n",
    "    \n",
    "    utterances_term = -tf.reduce_sum(tf.square(utterances), axis = 1)\n",
    "   # utterances_term = -tf.reduce_sum(tf.square(tf.slice(utterances, [0, 1, 0], [FLAGS.number_agents, (FLAGS.vocabulary_size-1), FLAGS.batch_size])), axis = 1)\n",
    "    output_term = -tf.reduce_sum(tf.square(outputs), axis = 1)\n",
    "    \n",
    "    reward_by_batch = tf.reshape(tf.reduce_sum(dists_goal + utterances_term + output_term, axis = 0), [FLAGS.batch_size, 1])\n",
    "\n",
    "    return reward_by_batch\n",
    "\n",
    "\n",
    "\n",
    "def compute_goal_dist(states, goal_location, goal_type):\n",
    "    dist_positions = np.reshape(np.sqrt(np.sum((states[0:FLAGS.number_agents, 0:2, :] - goal_location)**2, axis = 1)), [FLAGS.number_agents, 1, FLAGS.batch_size])\n",
    "    dist_gazes = np.reshape(np.sqrt(np.sum((states[0:FLAGS.number_agents, 4:6, :] - goal_location)**2, axis = 1)), [FLAGS.number_agents, 1, FLAGS.batch_size])\n",
    "    v = np.concatenate([dist_positions, dist_gazes, np.zeros((FLAGS.number_agents, 1, FLAGS.batch_size))], axis = 1)\n",
    "    goal_distances = np.sum(np.multiply(v, goal_type), axis = 1)\n",
    "    \n",
    "    return goal_distances\n",
    "\n",
    "\n",
    "def print_stats_agent(states, goal_location, goal_type, targets):\n",
    "    #Only considering non \"do nothing goals\"\n",
    "    shuffled_states = python_shuffle(states, targets)\n",
    "    goal_distances = compute_goal_dist(shuffled_states, goal_location, goal_type)\n",
    "    \n",
    "    for i in range(FLAGS.number_agents):\n",
    "        distances_agents = goal_distances[i, :]\n",
    "        goal_wo_zeros = distances_agents[distances_agents != 0]\n",
    "        mean = np.mean(goal_wo_zeros)\n",
    "        median = np.median(goal_wo_zeros)\n",
    "        third_quart = np.percentile(goal_wo_zeros, 75)\n",
    "        nine_pct = np.percentile(goal_wo_zeros, 90)\n",
    "        max_dist = np.max(distances_agents)\n",
    "        argmax = np.argmax(distances_agents)\n",
    "        print(\"--- Agent \" + str(i))\n",
    "        print(\"------ Mean distance \" + str(mean))\n",
    "        print(\"------ Median distance \" + str(median))\n",
    "        print(\"------ Third quartile \" + str(third_quart))\n",
    "        print(\"------ Ninetieth percentile \" + str(nine_pct))\n",
    "        print(\"------ max distance \" + str(max_dist))\n",
    "        print(\"------ argmax distance \" + str(argmax))"
   ]
  },
  {
   "cell_type": "markdown",
   "metadata": {},
   "source": [
    "## Definition of the physical network"
   ]
  },
  {
   "cell_type": "code",
   "execution_count": 78,
   "metadata": {
    "collapsed": true
   },
   "outputs": [],
   "source": [
    "class PhysicalNet: \n",
    "    \n",
    "    def __init__(self):\n",
    "        self.input_size = 3*FLAGS.dim_env + FLAGS.color_size\n",
    "        \n",
    "        self.Weights = []\n",
    "        self.Biases = []\n",
    "        \n",
    "        self.init_weights()\n",
    "        self.init_biases()\n",
    "        \n",
    "    def init_weights(self):\n",
    "        #Initialization of the weights of all the networks' layers\n",
    "        #Weights are 3 dimensional arrays: [number of agents, number of units, number of inputs]\n",
    "        #This shape enables us to handle all the agents/landmarks states at once, instead of dealing with list of agents' states\n",
    "        with tf.variable_scope(\"phys_variable\") as scope:\n",
    "            for i in range(FLAGS.number_layers):\n",
    "                if i == 0:\n",
    "                    W = tf.tile(tf.get_variable(\"weight_\" + str(i), shape=[1, FLAGS.layer_sizes, self.input_size],\n",
    "                                        initializer=tf.orthogonal_initializer()),\n",
    "                                [1 + FLAGS.number_landmarks, 1, 1])\n",
    "                               # [FLAGS.number_agents + FLAGS.number_landmarks, 1, 1])\n",
    "                    tf.summary.histogram('phys_net_weight_'+ str(i), W)\n",
    "                elif i != (FLAGS.number_layers - 1):\n",
    "                    W = tf.tile(tf.get_variable(\"weight_\" + str(i), shape=[1, FLAGS.layer_sizes, FLAGS.layer_sizes],\n",
    "                                        initializer=tf.orthogonal_initializer()),\n",
    "                                [1 + FLAGS.number_landmarks, 1, 1])\n",
    "                                #[FLAGS.number_agents + FLAGS.number_landmarks, 1, 1])\n",
    "                    tf.summary.histogram('phys_net_weight_'+ str(i), W)\n",
    "                else:\n",
    "                    W = tf.tile(tf.get_variable(\"weight_\" + str(i), shape=[1, FLAGS.output_size, FLAGS.layer_sizes],\n",
    "                                        initializer=tf.orthogonal_initializer()), \n",
    "                                [1 + FLAGS.number_landmarks, 1, 1])\n",
    "                                #[FLAGS.number_agents + FLAGS.number_landmarks, 1, 1])\n",
    "                    tf.summary.histogram('phys_net_weight_'+ str(i), W)\n",
    "\n",
    "                self.Weights.append(W)\n",
    "            \n",
    "    def init_biases(self):\n",
    "        #Initialization of the weights of all the networks' biases.\n",
    "        # Same remark as the weights concerning the shapes of the biases.\n",
    "        with tf.variable_scope(\"phys_variable\") as scope:\n",
    "            for i in range(FLAGS.number_layers):\n",
    "                if i < (FLAGS.number_layers - 1):\n",
    "                    B = tf.tile(tf.get_variable(\"bias_\" + str(i), shape=[1, FLAGS.layer_sizes, 1],\n",
    "                                            initializer=tf.orthogonal_initializer()),\n",
    "                                [1 + FLAGS.number_landmarks, 1, 1])\n",
    "                                #[FLAGS.number_agents + FLAGS.number_landmarks, 1, 1])\n",
    "                    tf.summary.histogram('phys_net_bias_'+ str(i), B)\n",
    "                else:\n",
    "                    B = tf.tile(tf.get_variable(\"bias_\" + str(i), shape=[1, FLAGS.output_size, 1],\n",
    "                                            initializer=tf.orthogonal_initializer()),\n",
    "                                [1 + FLAGS.number_landmarks, 1, 1])\n",
    "                                #[FLAGS.number_agents + FLAGS.number_landmarks, 1, 1])\n",
    "                    \n",
    "                self.Biases.append(B)\n",
    "            \n",
    "            \n",
    "    def compute_output(self, x): \n",
    "        # Compute a forward pass through the network\n",
    "        # Input: a tensor of shape [number of agents, size of input, batch _size]\n",
    "        # Output: a tensor of shape [number of agents, output_size, batch_size]\n",
    "            for i in range(FLAGS.number_layers):\n",
    "                W = self.Weights[i]\n",
    "                b = self.Biases[i]\n",
    "                if i != (FLAGS.number_layers - 1):\n",
    "                    x = tf.nn.dropout(activation_function(tf.matmul(W, x) + b), keep_prob = FLAGS.keep_prob)\n",
    "                else:\n",
    "                    x = activation_function(tf.matmul(W, x) + b)\n",
    "            \n",
    "            return x"
   ]
  },
  {
   "cell_type": "markdown",
   "metadata": {},
   "source": [
    "## Definition of the communication network"
   ]
  },
  {
   "cell_type": "code",
   "execution_count": 79,
   "metadata": {
    "collapsed": true
   },
   "outputs": [],
   "source": [
    "class CommunicationNet: \n",
    "    \n",
    "    def __init__(self):    \n",
    "        self.Weights = []\n",
    "        self.Biases = []\n",
    "        self.Weight_read_mem = tf.tile(tf.get_variable(\"com_memory_read_weight\", shape = [1, FLAGS.output_size, FLAGS.mem_size],\n",
    "                                               initializer=tf.orthogonal_initializer()),\n",
    "                                               [FLAGS.number_agents, 1, 1])\n",
    "        \n",
    "        self.init_weights()    \n",
    "        self.init_biases()\n",
    "        self.def_delta_mem()\n",
    "        self.def_pred_layer()\n",
    "        \n",
    "        \n",
    "    def init_weights(self):\n",
    "        #Initialization of the weights of all the networks' layers\n",
    "        #Weights are 3 dimensional arrays: [number of agents, number of units, vocabulary size]\n",
    "        #This shape enables us to handle all the agents utterances at once, instead of dealing with list of agents' states        \n",
    "        with tf.variable_scope(\"com_variable\") as scope:\n",
    "            for i in range(FLAGS.number_layers):\n",
    "                if i == 0:\n",
    "                    W = tf.tile(tf.get_variable(\"com_net_weight_\" + str(i), shape=[1, FLAGS.layer_sizes, FLAGS.vocabulary_size],\n",
    "                                        initializer=tf.orthogonal_initializer()),\n",
    "                                        [FLAGS.number_agents, 1, 1])\n",
    "                    tf.summary.histogram('com_net_weight_'+ str(i), W)\n",
    "                elif i != (FLAGS.number_layers - 1):\n",
    "                    W = tf.tile(tf.get_variable(\"com_net_weight_\" + str(i), shape=[1, FLAGS.layer_sizes, FLAGS.layer_sizes],\n",
    "                                        initializer=tf.orthogonal_initializer()), \n",
    "                                        [FLAGS.number_agents, 1, 1])\n",
    "                    tf.summary.histogram('com_net_weight_'+ str(i), W)\n",
    "                else:\n",
    "                    W = tf.tile(tf.get_variable(\"com_net_weight_\" + str(i), shape=[1, FLAGS.output_size, FLAGS.layer_sizes],\n",
    "                                        initializer=tf.orthogonal_initializer()),\n",
    "                                        [FLAGS.number_agents, 1, 1])\n",
    "\n",
    "                    tf.summary.histogram('com_net_weight_'+ str(i), W)\n",
    "\n",
    "                self.Weights.append(W)\n",
    "       \n",
    "    \n",
    "    def init_biases(self):\n",
    "        #Initialization of the weights of all the networks' biases.\n",
    "        # Same remark as the weights concerning the shapes of the biases.\n",
    "        with tf.variable_scope(\"com_variable\") as scope:\n",
    "            for i in range(FLAGS.number_layers):\n",
    "                if i < (FLAGS.number_layers - 1):\n",
    "                    B = tf.tile(tf.get_variable(\"com_net_bias_\" + str(i), shape = [1, FLAGS.layer_sizes, 1], \n",
    "                                   initializer = tf.orthogonal_initializer()), \n",
    "                                    [FLAGS.number_agents, 1, 1])\n",
    "                    tf.summary.histogram('com_net_bias_'+ str(i), B)\n",
    "                else:\n",
    "                    B = tf.tile(tf.get_variable(\"com_net_bias_\" + str(i), shape = [1, FLAGS.output_size, 1], \n",
    "                                   initializer = tf.orthogonal_initializer()), \n",
    "                                    [FLAGS.number_agents, 1, 1])  \n",
    "                    \n",
    "                self.Biases.append(B)\n",
    "       \n",
    "    \n",
    "    def def_delta_mem(self):\n",
    "        # Initialization of the weights and biases writing in the memory.\n",
    "        # Their shape are of the form [number of agents, memory_size, output size] and [number of agents, output size, 1]\n",
    "        # So that we can handle the memories of all agents at onces instead of dealing with list of memories.\n",
    "        self.W_mem = tf.tile(tf.get_variable(\"weight_mem_com\" , shape=[1, FLAGS.mem_size,FLAGS.output_size],\n",
    "                            initializer=tf.orthogonal_initializer()), \n",
    "                             [FLAGS.number_agents, 1, 1])\n",
    "        self.b_mem = tf.tile(tf.get_variable(\"bias_mem_com\", shape = [1, FLAGS.mem_size, 1],\n",
    "                            initializer=tf.orthogonal_initializer()),\n",
    "                             [FLAGS.number_agents, 1, 1])\n",
    "\n",
    "      \n",
    "    def def_pred_layer(self):\n",
    "        self.W_pred = tf.tile(tf.get_variable(\"weight_pred_com\" , shape=[1, FLAGS.number_goal_types + FLAGS.dim_env + 3,FLAGS.output_size],\n",
    "                            initializer=tf.orthogonal_initializer()), \n",
    "                             [FLAGS.number_agents, 1, 1])\n",
    "        self.b_pred = tf.tile(tf.get_variable(\"bias_pred_com\", shape = [1, FLAGS.number_goal_types + FLAGS.dim_env + 3, 1],\n",
    "                            initializer=tf.orthogonal_initializer()),\n",
    "                             [FLAGS.number_agents, 1, 1])\n",
    "        \n",
    "    def compute_output(self, x, memory):\n",
    "        for i in range(FLAGS.number_layers):\n",
    "            W = self.Weights[i]\n",
    "            b = self.Biases[i]\n",
    "            if i != (FLAGS.number_layers - 1):\n",
    "                x = tf.nn.dropout(activation_function(tf.matmul(W, x) + b), keep_prob = FLAGS.keep_prob)\n",
    "            else:\n",
    "                x = activation_function(tf.matmul(W, x) + tf.matmul(self.Weight_read_mem, memory) + b)\n",
    "                \n",
    "            \n",
    "        delta_mem = activation_function(tf.add(tf.matmul(self.W_mem, x),self.b_mem))\n",
    "        predicted_goal = tf.matmul(self.W_pred, x) + self.b_pred\n",
    "        return x, delta_mem, predicted_goal"
   ]
  },
  {
   "cell_type": "markdown",
   "metadata": {},
   "source": [
    "## Definition of the last network"
   ]
  },
  {
   "cell_type": "code",
   "execution_count": 80,
   "metadata": {
    "collapsed": true
   },
   "outputs": [],
   "source": [
    "class LastNet: \n",
    "    \n",
    "    def __init__(self):\n",
    "        self.input_size = 2*FLAGS.output_size + FLAGS.color_size + FLAGS.number_goal_types + FLAGS.dim_env\n",
    "        #self.input_size = 2*FLAGS.output_size + FLAGS.color_size + FLAGS.number_goal_types + FLAGS.number_landmarks\n",
    "        self.output_size = 2*FLAGS.dim_env + FLAGS.vocabulary_size\n",
    "        self.Weights = []\n",
    "        self.Biases = []\n",
    "        self.Weight_read_mem = tf.tile(tf.get_variable(\"reading_last_mem_weight\", shape = [1, self.output_size, FLAGS.last_mem_size],\n",
    "                                              initializer=tf.orthogonal_initializer()),\n",
    "                                               [FLAGS.number_agents, 1, 1])\n",
    "        \n",
    "        self.init_weights()    \n",
    "        self.init_biases()\n",
    "        self.def_delta_mem()\n",
    "        \n",
    "        \n",
    "    def init_weights(self):\n",
    "        with tf.variable_scope(\"last_variable\") as scope:\n",
    "            for i in range(FLAGS.number_layers):\n",
    "                if i == 0:\n",
    "                    W = tf.tile(tf.get_variable(\"last_net_weight_\" + str(i), shape=[1, FLAGS.layer_sizes, self.input_size],\n",
    "                                        initializer=tf.orthogonal_initializer()), \n",
    "                                [FLAGS.number_agents, 1, 1])\n",
    "                    tf.summary.histogram('last_net_weight_'+ str(i), W)\n",
    "                elif i != (FLAGS.number_layers - 1):\n",
    "                    W = tf.tile(tf.get_variable(\"last_net_weight_\" + str(i), shape=[1, FLAGS.layer_sizes, FLAGS.layer_sizes],\n",
    "                                        initializer=tf.orthogonal_initializer()),\n",
    "                                [FLAGS.number_agents, 1, 1])\n",
    "                    tf.summary.histogram('last_net_weight_'+ str(i), W)\n",
    "                else:\n",
    "                    W = tf.tile(tf.get_variable(\"last_net_weight_\" + str(i), shape=[1, self.output_size, FLAGS.layer_sizes],\n",
    "                                        initializer=tf.orthogonal_initializer()),\n",
    "                                [FLAGS.number_agents, 1, 1])\n",
    "                    #W = tf.tile(tf.get_variable(\"last_net_weight_\" + str(i), shape=[1, 2, FLAGS.layer_sizes],\n",
    "                    #                    initializer=tf.orthogonal_initializer()),\n",
    "                    #            [FLAGS.number_agents, 1, 1])\n",
    "                    tf.summary.histogram('last_net_weight_'+ str(i), W)\n",
    "\n",
    "                self.Weights.append(W)\n",
    "            \n",
    "    def init_biases(self):\n",
    "        with tf.variable_scope(\"last_variable\") as scope:\n",
    "            for i in range(FLAGS.number_layers):\n",
    "                if i != (FLAGS.number_layers - 1):\n",
    "                    B = tf.tile(tf.get_variable(\"last_net_bias_\" + str(i), shape = [1, FLAGS.layer_sizes, 1], \n",
    "                                        initializer=tf.orthogonal_initializer()),\n",
    "                                [FLAGS.number_agents, 1, 1])\n",
    "                    tf.summary.histogram('last_net_bias_'+ str(i), B)\n",
    "                else:\n",
    "                    B = tf.tile(tf.get_variable(\"last_net_bias_\" + str(i), shape = [1, self.output_size, 1], \n",
    "                                        initializer=tf.orthogonal_initializer()),\n",
    "                                [FLAGS.number_agents, 1, 1])\n",
    "                    #B = tf.tile(tf.get_variable(\"last_net_bias_\" + str(i), shape = [1, 2, 1], \n",
    "                    #                    initializer=tf.orthogonal_initializer()),\n",
    "                    #            [FLAGS.number_agents, 1, 1])\n",
    "                    tf.summary.histogram('last_net_bias_'+ str(i), B)\n",
    "\n",
    "                self.Biases.append(B)\n",
    "\n",
    "        \n",
    "    def def_delta_mem(self):\n",
    "        self.W_mem = tf.tile(tf.get_variable(\"weight_mem_last\", shape=[1, FLAGS.last_mem_size ,self.output_size],\n",
    "                                initializer=tf.orthogonal_initializer()),\n",
    "                                 [FLAGS.number_agents, 1, 1])\n",
    "        self.b_mem = tf.tile(tf.get_variable(\"bias_mem_last\" ,shape = [1, FLAGS.last_mem_size, 1], \n",
    "                                    initializer=tf.orthogonal_initializer()),\n",
    "                                  [FLAGS.number_agents, 1, 1])\n",
    "        \n",
    "    def compute_output(self, x, memory):\n",
    "        for i in range(FLAGS.number_layers):\n",
    "            W = self.Weights[i]\n",
    "            b = self.Biases[i]\n",
    "            if i != (FLAGS.number_layers - 1):\n",
    "                x = tf.nn.dropout(activation_function(tf.matmul(W, x) + b), keep_prob = FLAGS.keep_prob)\n",
    "            else:\n",
    "                x = activation_function(tf.matmul(W, x) + tf.matmul(self.Weight_read_mem, memory) + b)\n",
    "                \n",
    "               \n",
    "        delta_mem = activation_function(tf.add(tf.matmul(self.W_mem, x),self.b_mem))\n",
    "        \n",
    "        return x , delta_mem"
   ]
  },
  {
   "cell_type": "markdown",
   "metadata": {},
   "source": [
    "## Definition of the policy: putting all the networks together"
   ]
  },
  {
   "cell_type": "code",
   "execution_count": 81,
   "metadata": {
    "collapsed": true
   },
   "outputs": [],
   "source": [
    "class Policy:\n",
    "    \n",
    "    def __init__(self):\n",
    "        self.phys_network = PhysicalNet()\n",
    "        self.comm_network = CommunicationNet()\n",
    "        self.last_network = LastNet()\n",
    "        \n",
    "        self.define_placeholders()\n",
    "        self.define_full_goals()\n",
    "        \n",
    "        \n",
    "    def define_placeholders(self):\n",
    "        self.states = tf.placeholder(tf.float32, [FLAGS.number_agents + FLAGS.number_landmarks, \n",
    "                                                  3*FLAGS.dim_env + FLAGS.color_size, FLAGS.batch_size])\n",
    "        self.utterances = tf.placeholder(tf.float32, [FLAGS.number_agents, FLAGS.vocabulary_size, FLAGS.batch_size])\n",
    "        self.memories_com = tf.placeholder(tf.float32, [FLAGS.number_agents, FLAGS.mem_size, FLAGS.batch_size])\n",
    "        self.memories_last = tf.placeholder(tf.float32, [FLAGS.number_agents, FLAGS.last_mem_size, FLAGS.batch_size])\n",
    "        self.goal_types = tf.placeholder(tf.float32, [FLAGS.number_agents, FLAGS.number_goal_types, FLAGS.batch_size])\n",
    "        self.goal_locations = tf.placeholder(tf.float32, [FLAGS.number_agents, FLAGS.dim_env, FLAGS.batch_size])\n",
    "        #self.which_landmarks = tf.placeholder(tf.float32, [FLAGS.number_agents, FLAGS.number_landmarks, FLAGS.batch_size])\n",
    "        self.name_targets = tf.placeholder(tf.int32, [FLAGS.number_agents, 1, FLAGS.batch_size])\n",
    "        #self.colors = tf.placeholder(tf.float32, [FLAGS.number_agents, FLAGS.color_size, FLAGS.batch_size])\n",
    "        \n",
    "        \n",
    "    def define_full_goals(self):\n",
    "        colors = tf.slice(self.states, [0, 3*FLAGS.dim_env, 0], [FLAGS.number_agents, FLAGS.color_size, FLAGS.batch_size])\n",
    "        shuffled_colors = shuffle(colors, self.name_targets, colors = True)\n",
    "        #shuffled_goal_loc = shuffle(self.goal_locations, self.name_targets, colors = False, goal = True)\n",
    "        #self.full_goals = tf.concat([self.goal_types, self.goal_locations, shuffled_colors], axis = 1)\n",
    "        #shuffled_colors = tf.zeros([FLAGS.number_agents, FLAGS.color_size, FLAGS.batch_size])\n",
    "        self.full_goals = tf.concat([self.goal_types, self.goal_locations, shuffled_colors], axis = 1)\n",
    "        #self.full_goals = tf.concat([self.goal_types, self.which_landmarks, shuffled_colors], axis = 1)\n",
    "\n",
    "    \n",
    "    def get_placeholders(self):\n",
    "        return [self.states, self.utterances, self.memories_com, self.memories_last, self.goal_types, self.goal_locations, \n",
    "                self.full_goals, self.name_targets]#, self.which_landmarks]\n",
    "        \n",
    "    def forward_pass(self, states, utterances, mem, mem_last, goals_last):\n",
    "        #Step 1: processing observed states and utterances\n",
    "        \n",
    "        soft_outputs_phys = []\n",
    "        for i in range(FLAGS.number_agents):\n",
    "            st_agent = tf.slice(states, [i, 0, 0], [1, FLAGS.dim_env*3+FLAGS.color_size, FLAGS.batch_size])\n",
    "            st_landmarks = tf.slice(states, [FLAGS.number_agents, 0, 0], [FLAGS.number_landmarks, FLAGS.dim_env*3+FLAGS.color_size, FLAGS.batch_size])\n",
    "            st = tf.concat([st_agent, st_landmarks], axis = 0)\n",
    "            softmax_output = softmax_pooling(self.phys_network.compute_output(st))\n",
    "            soft_outputs_phys.append(tf.reshape(softmax_output, [1, FLAGS.output_size, FLAGS.batch_size]))\n",
    "            \n",
    "            \n",
    "        comm_output, new_mem_com, predicted_goal = self.comm_network.compute_output(utterances, mem)\n",
    "        \n",
    "        #Step 2: softmax pooling the results [num_agents, output size, batch_size] --> [1, output size, batch_size]\n",
    "        #PhiX = softmax_pooling(phys_output)\n",
    "        PhiX_last = tf.concat(soft_outputs_phys, axis = 0)\n",
    "        PhiC = softmax_pooling(comm_output)\n",
    "        \n",
    "        #PhiX = tf.Print(PhiX_last, [tf.reduce_sum(tf.cast(tf.is_nan(PhiX_last), tf.float32)), \"PhiX\"])\n",
    "        #PhiC = tf.Print(PhiC, [tf.reduce_sum(tf.cast(tf.is_nan(PhiC), tf.float32)), \"PhiC\"])\n",
    "        \n",
    "        #Step 3: feeding the last network      \n",
    "        #PhiX_last = tf.tile(tf.reshape(PhiX, [1, FLAGS.output_size, FLAGS.batch_size]), [FLAGS.number_agents, 1, 1])\n",
    "        PhiC_last = tf.tile(tf.reshape(PhiC, [1, FLAGS.output_size, FLAGS.batch_size]), [FLAGS.number_agents, 1, 1])\n",
    "        \n",
    "        #input_last = tf.concat([PhiX_last, goals_last, PhiC_last], axis = 1)\n",
    "        input_last = tf.concat([PhiX_last, goals_last, PhiC_last], axis = 1)\n",
    "        \n",
    "        output_last, new_mem_last = self.last_network.compute_output(input_last, mem_last)\n",
    "        #output_last = self.last_network.compute_output(input_last, mem_last)\n",
    "        velocities_output, gazes_output = sample_phys(output_last)\n",
    "        utterances_output = gumbel_max_trick(output_last)\n",
    "        phys_output = tf.concat([velocities_output, gazes_output], axis = 1)\n",
    "        \n",
    "        return phys_output, velocities_output, gazes_output, utterances_output, new_mem_com, new_mem_last, predicted_goal\n",
    "        #return output_last\n",
    "    "
   ]
  },
  {
   "cell_type": "markdown",
   "metadata": {},
   "source": [
    "## Environment class definition"
   ]
  },
  {
   "cell_type": "code",
   "execution_count": 82,
   "metadata": {
    "collapsed": true
   },
   "outputs": [],
   "source": [
    "class Environment:\n",
    "    \n",
    "    def __init__(self):\n",
    "        self.enc = OneHotEncoder(n_values=FLAGS.number_goal_types, sparse=False)\n",
    "        self.colors = [(1, 0, 0), (0, 1, 0), (0, 0, 1)] \n",
    "        self.cols, self.cols_agents, self.cols_landmarks = self.create_colors()\n",
    "        self.colors_ld = np.stack([np.eye(FLAGS.number_landmarks) for i in range(FLAGS.batch_size)], axis = 2)\n",
    "    \n",
    "    \n",
    "    def create_colors(self):\n",
    "        cols_agents = np.concatenate([np.tile(np.reshape(self.colors[i], [1, FLAGS.color_size, 1]), [1, 1, FLAGS.batch_size]) \n",
    "                               for i in range(FLAGS.number_agents)], axis = 0)\n",
    "        cols_landmarks = np.concatenate([np.tile(np.reshape(self.colors[i], [1, FLAGS.color_size, 1]), [1, 1, FLAGS.batch_size]) \n",
    "                               for i in range(FLAGS.number_landmarks)], axis = 0)\n",
    "        \n",
    "        cols = np.concatenate([cols_agents, cols_landmarks], axis = 0)\n",
    "            \n",
    "        return cols, cols_agents, cols_landmarks\n",
    "            \n",
    "        \n",
    "    def create_consistent_targets(self):\n",
    "        #targets_by_exp = [np.random.choice(FLAGS.number_agents, (FLAGS.number_agents, 1), replace = False) for _ in range(FLAGS.batch_size)]\n",
    "        targets_by_exp = [np.array([[1], [0]]) for _ in range(FLAGS.batch_size)]\n",
    "        targets_batch = np.stack(targets_by_exp, axis = 2)\n",
    "        return targets_batch\n",
    "    \n",
    "    def create_goal_locations(self, pos_landmarks):\n",
    "        landmark_nb = [np.random.choice(FLAGS.number_landmarks, (FLAGS.number_agents, 1), replace = True) for _ in range(FLAGS.batch_size)]\n",
    "        landmark_nb_batch = np.stack(landmark_nb, axis = 2)\n",
    "        \n",
    "        goal_loc = python_shuffle(pos_landmarks, landmark_nb_batch)\n",
    "        which_landmark = python_shuffle(self.colors_ld, landmark_nb_batch)\n",
    "        \n",
    "        return goal_loc, which_landmark\n",
    "        \n",
    "        \n",
    "    def random_generation(self):\n",
    "        positions_agents = np.random.uniform(-FLAGS.bound, FLAGS.bound, (FLAGS.number_agents, \n",
    "                                                                  FLAGS.dim_env, FLAGS.batch_size))\n",
    "        \n",
    "        #positions_agents = np.array([[[1 for i in range(100)], [1 for i in range(100)]], [[1 for i in range(100)], [1 for i in range(100)]]])\n",
    "        \n",
    "        #positions_landmarks = np.random.uniform(-FLAGS.bound, FLAGS.bound, (FLAGS.number_landmarks, \n",
    "        #                                                          FLAGS.dim_env, FLAGS.batch_size))\n",
    "        positions_landmarks = np.array([[[-3 for i in range(FLAGS.batch_size)], [-3 for i in range(FLAGS.batch_size)]], [[ 2.5 for i in range(FLAGS.batch_size)], [-1 for i in range(FLAGS.batch_size)]], [[1.5 for i in range(FLAGS.batch_size)], [2 for i in range(FLAGS.batch_size)]]])\n",
    "        #positions_landmarks = np.array([[[-4 for i in range(100)], [-4 for i in range(100)]], [[4 for i in range(100)], [4 for i in range(100)]]])\n",
    "\n",
    "\n",
    "        positions = np.concatenate([positions_agents, positions_landmarks], axis = 0)\n",
    "        \n",
    "        gazes = np.random.uniform(-FLAGS.bound, FLAGS.bound, (FLAGS.number_agents + FLAGS.number_landmarks, \n",
    "                                                                  FLAGS.dim_env, FLAGS.batch_size))\n",
    "        #gazes_agents = np.array([[[1 for i in range(100)], [1 for i in range(100)]], [[1 for i in range(100)], [1 for i in range(100)]]])\n",
    "        #gazes = np.concatenate([gazes_agents, gazes_landmarks], axis = 0)\n",
    "        #velocities = np.random.uniform(-FLAGS.bound, FLAGS.bound, (FLAGS.number_agents + FLAGS.number_landmarks, \n",
    "        #                                                     FLAGS.dim_env, FLAGS.batch_size))\n",
    "        \n",
    "        velocities = np.zeros([FLAGS.number_agents + FLAGS.number_landmarks, FLAGS.dim_env, FLAGS.batch_size])\n",
    "        \n",
    "        #goal_locations = np.random.uniform(-FLAGS.bound, FLAGS.bound, [FLAGS.number_agents, \n",
    "        #                                                          FLAGS.dim_env, FLAGS.batch_size])\n",
    " \n",
    "        goal_locations, which_landmarks = self.create_goal_locations(positions_landmarks)\n",
    "        \n",
    "        #goal_types = np.concatenate([np.reshape(np.transpose(self.enc.fit_transform(\n",
    "        #                np.random.choice(FLAGS.number_goal_types, FLAGS.batch_size).reshape(-1,1))), \n",
    "        #                          [1, FLAGS.number_goal_types, FLAGS.batch_size]) for _ in range(FLAGS.number_agents)], axis = 0)\n",
    "\n",
    "        #goal_types = np.array([[[0 for i in range(FLAGS.batch_size)], [1 for i in range(FLAGS.batch_size)], [0 for i in range(FLAGS.batch_size)]], [[1 for i in range(FLAGS.batch_size)], [0 for i in range(FLAGS.batch_size)], [0 for i in range(FLAGS.batch_size)]], [[1 for i in range(FLAGS.batch_size)], [0 for i in range(FLAGS.batch_size)], [0 for i in range(FLAGS.batch_size)]]])\n",
    "        \n",
    "        goal_types = np.array([[[0 for i in range(FLAGS.batch_size)], [1 for i in range(FLAGS.batch_size)], [0 for i in range(FLAGS.batch_size)]], [[0 for i in range(FLAGS.batch_size)], [1 for i in range(FLAGS.batch_size)], [0 for i in range(FLAGS.batch_size)]]])\n",
    "        #goal_types = np.concatenate([np.reshape(np.transpose(self.enc.fit_transform(\n",
    "        #                np.random.choice([0,1], FLAGS.batch_size).reshape(-1,1))), \n",
    "        #                          [1, FLAGS.number_goal_types, FLAGS.batch_size]) for _ in range(FLAGS.number_agents)], axis = 0)\n",
    "\n",
    "\n",
    "        #goal_types = np.array([[[0 for i in range(FLAGS.batch_size)], [1 for i in range(FLAGS.batch_size)], [0 for i in range(FLAGS.batch_size)]] for m in range(2)])\n",
    "        utterances = np.zeros((FLAGS.number_agents, FLAGS.vocabulary_size, FLAGS.batch_size))\n",
    "        memories_com = np.zeros((FLAGS.number_agents, FLAGS.mem_size, FLAGS.batch_size))\n",
    "        memories_last = np.zeros((FLAGS.number_agents, FLAGS.last_mem_size, FLAGS.batch_size))\n",
    "        \n",
    "        states = np.concatenate([positions, velocities, gazes, self.cols], axis = 1)\n",
    "        targets = self.create_consistent_targets()\n",
    "\n",
    "        return states, utterances, memories_com, memories_last, goal_locations, goal_types, targets, which_landmarks\n",
    "        \n",
    "        "
   ]
  },
  {
   "cell_type": "code",
   "execution_count": 83,
   "metadata": {
    "collapsed": true
   },
   "outputs": [],
   "source": [
    "def comp_return(output, full_goals, targets):\n",
    "    #shuffled_output = shuffle(output, targets)\n",
    "    shuffled_output = output\n",
    "    return -tf.reshape(tf.reduce_sum(tf.sqrt(tf.reduce_sum((shuffled_output - full_goals)**2, axis = 1)), axis = 0), [FLAGS.batch_size, 1])"
   ]
  },
  {
   "cell_type": "markdown",
   "metadata": {},
   "source": [
    "## Experiment definition"
   ]
  },
  {
   "cell_type": "code",
   "execution_count": 84,
   "metadata": {
    "collapsed": true
   },
   "outputs": [],
   "source": [
    "def check_nan(tensor):\n",
    "    nb_nan = np.sum(np.isnan(tensor))\n",
    "    if nb_nan == 0:\n",
    "        print(\"TRUETRUETRUETRUETRUETRUE\")\n",
    "        \n",
    "    return tensor"
   ]
  },
  {
   "cell_type": "code",
   "execution_count": 85,
   "metadata": {},
   "outputs": [],
   "source": [
    "class Experiment:\n",
    "    \n",
    "    def __init__(self):\n",
    "        self.policy = Policy()\n",
    "        self.env = Environment()\n",
    "        delete_history_files()\n",
    "        \n",
    "        self.get_placeholders()\n",
    "        self.definition_arrays()\n",
    "        self.write_arrays()\n",
    "        self.learning_rate = self.learning_rate_decay()\n",
    "        tf.summary.scalar('learning rate', self.learning_rate)\n",
    "        self.optimizer = tf.train.RMSPropOptimizer(self.learning_rate)\n",
    "        self.loop()\n",
    "        self.output_to_run = [self.step, self.array_states_stack, self.array_utterances_stack, self.array_mem_com_stack, self.array_mem_last_stack, self.array_pred_stack,\n",
    "                                self.f_g , self.array_outputs_stack, self.t_fin, self.reward, self.phys_reward, self.voc_reward, self.pred_reward]\n",
    "        self.merged = tf.summary.merge_all()\n",
    "        self.init = tf.global_variables_initializer()\n",
    "        \n",
    "        self.reward_history = []\n",
    "        self.reward_batch_history = []\n",
    "        self.voc_reward_history = []\n",
    "        self.pred_reward_history = []\n",
    "        self.env_history = []\n",
    "        self.arrays_history = []\n",
    "        self.mean_act_count = []\n",
    "        \n",
    "        self.utt_hist = []\n",
    "        self.grads_history = []\n",
    "        self.vars_history = []\n",
    "        \n",
    "        self.array_utt = []\n",
    "        \n",
    "        \n",
    "    def learning_rate_decay(self):\n",
    "        self.global_step = tf.Variable(0, trainable=False)\n",
    "        if FLAGS.learning_rate_decay:\n",
    "            starter_learning_rate = FLAGS.learning_rate\n",
    "            boundaries = [1500] #3000] #, 10000]\n",
    "            values = [FLAGS.learning_rate, FLAGS.learning_rate/10] #, FLAGS.learning_rate/100]\n",
    "            return tf.train.piecewise_constant(self.global_step, boundaries, values, name=None)\n",
    "            #return tf.train.exponential_decay(starter_learning_rate, self.global_step, 150, 0.5, staircase = True)#0.05#150\n",
    "        else:\n",
    "            return FLAGS.learning_rate\n",
    "        \n",
    "    def definition_arrays(self):\n",
    "        # Create goals vectors \n",
    "        self.array_states = tf.TensorArray(dtype = tf.float32, size = (FLAGS.time_horizon+1), clear_after_read = False)\n",
    "        self.array_utterances = tf.TensorArray(dtype = tf.float32, size = (FLAGS.time_horizon+1), clear_after_read = False)\n",
    "        self.array_mem_com = tf.TensorArray(dtype = tf.float32, size = (FLAGS.time_horizon+1), clear_after_read = False)\n",
    "        self.array_mem_last = tf.TensorArray(dtype = tf.float32, size = (FLAGS.time_horizon+1), clear_after_read = False)\n",
    "        self.array_outputs = tf.TensorArray(dtype = tf.float32, size = (FLAGS.time_horizon+1), clear_after_read = False)\n",
    "        self.array_pred = tf.TensorArray(dtype = tf.float32, size = (FLAGS.time_horizon+1), clear_after_read = False)\n",
    "        \n",
    "    def get_placeholders(self):\n",
    "        [self.states, self.utterances, self.mem_com, self.mem_last, self.goal_types, self.goal_locations, \n",
    "                self.full_goals, self.name_targets] = self.policy.get_placeholders()\n",
    "            \n",
    "            \n",
    "    def write_arrays(self):\n",
    "        self.array_states = self.array_states.write(0, self.states)\n",
    "        self.array_utterances = self.array_utterances.write(0, self.utterances)\n",
    "        self.array_mem_com = self.array_mem_com.write(0, self.mem_com)\n",
    "        self.array_mem_last = self.array_mem_last.write(0, self.mem_last)\n",
    "        self.array_outputs = self.array_outputs.write(0, np.zeros((FLAGS.number_agents, 4, FLAGS.batch_size), dtype = np.float32))\n",
    "        #self.array_outputs = self.array_outputs.write(0, np.zeros((FLAGS.number_agents, 2, FLAGS.batch_size), dtype = np.float32))\n",
    "        self.array_pred = self.array_pred.write(0, np.zeros((FLAGS.number_agents, FLAGS.number_goal_types + FLAGS.dim_env + 3, FLAGS.batch_size), dtype = np.float32))\n",
    "    \n",
    "    def loop(self):\n",
    "        t = tf.constant(0)\n",
    "        return_sofar = tf.zeros([FLAGS.batch_size, 1], tf.float32)\n",
    "        return_pred = tf.zeros([FLAGS.batch_size, 1], tf.float32)\n",
    "        #return_sofar = tf.zeros([2, FLAGS.batch_size], tf.float32)\n",
    "        args = [self.array_states, self.array_utterances, self.array_mem_com, self.array_mem_last, self.array_pred, self.goal_types, \n",
    "                self.goal_locations, self.full_goals, self.name_targets, self.array_outputs, t, return_sofar, return_pred]\n",
    "        \n",
    "        (array_states, array_utterances, array_mem_com, array_mem_last, array_pred, goal_types, goal_locations, full_goals, \n",
    "             name_targets, array_outputs, t_fin, rewards_batch, return_pred) = tf.while_loop(self.condition, self.body, args, parallel_iterations=1)\n",
    "        \n",
    "        self.array_states_stack = array_states.stack()\n",
    "        self.array_utterances_stack = array_utterances.stack() \n",
    "        self.array_mem_com_stack = array_mem_com.stack() \n",
    "        self.array_mem_last_stack = array_mem_last.stack() \n",
    "        self.array_outputs_stack = array_outputs.stack()\n",
    "        self.array_pred_stack = array_pred.stack()\n",
    "        \n",
    "        self.phys_reward = tf.reshape(tf.reduce_mean(rewards_batch, axis = 0), [])\n",
    "        self.pred_reward = tf.reshape(tf.reduce_mean(return_pred, axis = 0), [])\n",
    "        #self.phys_reward = tf.reshape(tf.reduce_mean(self.reward_batch), [])\n",
    "        self.voc_reward = dirichlet_log_lik_end(tf.slice(self.array_utterances_stack, [1, 0, 0, 0], [FLAGS.time_horizon, FLAGS.number_agents, FLAGS.vocabulary_size, FLAGS.batch_size]))\n",
    "        self.f_g = full_goals\n",
    "        self.t_fin = t_fin, \n",
    "        self.reward = tf.Print(self.phys_reward +self.pred_reward + 0.5*self.voc_reward, [\"END\", self.phys_reward, self.voc_reward]) #+ self.voc_reward\n",
    "        \n",
    "        tf.summary.scalar('accuracy', -self.reward)\n",
    "        self.grads = self.optimizer.compute_gradients(-self.reward)\n",
    "            \n",
    "        #self.clipped_gradients = [(tf.clip_by_norm(grad, 0.0001), var) for grad, var in self.grads]\n",
    "        self.step = self.optimizer.apply_gradients(self.grads, global_step=self.global_step)\n",
    "        for index, grad in enumerate(self.grads):\n",
    "            tf.summary.histogram(\"{}-grad\".format(self.grads[index][1].name), self.grads[index]) \n",
    "    \n",
    "        \n",
    "    def body(self, array_states, array_utterances, array_mem_com, array_mem_last, array_pred, goal_types, goal_locations, full_goals, \n",
    "             name_targets, array_outputs, t, return_sofar, return_pred_sofar):\n",
    "        \n",
    "        #Reading the last state of environment\n",
    "        states = array_states.read(t)\n",
    "        utterances = array_utterances.read(t)\n",
    "        mem_com = array_mem_com.read(t)\n",
    "        mem_last = array_mem_last.read(t)\n",
    "        \n",
    "        \n",
    "        phys_output, new_velocities, new_delta_gazes, new_utterances, delta_mem_com, delta_mem_last, pred = self.policy.forward_pass(states,\n",
    "                                                                    utterances, mem_com, mem_last, full_goals)\n",
    "        \n",
    "        #phys_output = self.policy.forward_pass(states, utterances, mem_com, mem_last, full_goals)\n",
    "\n",
    "        new_states, new_positions, new_gazes = compute_new_states(states, new_velocities, new_delta_gazes, new_utterances)\n",
    "        #new_utterances = tf.zeros([FLAGS.number_agents, FLAGS.vocabulary_size, FLAGS.batch_size])\n",
    "        new_mem_com, new_mem_last = compute_new_memories(mem_com, mem_last, delta_mem_com, delta_mem_last)\n",
    "        \n",
    "        return_sofar += compute_reward(new_positions, new_gazes, phys_output, new_utterances, name_targets, goal_locations, \n",
    "                                        goal_types)\n",
    "        \n",
    "        return_pred_sofar = comp_return(pred, full_goals, name_targets)\n",
    "        \n",
    "        #return_sofar += comp_return(phys_output, goal_locations, name_targets)\n",
    "\n",
    "        #Writing the new state\n",
    "        \n",
    "        array_states = array_states.write((t+1), new_states)\n",
    "        array_utterances = array_utterances.write((t+1), new_utterances)\n",
    "        array_mem_com = array_mem_com.write((t+1), new_mem_com)\n",
    "        array_mem_last = array_mem_last.write((t+1), new_mem_last)\n",
    "        array_outputs = array_outputs.write((t+1), phys_output)\n",
    "        array_pred = array_pred.write((t+1), pred)\n",
    "        \n",
    "        t += 1\n",
    "        \n",
    "        return [array_states, array_utterances, array_mem_com, array_mem_last, array_pred, goal_types, goal_locations, full_goals, \n",
    "             name_targets, array_outputs, t, return_sofar, return_pred_sofar]\n",
    "        \n",
    "        \n",
    "    def condition(self, array_states, array_utterances, array_mem_com, array_mem_last, array_pred, goal_types, goal_locations, full_goals, \n",
    "             name_targets, array_outputs, t, return_sofar, return_pred_sofar):\n",
    "        return tf.less(t, FLAGS.time_horizon)\n",
    "    \n",
    "    \n",
    "    def create_feed_dict(self, states, utterances, memories_com, memories_last, goal_locations, goal_types, targets, which_landmarks):\n",
    "        list_values = [states, utterances, memories_com, memories_last, goal_types, goal_locations, targets]#, which_landmarks]\n",
    "        list_placeholders = [self.states, self.utterances, self.mem_com, self.mem_last, self.goal_types, \n",
    "                             self.goal_locations, self.name_targets]#, self.which_landmarks]\n",
    "        feed_dict = {a:b for a,b in zip(list_placeholders, list_values)} #.update({self.learning_rate:self.lr})\n",
    "        return feed_dict\n",
    "    \n",
    "    def train(self, sess):\n",
    "        self.train_writer = tf.summary.FileWriter('Summary', sess.graph)\n",
    "        print(\"Initializing variables\")\n",
    "        sess.run(self.init)\n",
    "        sess.graph.finalize()\n",
    "        print(\"Start training\")\n",
    "        start = datetime.now()\n",
    "        self.arrays_history = [0, 0, 0, 0, 0]\n",
    "        self.full_g = []\n",
    "        #states, utterances, memories_com, memories_last, goal_locations, goal_types, targets, which_landmarks = self.env.random_generation()\n",
    "        for i in range(FLAGS.max_steps):            \n",
    "            states, utterances, memories_com, memories_last, goal_locations, goal_types, targets, which_landmarks = self.env.random_generation()\n",
    "            generation_time = datetime.now() - start\n",
    "            feed_dict = self.create_feed_dict(states, utterances, memories_com, memories_last, goal_locations, goal_types, targets, which_landmarks)\n",
    "            if (i+1) % FLAGS.tensorboard_freq == 0:\n",
    "                _ , array_states, array_utterances, array_mem_com, array_mem_last, array_pred, full_goals, array_outputs, t, reward, phys_reward, voc_reward, pred_reward, summary = sess.run(self.output_to_run + [self.merged], feed_dict)\n",
    "                self.train_writer.add_summary(summary, i)\n",
    "            else:\n",
    "                _ , array_states, array_utterances, array_mem_com, array_mem_last, array_pred, full_goals, array_outputs, t, reward, phys_reward, voc_reward, pred_reward = sess.run(self.output_to_run, feed_dict)\n",
    "            \n",
    "            \n",
    "            self.reward_history.append(reward)\n",
    "            self.pred_reward_history.append(pred_reward)\n",
    "            self.voc_reward_history.append(voc_reward)\n",
    "            self.arrays_history = [array_states, array_utterances, array_mem_com, array_mem_last, full_goals, array_outputs, array_pred]\n",
    "            with open('env_history.pkl', 'wb') as f:\n",
    "                pickler = cPickle.Pickler(f)\n",
    "                pickler.dump([states, utterances, memories_com, memories_last, goal_locations, goal_types, targets, which_landmarks])\n",
    "                \n",
    "            with open(\"arrays_history.pkl\", 'wb') as f:\n",
    "                pickler = cPickle.Pickler(f)\n",
    "                pickler.dump([array_states, array_utterances, array_mem_com, array_mem_last, array_outputs])\n",
    "                \n",
    "            if i % FLAGS.print_frequency == 0:\n",
    "                print(\"\\n\")\n",
    "                print(\"iteration \" + str(i))\n",
    "                print(\"physical reward: \" + str(phys_reward))\n",
    "                print(\"prediction reward: \" + str(pred_reward))\n",
    "                print(\"vocabulary reward: \" + str(voc_reward))\n",
    "                print(\"total reward: \" + str(reward))\n",
    "                final_states = array_states[-1, :, :, :]\n",
    "                print_stats_agent(final_states, goal_locations, goal_types, targets)\n",
    "    \n",
    "                print(\"computing time\")\n",
    "                print(datetime.now() - start)\n",
    "                print(\"generation time\")\n",
    "                print(generation_time)\n",
    "                print(\"memory usage\")\n",
    "                memory()\n",
    "\n",
    "                start = datetime.now()\n",
    "                \n",
    "            self.mean_act_count.append(print_stat_vocabulary(array_utterances[1:, :, :,:], i))"
   ]
  },
  {
   "cell_type": "code",
   "execution_count": 86,
   "metadata": {
    "scrolled": true
   },
   "outputs": [
    {
     "name": "stdout",
     "output_type": "stream",
     "text": [
      "INFO:tensorflow:Summary name learning rate is illegal; using learning_rate instead.\n",
      "INFO:tensorflow:Summary name phys_variable/weight_0:0-grad is illegal; using phys_variable/weight_0_0-grad instead.\n",
      "INFO:tensorflow:Summary name phys_variable/weight_1:0-grad is illegal; using phys_variable/weight_1_0-grad instead.\n",
      "INFO:tensorflow:Summary name phys_variable/weight_2:0-grad is illegal; using phys_variable/weight_2_0-grad instead.\n",
      "INFO:tensorflow:Summary name phys_variable/bias_0:0-grad is illegal; using phys_variable/bias_0_0-grad instead.\n",
      "INFO:tensorflow:Summary name phys_variable/bias_1:0-grad is illegal; using phys_variable/bias_1_0-grad instead.\n",
      "INFO:tensorflow:Summary name phys_variable/bias_2:0-grad is illegal; using phys_variable/bias_2_0-grad instead.\n",
      "INFO:tensorflow:Summary name com_memory_read_weight:0-grad is illegal; using com_memory_read_weight_0-grad instead.\n",
      "INFO:tensorflow:Summary name com_variable/com_net_weight_0:0-grad is illegal; using com_variable/com_net_weight_0_0-grad instead.\n",
      "INFO:tensorflow:Summary name com_variable/com_net_weight_1:0-grad is illegal; using com_variable/com_net_weight_1_0-grad instead.\n",
      "INFO:tensorflow:Summary name com_variable/com_net_weight_2:0-grad is illegal; using com_variable/com_net_weight_2_0-grad instead.\n",
      "INFO:tensorflow:Summary name com_variable/com_net_bias_0:0-grad is illegal; using com_variable/com_net_bias_0_0-grad instead.\n",
      "INFO:tensorflow:Summary name com_variable/com_net_bias_1:0-grad is illegal; using com_variable/com_net_bias_1_0-grad instead.\n",
      "INFO:tensorflow:Summary name com_variable/com_net_bias_2:0-grad is illegal; using com_variable/com_net_bias_2_0-grad instead.\n",
      "INFO:tensorflow:Summary name weight_mem_com:0-grad is illegal; using weight_mem_com_0-grad instead.\n",
      "INFO:tensorflow:Summary name bias_mem_com:0-grad is illegal; using bias_mem_com_0-grad instead.\n",
      "INFO:tensorflow:Summary name weight_pred_com:0-grad is illegal; using weight_pred_com_0-grad instead.\n",
      "INFO:tensorflow:Summary name bias_pred_com:0-grad is illegal; using bias_pred_com_0-grad instead.\n",
      "INFO:tensorflow:Summary name reading_last_mem_weight:0-grad is illegal; using reading_last_mem_weight_0-grad instead.\n",
      "INFO:tensorflow:Summary name last_variable/last_net_weight_0:0-grad is illegal; using last_variable/last_net_weight_0_0-grad instead.\n",
      "INFO:tensorflow:Summary name last_variable/last_net_weight_1:0-grad is illegal; using last_variable/last_net_weight_1_0-grad instead.\n",
      "INFO:tensorflow:Summary name last_variable/last_net_weight_2:0-grad is illegal; using last_variable/last_net_weight_2_0-grad instead.\n",
      "INFO:tensorflow:Summary name last_variable/last_net_bias_0:0-grad is illegal; using last_variable/last_net_bias_0_0-grad instead.\n",
      "INFO:tensorflow:Summary name last_variable/last_net_bias_1:0-grad is illegal; using last_variable/last_net_bias_1_0-grad instead.\n",
      "INFO:tensorflow:Summary name last_variable/last_net_bias_2:0-grad is illegal; using last_variable/last_net_bias_2_0-grad instead.\n",
      "INFO:tensorflow:Summary name weight_mem_last:0-grad is illegal; using weight_mem_last_0-grad instead.\n",
      "INFO:tensorflow:Summary name bias_mem_last:0-grad is illegal; using bias_mem_last_0-grad instead.\n",
      "Initializing variables\n",
      "Start training\n",
      "\n",
      "\n",
      "iteration 0\n",
      "physical reward: -6893.8423\n",
      "prediction reward: -7.7743683\n",
      "vocabulary reward: -295.7598\n",
      "total reward: -7049.4966\n",
      "--- Agent 0\n",
      "------ Mean distance 9.86487193178527\n",
      "------ Median distance 9.251625586560085\n",
      "------ Third quartile 12.410221743959731\n",
      "------ Ninetieth percentile 15.555409145453964\n",
      "------ max distance 23.804229844507528\n",
      "------ argmax distance 75\n",
      "--- Agent 1\n",
      "------ Mean distance 11.96822004472267\n",
      "------ Median distance 12.117776090439152\n",
      "------ Third quartile 14.69719650886953\n",
      "------ Ninetieth percentile 17.08387563930503\n",
      "------ max distance 23.699608573354258\n",
      "------ argmax distance 96\n",
      "computing time\n",
      "0:00:02.264129\n",
      "generation time\n",
      "0:00:00.011997\n",
      "memory usage\n",
      "memory use: 0.9050178527832031\n",
      "-- Stats word count:\n",
      "---- Mean number of word activated: 18.095\n",
      "---- Median number of word activated: 18.0\n",
      "---- Total number of word activated: 20\n",
      "\n",
      "\n",
      "iteration 50\n",
      "physical reward: -1391.6189\n",
      "prediction reward: -7.0621095\n",
      "vocabulary reward: -291.61697\n",
      "total reward: -1544.4895\n",
      "--- Agent 0\n",
      "------ Mean distance 2.9094247559399156\n",
      "------ Median distance 2.714352718140021\n",
      "------ Third quartile 4.021610737486757\n",
      "------ Ninetieth percentile 4.240805327693023\n",
      "------ max distance 4.525822825971327\n",
      "------ argmax distance 38\n",
      "--- Agent 1\n",
      "------ Mean distance 3.060962953472826\n",
      "------ Median distance 2.8949501785036142\n",
      "------ Third quartile 3.9836397315254235\n",
      "------ Ninetieth percentile 4.250562041564754\n",
      "------ max distance 4.687902741572173\n",
      "------ argmax distance 28\n",
      "computing time\n",
      "0:00:48.075248\n",
      "generation time\n",
      "0:00:46.912147\n",
      "memory usage\n",
      "memory use: 0.9050178527832031\n",
      "-- Stats word count:\n",
      "---- Mean number of word activated: 17.63\n",
      "---- Median number of word activated: 18.0\n",
      "---- Total number of word activated: 20\n",
      "\n",
      "\n",
      "iteration 100\n",
      "physical reward: -743.40283\n",
      "prediction reward: -3.4847991\n",
      "vocabulary reward: -145.2868\n",
      "total reward: -819.531\n",
      "--- Agent 0\n",
      "------ Mean distance 1.1953889009036185\n",
      "------ Median distance 1.2812091592523727\n",
      "------ Third quartile 1.599658990130854\n",
      "------ Ninetieth percentile 1.8579430803703885\n",
      "------ max distance 2.2908641422540432\n",
      "------ argmax distance 12\n",
      "--- Agent 1\n",
      "------ Mean distance 1.123329743942684\n",
      "------ Median distance 1.267346807997796\n",
      "------ Third quartile 1.632080763932815\n",
      "------ Ninetieth percentile 1.8402578485061585\n",
      "------ max distance 2.2225823493564287\n",
      "------ argmax distance 26\n",
      "computing time\n",
      "0:01:30.973641\n",
      "generation time\n",
      "0:01:29.700748\n",
      "memory usage\n",
      "memory use: 0.9050178527832031\n",
      "-- Stats word count:\n",
      "---- Mean number of word activated: 6.01\n",
      "---- Median number of word activated: 7.0\n",
      "---- Total number of word activated: 20\n",
      "\n",
      "\n",
      "iteration 150\n",
      "physical reward: -733.3605\n",
      "prediction reward: -3.2750516\n",
      "vocabulary reward: -109.78591\n",
      "total reward: -791.52844\n",
      "--- Agent 0\n",
      "------ Mean distance 1.3379233449005838\n",
      "------ Median distance 1.1877517187924127\n",
      "------ Third quartile 1.6955442123486\n",
      "------ Ninetieth percentile 2.454382134976319\n",
      "------ max distance 2.6998622691563665\n",
      "------ argmax distance 62\n",
      "--- Agent 1\n",
      "------ Mean distance 1.5260521691511415\n",
      "------ Median distance 1.2657740088092448\n",
      "------ Third quartile 2.255620673551095\n",
      "------ Ninetieth percentile 2.656767372307728\n",
      "------ max distance 3.1512363797362597\n",
      "------ argmax distance 42\n",
      "computing time\n",
      "0:01:19.689361\n",
      "generation time\n",
      "0:01:17.857702\n",
      "memory usage\n",
      "memory use: 0.9050178527832031\n",
      "-- Stats word count:\n",
      "---- Mean number of word activated: 2.86\n",
      "---- Median number of word activated: 3.0\n",
      "---- Total number of word activated: 20\n",
      "\n",
      "\n",
      "iteration 200\n",
      "physical reward: -861.35986\n",
      "prediction reward: -3.0676577\n",
      "vocabulary reward: -109.638016\n",
      "total reward: -919.2466\n",
      "--- Agent 0\n",
      "------ Mean distance 1.8383535753723086\n",
      "------ Median distance 1.8705246980080394\n",
      "------ Third quartile 2.0873953141482353\n",
      "------ Ninetieth percentile 2.3166485034957085\n",
      "------ max distance 2.865902465374401\n",
      "------ argmax distance 5\n",
      "--- Agent 1\n",
      "------ Mean distance 1.8273925924002825\n",
      "------ Median distance 1.8418943053437915\n",
      "------ Third quartile 2.0983980841654972\n",
      "------ Ninetieth percentile 2.488488559730783\n",
      "------ max distance 2.8623424763517473\n",
      "------ argmax distance 73\n",
      "computing time\n",
      "0:01:39.138359\n",
      "generation time\n",
      "0:01:37.637395\n",
      "memory usage\n",
      "memory use: 0.9050178527832031\n",
      "-- Stats word count:\n",
      "---- Mean number of word activated: 2.04\n",
      "---- Median number of word activated: 2.0\n",
      "---- Total number of word activated: 16\n",
      "\n",
      "\n",
      "iteration 250\n",
      "physical reward: -650.594\n",
      "prediction reward: -2.527513\n",
      "vocabulary reward: -110.0012\n",
      "total reward: -708.12213\n",
      "--- Agent 0\n",
      "------ Mean distance 0.8260107657116481\n",
      "------ Median distance 0.7129431239440046\n",
      "------ Third quartile 1.2449047931255914\n",
      "------ Ninetieth percentile 1.664045066183605\n",
      "------ max distance 2.1279452825941707\n",
      "------ argmax distance 24\n",
      "--- Agent 1\n",
      "------ Mean distance 0.8294570229017598\n",
      "------ Median distance 0.7395595127251963\n",
      "------ Third quartile 1.2228428014435717\n",
      "------ Ninetieth percentile 1.6799848122843846\n",
      "------ max distance 2.3482466773648425\n",
      "------ argmax distance 82\n",
      "computing time\n",
      "0:01:35.219684\n",
      "generation time\n",
      "0:01:33.205031\n",
      "memory usage\n",
      "memory use: 0.9050178527832031\n",
      "-- Stats word count:\n",
      "---- Mean number of word activated: 2.29\n",
      "---- Median number of word activated: 2.0\n",
      "---- Total number of word activated: 12\n"
     ]
    },
    {
     "name": "stdout",
     "output_type": "stream",
     "text": [
      "\n",
      "\n",
      "iteration 300\n",
      "physical reward: -585.1525\n",
      "prediction reward: -2.0394688\n",
      "vocabulary reward: -106.97032\n",
      "total reward: -640.6772\n",
      "--- Agent 0\n",
      "------ Mean distance 0.6661433066771028\n",
      "------ Median distance 0.6786709491192952\n",
      "------ Third quartile 0.8254589361417498\n",
      "------ Ninetieth percentile 0.9853412479919327\n",
      "------ max distance 1.3859485211842242\n",
      "------ argmax distance 28\n",
      "--- Agent 1\n",
      "------ Mean distance 0.6705919815463577\n",
      "------ Median distance 0.6786804809838227\n",
      "------ Third quartile 0.853103414138938\n",
      "------ Ninetieth percentile 1.0136173983773606\n",
      "------ max distance 1.5047105037302573\n",
      "------ argmax distance 86\n",
      "computing time\n",
      "0:01:42.145904\n",
      "generation time\n",
      "0:01:40.177368\n",
      "memory usage\n",
      "memory use: 0.9050178527832031\n",
      "-- Stats word count:\n",
      "---- Mean number of word activated: 2.125\n",
      "---- Median number of word activated: 2.0\n",
      "---- Total number of word activated: 13\n",
      "\n",
      "\n",
      "iteration 350\n",
      "physical reward: -546.80786\n",
      "prediction reward: -1.9438922\n",
      "vocabulary reward: -107.96665\n",
      "total reward: -602.7351\n",
      "--- Agent 0\n",
      "------ Mean distance 0.4191099967550447\n",
      "------ Median distance 0.39759902703394256\n",
      "------ Third quartile 0.5572763394199833\n",
      "------ Ninetieth percentile 0.6837463205376233\n",
      "------ max distance 0.9306613128838109\n",
      "------ argmax distance 91\n",
      "--- Agent 1\n",
      "------ Mean distance 0.45319212910933715\n",
      "------ Median distance 0.4469002810278792\n",
      "------ Third quartile 0.5953539245255846\n",
      "------ Ninetieth percentile 0.7313868359328771\n",
      "------ max distance 1.0808438929126412\n",
      "------ argmax distance 34\n",
      "computing time\n",
      "0:01:39.356123\n",
      "generation time\n",
      "0:01:37.388941\n",
      "memory usage\n",
      "memory use: 0.9050178527832031\n",
      "-- Stats word count:\n",
      "---- Mean number of word activated: 2.15\n",
      "---- Median number of word activated: 2.0\n",
      "---- Total number of word activated: 10\n",
      "\n",
      "\n",
      "iteration 400\n",
      "physical reward: -598.60297\n",
      "prediction reward: -2.2247558\n",
      "vocabulary reward: -107.94904\n",
      "total reward: -654.80225\n",
      "--- Agent 0\n",
      "------ Mean distance 1.0229014303381676\n",
      "------ Median distance 0.8491166920578546\n",
      "------ Third quartile 1.1266779907312885\n",
      "------ Ninetieth percentile 1.9062119316512796\n",
      "------ max distance 2.7648092873386165\n",
      "------ argmax distance 84\n",
      "--- Agent 1\n",
      "------ Mean distance 1.0067509301463138\n",
      "------ Median distance 0.925906416518645\n",
      "------ Third quartile 1.1577029189190875\n",
      "------ Ninetieth percentile 1.5264148576749572\n",
      "------ max distance 2.627876513335949\n",
      "------ argmax distance 15\n",
      "computing time\n",
      "0:01:42.420123\n",
      "generation time\n",
      "0:01:40.409568\n",
      "memory usage\n",
      "memory use: 0.9050178527832031\n",
      "-- Stats word count:\n",
      "---- Mean number of word activated: 2.13\n",
      "---- Median number of word activated: 2.0\n",
      "---- Total number of word activated: 12\n",
      "\n",
      "\n",
      "iteration 450\n",
      "physical reward: -521.1026\n",
      "prediction reward: -1.7207772\n",
      "vocabulary reward: -103.41116\n",
      "total reward: -574.52893\n",
      "--- Agent 0\n",
      "------ Mean distance 0.2777418586544424\n",
      "------ Median distance 0.2518132796559455\n",
      "------ Third quartile 0.3743936162080306\n",
      "------ Ninetieth percentile 0.48915581612971315\n",
      "------ max distance 0.8503065835125867\n",
      "------ argmax distance 40\n",
      "--- Agent 1\n",
      "------ Mean distance 0.29639064844957436\n",
      "------ Median distance 0.2492784963157995\n",
      "------ Third quartile 0.37163698049676314\n",
      "------ Ninetieth percentile 0.5071918929070525\n",
      "------ max distance 1.1770310070337586\n",
      "------ argmax distance 91\n",
      "computing time\n",
      "0:01:41.818735\n",
      "generation time\n",
      "0:01:39.658236\n",
      "memory usage\n",
      "memory use: 0.9050178527832031\n",
      "-- Stats word count:\n",
      "---- Mean number of word activated: 2.075\n",
      "---- Median number of word activated: 2.0\n",
      "---- Total number of word activated: 6\n",
      "\n",
      "\n",
      "iteration 500\n",
      "physical reward: -521.2068\n",
      "prediction reward: -1.7088928\n",
      "vocabulary reward: -108.80068\n",
      "total reward: -577.316\n",
      "--- Agent 0\n",
      "------ Mean distance 0.5195848920318017\n",
      "------ Median distance 0.5054079399267977\n",
      "------ Third quartile 0.6695025203872609\n",
      "------ Ninetieth percentile 0.820240251160774\n",
      "------ max distance 1.0330879038577607\n",
      "------ argmax distance 34\n",
      "--- Agent 1\n",
      "------ Mean distance 0.5363418565181831\n",
      "------ Median distance 0.5212067331368992\n",
      "------ Third quartile 0.7075627274309471\n",
      "------ Ninetieth percentile 0.8279672755288623\n",
      "------ max distance 1.2453882451795664\n",
      "------ argmax distance 22\n",
      "computing time\n",
      "0:01:41.170103\n",
      "generation time\n",
      "0:01:39.171590\n",
      "memory usage\n",
      "memory use: 0.9050178527832031\n",
      "-- Stats word count:\n",
      "---- Mean number of word activated: 2.07\n",
      "---- Median number of word activated: 2.0\n",
      "---- Total number of word activated: 5\n",
      "\n",
      "\n",
      "iteration 550\n",
      "physical reward: -577.53546\n",
      "prediction reward: -2.4268932\n",
      "vocabulary reward: -108.507385\n",
      "total reward: -634.21606\n",
      "--- Agent 0\n",
      "------ Mean distance 0.8368755687318702\n",
      "------ Median distance 0.42869591242742583\n",
      "------ Third quartile 0.6444610061535946\n",
      "------ Ninetieth percentile 2.933174964964352\n",
      "------ max distance 3.3083058355585093\n",
      "------ argmax distance 26\n",
      "--- Agent 1\n",
      "------ Mean distance 0.6802844725607753\n",
      "------ Median distance 0.425045791977239\n",
      "------ Third quartile 0.6003707506797473\n",
      "------ Ninetieth percentile 1.2318256668879366\n",
      "------ max distance 3.1328624886254945\n",
      "------ argmax distance 0\n",
      "computing time\n",
      "0:01:41.291443\n",
      "generation time\n",
      "0:01:39.223773\n",
      "memory usage\n",
      "memory use: 0.9050178527832031\n",
      "-- Stats word count:\n",
      "---- Mean number of word activated: 2.12\n",
      "---- Median number of word activated: 2.0\n",
      "---- Total number of word activated: 6\n",
      "\n",
      "\n",
      "iteration 600\n",
      "physical reward: -515.8261\n",
      "prediction reward: -1.5964841\n",
      "vocabulary reward: -104.86321\n",
      "total reward: -569.8542\n",
      "--- Agent 0\n",
      "------ Mean distance 0.2722575646890729\n",
      "------ Median distance 0.26320926604517514\n",
      "------ Third quartile 0.3846864905004693\n",
      "------ Ninetieth percentile 0.5026554792273459\n",
      "------ max distance 0.6653728365808258\n",
      "------ argmax distance 53\n",
      "--- Agent 1\n",
      "------ Mean distance 0.24431184636112144\n",
      "------ Median distance 0.200633641537383\n",
      "------ Third quartile 0.35619989981561334\n",
      "------ Ninetieth percentile 0.47345968928115517\n",
      "------ max distance 0.8001192723214883\n",
      "------ argmax distance 85\n",
      "computing time\n",
      "0:01:43.814977\n",
      "generation time\n",
      "0:01:41.798372\n",
      "memory usage\n",
      "memory use: 0.9050178527832031\n",
      "-- Stats word count:\n",
      "---- Mean number of word activated: 2.22\n",
      "---- Median number of word activated: 3.0\n",
      "---- Total number of word activated: 7\n",
      "\n",
      "\n",
      "iteration 650\n",
      "physical reward: -489.68417\n",
      "prediction reward: -1.5396761\n",
      "vocabulary reward: -106.00883\n",
      "total reward: -544.2283\n",
      "--- Agent 0\n",
      "------ Mean distance 0.30336185912837227\n",
      "------ Median distance 0.2819320737745141\n",
      "------ Third quartile 0.4490492504486939\n",
      "------ Ninetieth percentile 0.5353432692736345\n",
      "------ max distance 0.7925777090581029\n",
      "------ argmax distance 40\n",
      "--- Agent 1\n",
      "------ Mean distance 0.32184307406649604\n",
      "------ Median distance 0.3085948714076395\n",
      "------ Third quartile 0.4554362543880748\n",
      "------ Ninetieth percentile 0.562328609356979\n",
      "------ max distance 0.6804703499582014\n",
      "------ argmax distance 62\n",
      "computing time\n",
      "0:01:41.187948\n",
      "generation time\n",
      "0:01:39.164533\n",
      "memory usage\n",
      "memory use: 0.9050178527832031\n",
      "-- Stats word count:\n",
      "---- Mean number of word activated: 2.255\n",
      "---- Median number of word activated: 3.0\n",
      "---- Total number of word activated: 4\n",
      "\n",
      "\n",
      "iteration 700\n",
      "physical reward: -570.45386\n",
      "prediction reward: -1.6829442\n",
      "vocabulary reward: -90.58402\n",
      "total reward: -617.4288\n",
      "--- Agent 0\n",
      "------ Mean distance 0.6259554785579516\n",
      "------ Median distance 0.5192600214440778\n",
      "------ Third quartile 0.6774058737370164\n",
      "------ Ninetieth percentile 1.077037683881756\n",
      "------ max distance 4.3338902159907295\n",
      "------ argmax distance 44\n",
      "--- Agent 1\n",
      "------ Mean distance 0.5935839446963537\n",
      "------ Median distance 0.5459904508997303\n",
      "------ Third quartile 0.6664601831469882\n",
      "------ Ninetieth percentile 1.1492929198832893\n",
      "------ max distance 2.43536509395418\n",
      "------ argmax distance 24\n",
      "computing time\n",
      "0:01:41.860172\n",
      "generation time\n",
      "0:01:39.872957\n",
      "memory usage\n",
      "memory use: 0.9050178527832031\n",
      "-- Stats word count:\n",
      "---- Mean number of word activated: 2.085\n",
      "---- Median number of word activated: 2.0\n",
      "---- Total number of word activated: 6\n",
      "\n",
      "\n",
      "iteration 750\n",
      "physical reward: -507.7632\n",
      "prediction reward: -1.5764709\n",
      "vocabulary reward: -99.596306\n",
      "total reward: -559.1378\n",
      "--- Agent 0\n",
      "------ Mean distance 0.1694464282834043\n",
      "------ Median distance 0.14807180113811008\n",
      "------ Third quartile 0.22190936971355718\n",
      "------ Ninetieth percentile 0.29467106294097206\n",
      "------ max distance 0.512160555769222\n",
      "------ argmax distance 60\n",
      "--- Agent 1\n",
      "------ Mean distance 0.18334014495436463\n",
      "------ Median distance 0.14807966103923237\n",
      "------ Third quartile 0.24156229518508632\n",
      "------ Ninetieth percentile 0.372862597157459\n",
      "------ max distance 0.5092101302306816\n",
      "------ argmax distance 76\n",
      "computing time\n",
      "0:01:42.732925\n",
      "generation time\n",
      "0:01:40.752130\n",
      "memory usage\n",
      "memory use: 0.9050178527832031\n",
      "-- Stats word count:\n",
      "---- Mean number of word activated: 2.29\n",
      "---- Median number of word activated: 3.0\n",
      "---- Total number of word activated: 4\n"
     ]
    },
    {
     "name": "stdout",
     "output_type": "stream",
     "text": [
      "\n",
      "\n",
      "iteration 800\n",
      "physical reward: -478.64856\n",
      "prediction reward: -1.5659655\n",
      "vocabulary reward: -64.30611\n",
      "total reward: -512.3676\n",
      "--- Agent 0\n",
      "------ Mean distance 0.5122138208506972\n",
      "------ Median distance 0.2721895635028045\n",
      "------ Third quartile 1.0367663857633131\n",
      "------ Ninetieth percentile 1.299995218569398\n",
      "------ max distance 1.5302555336425911\n",
      "------ argmax distance 27\n",
      "--- Agent 1\n",
      "------ Mean distance 0.5677889414081172\n",
      "------ Median distance 0.23456792857857145\n",
      "------ Third quartile 1.1854816543728413\n",
      "------ Ninetieth percentile 1.3079748445147592\n",
      "------ max distance 1.5306170948518503\n",
      "------ argmax distance 46\n",
      "computing time\n",
      "0:01:41.508983\n",
      "generation time\n",
      "0:01:39.501700\n",
      "memory usage\n",
      "memory use: 0.9050178527832031\n",
      "-- Stats word count:\n",
      "---- Mean number of word activated: 2.195\n",
      "---- Median number of word activated: 3.0\n",
      "---- Total number of word activated: 6\n",
      "\n",
      "\n",
      "iteration 850\n",
      "physical reward: -585.69556\n",
      "prediction reward: -1.5689049\n",
      "vocabulary reward: -71.03595\n",
      "total reward: -622.7825\n",
      "--- Agent 0\n",
      "------ Mean distance 0.9642525217370143\n",
      "------ Median distance 0.516752994374885\n",
      "------ Third quartile 1.7717863251323163\n",
      "------ Ninetieth percentile 2.2661041545423464\n",
      "------ max distance 2.499176409315832\n",
      "------ argmax distance 66\n",
      "--- Agent 1\n",
      "------ Mean distance 1.0595911980428243\n",
      "------ Median distance 0.5732822347579811\n",
      "------ Third quartile 2.0743169738928398\n",
      "------ Ninetieth percentile 2.30034000038031\n",
      "------ max distance 2.485759343888675\n",
      "------ argmax distance 62\n",
      "computing time\n",
      "0:01:41.487598\n",
      "generation time\n",
      "0:01:39.513753\n",
      "memory usage\n",
      "memory use: 0.9050178527832031\n",
      "-- Stats word count:\n",
      "---- Mean number of word activated: 2.2\n",
      "---- Median number of word activated: 2.0\n",
      "---- Total number of word activated: 5\n",
      "\n",
      "\n",
      "iteration 900\n",
      "physical reward: -469.7727\n",
      "prediction reward: -1.561093\n",
      "vocabulary reward: -57.52286\n",
      "total reward: -500.09525\n",
      "--- Agent 0\n",
      "------ Mean distance 0.49911269549753223\n",
      "------ Median distance 0.47760138943884545\n",
      "------ Third quartile 0.616081293128595\n",
      "------ Ninetieth percentile 0.7459229305234659\n",
      "------ max distance 0.8626797671304275\n",
      "------ argmax distance 41\n",
      "--- Agent 1\n",
      "------ Mean distance 0.4708104814251378\n",
      "------ Median distance 0.43972336861046984\n",
      "------ Third quartile 0.5724863659514883\n",
      "------ Ninetieth percentile 0.6841350612629847\n",
      "------ max distance 0.8971397351988575\n",
      "------ argmax distance 68\n",
      "computing time\n",
      "0:01:42.207859\n",
      "generation time\n",
      "0:01:40.223928\n",
      "memory usage\n",
      "memory use: 0.9050178527832031\n",
      "-- Stats word count:\n",
      "---- Mean number of word activated: 2.035\n",
      "---- Median number of word activated: 2.0\n",
      "---- Total number of word activated: 4\n",
      "\n",
      "\n",
      "iteration 950\n",
      "physical reward: -470.44177\n",
      "prediction reward: -1.5215644\n",
      "vocabulary reward: -50.532608\n",
      "total reward: -497.22964\n",
      "--- Agent 0\n",
      "------ Mean distance 0.5362360684903831\n",
      "------ Median distance 0.30335078438834717\n",
      "------ Third quartile 0.9998902842716376\n",
      "------ Ninetieth percentile 1.1472405473498979\n",
      "------ max distance 3.1053765636438433\n",
      "------ argmax distance 63\n",
      "--- Agent 1\n",
      "------ Mean distance 0.401196961269932\n",
      "------ Median distance 0.21361609583369262\n",
      "------ Third quartile 0.3606257485773876\n",
      "------ Ninetieth percentile 1.1302654337336169\n",
      "------ max distance 3.061138103244561\n",
      "------ argmax distance 63\n",
      "computing time\n",
      "0:01:42.333009\n",
      "generation time\n",
      "0:01:40.169706\n",
      "memory usage\n",
      "memory use: 0.9050178527832031\n",
      "-- Stats word count:\n",
      "---- Mean number of word activated: 2.08\n",
      "---- Median number of word activated: 2.0\n",
      "---- Total number of word activated: 3\n",
      "\n",
      "\n",
      "iteration 1000\n",
      "physical reward: -488.3322\n",
      "prediction reward: -1.4932334\n",
      "vocabulary reward: -35.62234\n",
      "total reward: -507.6366\n",
      "--- Agent 0\n",
      "------ Mean distance 0.1730188284167125\n",
      "------ Median distance 0.17009913778229557\n",
      "------ Third quartile 0.22418841571811188\n",
      "------ Ninetieth percentile 0.29652011126956895\n",
      "------ max distance 0.5362447336261571\n",
      "------ argmax distance 67\n",
      "--- Agent 1\n",
      "------ Mean distance 0.18010815183257944\n",
      "------ Median distance 0.16817766246142837\n",
      "------ Third quartile 0.2361146413737409\n",
      "------ Ninetieth percentile 0.2871823112881963\n",
      "------ max distance 0.3913379082604112\n",
      "------ argmax distance 87\n",
      "computing time\n",
      "0:01:41.993290\n",
      "generation time\n",
      "0:01:39.986979\n",
      "memory usage\n",
      "memory use: 0.9050178527832031\n",
      "-- Stats word count:\n",
      "---- Mean number of word activated: 1.995\n",
      "---- Median number of word activated: 2.0\n",
      "---- Total number of word activated: 3\n",
      "\n",
      "\n",
      "iteration 1050\n",
      "physical reward: -486.66992\n",
      "prediction reward: -1.6677076\n",
      "vocabulary reward: -40.72039\n",
      "total reward: -508.6978\n",
      "--- Agent 0\n",
      "------ Mean distance 0.40237095432406755\n",
      "------ Median distance 0.20701648251918747\n",
      "------ Third quartile 0.2776177836270285\n",
      "------ Ninetieth percentile 0.3527616507341311\n",
      "------ max distance 5.7100211733512625\n",
      "------ argmax distance 45\n",
      "--- Agent 1\n",
      "------ Mean distance 0.2573692716737904\n",
      "------ Median distance 0.22438248525084487\n",
      "------ Third quartile 0.3037900471449975\n",
      "------ Ninetieth percentile 0.35338622387951485\n",
      "------ max distance 3.188574266491663\n",
      "------ argmax distance 96\n",
      "computing time\n",
      "0:01:41.363536\n",
      "generation time\n",
      "0:01:39.314539\n",
      "memory usage\n",
      "memory use: 0.9050178527832031\n",
      "-- Stats word count:\n",
      "---- Mean number of word activated: 2.045\n",
      "---- Median number of word activated: 2.0\n",
      "---- Total number of word activated: 5\n",
      "\n",
      "\n",
      "iteration 1100\n",
      "physical reward: -510.75558\n",
      "prediction reward: -1.4544405\n",
      "vocabulary reward: -22.425049\n",
      "total reward: -523.42255\n",
      "--- Agent 0\n",
      "------ Mean distance 0.2944931840964207\n",
      "------ Median distance 0.3036786783055722\n",
      "------ Third quartile 0.3851693684992413\n",
      "------ Ninetieth percentile 0.4551794098131771\n",
      "------ max distance 0.5950851674725656\n",
      "------ argmax distance 59\n",
      "--- Agent 1\n",
      "------ Mean distance 0.3185976413659215\n",
      "------ Median distance 0.32285387204090404\n",
      "------ Third quartile 0.4243862016318134\n",
      "------ Ninetieth percentile 0.5153636857758603\n",
      "------ max distance 0.6879112390813525\n",
      "------ argmax distance 29\n",
      "computing time\n",
      "0:01:41.378703\n",
      "generation time\n",
      "0:01:39.309684\n",
      "memory usage\n",
      "memory use: 0.9050178527832031\n",
      "-- Stats word count:\n",
      "---- Mean number of word activated: 1.915\n",
      "---- Median number of word activated: 2.0\n",
      "---- Total number of word activated: 4\n",
      "\n",
      "\n",
      "iteration 1150\n",
      "physical reward: -439.67743\n",
      "prediction reward: -1.4771609\n",
      "vocabulary reward: -20.554844\n",
      "total reward: -451.43204\n",
      "--- Agent 0\n",
      "------ Mean distance 0.398402831026022\n",
      "------ Median distance 0.3317644443849858\n",
      "------ Third quartile 0.5215382983466649\n",
      "------ Ninetieth percentile 0.7201587151472328\n",
      "------ max distance 0.8783245614802563\n",
      "------ argmax distance 88\n",
      "--- Agent 1\n",
      "------ Mean distance 0.40533031276443027\n",
      "------ Median distance 0.38268208264479364\n",
      "------ Third quartile 0.47384875076650623\n",
      "------ Ninetieth percentile 0.6482372741424002\n",
      "------ max distance 0.8737736875397056\n",
      "------ argmax distance 72\n",
      "computing time\n",
      "0:01:42.388091\n",
      "generation time\n",
      "0:01:40.381372\n",
      "memory usage\n",
      "memory use: 0.9050178527832031\n",
      "-- Stats word count:\n",
      "---- Mean number of word activated: 2.01\n",
      "---- Median number of word activated: 2.0\n",
      "---- Total number of word activated: 3\n",
      "\n",
      "\n",
      "iteration 1200\n",
      "physical reward: -464.87415\n",
      "prediction reward: -1.5854836\n",
      "vocabulary reward: -21.888412\n",
      "total reward: -477.40384\n",
      "--- Agent 0\n",
      "------ Mean distance 0.4046709804306041\n",
      "------ Median distance 0.26440571836468973\n",
      "------ Third quartile 0.38137322017165454\n",
      "------ Ninetieth percentile 0.5210272579317778\n",
      "------ max distance 6.078057208701129\n",
      "------ argmax distance 74\n",
      "--- Agent 1\n",
      "------ Mean distance 0.3434601381108427\n",
      "------ Median distance 0.26586315900885527\n",
      "------ Third quartile 0.36454024429987203\n",
      "------ Ninetieth percentile 0.4958880003210884\n",
      "------ max distance 6.033691102993371\n",
      "------ argmax distance 74\n",
      "computing time\n",
      "0:01:41.314125\n",
      "generation time\n",
      "0:01:39.269310\n",
      "memory usage\n",
      "memory use: 0.9050178527832031\n",
      "-- Stats word count:\n",
      "---- Mean number of word activated: 1.98\n",
      "---- Median number of word activated: 2.0\n",
      "---- Total number of word activated: 3\n",
      "\n",
      "\n",
      "iteration 1250\n",
      "physical reward: -443.96048\n",
      "prediction reward: -1.5015215\n",
      "vocabulary reward: -13.995239\n",
      "total reward: -452.45963\n",
      "--- Agent 0\n",
      "------ Mean distance 0.23716068747284466\n",
      "------ Median distance 0.22724945825911902\n",
      "------ Third quartile 0.29004401526953066\n",
      "------ Ninetieth percentile 0.3689641067639211\n",
      "------ max distance 0.46997070182024125\n",
      "------ argmax distance 55\n",
      "--- Agent 1\n",
      "------ Mean distance 0.2772590620318623\n",
      "------ Median distance 0.2757274496026142\n",
      "------ Third quartile 0.3322860673548413\n",
      "------ Ninetieth percentile 0.4018175951336195\n",
      "------ max distance 0.5557186226876765\n",
      "------ argmax distance 39\n",
      "computing time\n",
      "0:01:43.122894\n",
      "generation time\n",
      "0:01:41.086969\n",
      "memory usage\n",
      "memory use: 0.9050178527832031\n",
      "-- Stats word count:\n",
      "---- Mean number of word activated: 1.72\n",
      "---- Median number of word activated: 2.0\n",
      "---- Total number of word activated: 6\n"
     ]
    },
    {
     "name": "stdout",
     "output_type": "stream",
     "text": [
      "\n",
      "\n",
      "iteration 1300\n",
      "physical reward: -418.13864\n",
      "prediction reward: -1.4930693\n",
      "vocabulary reward: -13.822192\n",
      "total reward: -426.54282\n",
      "--- Agent 0\n",
      "------ Mean distance 0.25272698641085334\n",
      "------ Median distance 0.22635540888090344\n",
      "------ Third quartile 0.31870122325851624\n",
      "------ Ninetieth percentile 0.45186522073030394\n",
      "------ max distance 0.7359387167286005\n",
      "------ argmax distance 41\n",
      "--- Agent 1\n",
      "------ Mean distance 0.23457586437690656\n",
      "------ Median distance 0.21353131304084338\n",
      "------ Third quartile 0.3022824033253607\n",
      "------ Ninetieth percentile 0.4125525259478311\n",
      "------ max distance 0.7349610082221437\n",
      "------ argmax distance 22\n",
      "computing time\n",
      "0:01:42.592411\n",
      "generation time\n",
      "0:01:40.844008\n",
      "memory usage\n",
      "memory use: 0.9050178527832031\n",
      "-- Stats word count:\n",
      "---- Mean number of word activated: 1.635\n",
      "---- Median number of word activated: 2.0\n",
      "---- Total number of word activated: 3\n",
      "\n",
      "\n",
      "iteration 1350\n",
      "physical reward: -519.1948\n",
      "prediction reward: -1.7123876\n",
      "vocabulary reward: -13.067562\n",
      "total reward: -527.441\n",
      "--- Agent 0\n",
      "------ Mean distance 0.7674610181564192\n",
      "------ Median distance 0.7562499849144921\n",
      "------ Third quartile 0.990702813975251\n",
      "------ Ninetieth percentile 1.1329016027203944\n",
      "------ max distance 2.6037502121831184\n",
      "------ argmax distance 18\n",
      "--- Agent 1\n",
      "------ Mean distance 0.8028334635960939\n",
      "------ Median distance 0.7594557516801126\n",
      "------ Third quartile 0.9741366136322034\n",
      "------ Ninetieth percentile 1.0920389634572758\n",
      "------ max distance 5.506281941677585\n",
      "------ argmax distance 67\n",
      "computing time\n",
      "0:01:29.691100\n",
      "generation time\n",
      "0:01:27.661532\n",
      "memory usage\n",
      "memory use: 0.9050178527832031\n",
      "-- Stats word count:\n",
      "---- Mean number of word activated: 1.8\n",
      "---- Median number of word activated: 2.0\n",
      "---- Total number of word activated: 4\n",
      "\n",
      "\n",
      "iteration 1400\n",
      "physical reward: -792.52716\n",
      "prediction reward: -2.5635016\n",
      "vocabulary reward: -14.048754\n",
      "total reward: -802.115\n",
      "--- Agent 0\n",
      "------ Mean distance 1.2836576300276163\n",
      "------ Median distance 0.671278469855307\n",
      "------ Third quartile 1.1824181694763172\n",
      "------ Ninetieth percentile 4.553060984573829\n",
      "------ max distance 6.2487237990004845\n",
      "------ argmax distance 34\n",
      "--- Agent 1\n",
      "------ Mean distance 1.2175287263915147\n",
      "------ Median distance 0.7174469031426338\n",
      "------ Third quartile 1.1303647893509323\n",
      "------ Ninetieth percentile 3.276283508375654\n",
      "------ max distance 5.533291066808586\n",
      "------ argmax distance 77\n",
      "computing time\n",
      "0:01:33.232050\n",
      "generation time\n",
      "0:01:31.718707\n",
      "memory usage\n",
      "memory use: 0.9050178527832031\n",
      "-- Stats word count:\n",
      "---- Mean number of word activated: 1.74\n",
      "---- Median number of word activated: 2.0\n",
      "---- Total number of word activated: 3\n",
      "\n",
      "\n",
      "iteration 1450\n",
      "physical reward: -468.86636\n",
      "prediction reward: -1.5327531\n",
      "vocabulary reward: -12.929204\n",
      "total reward: -476.8637\n",
      "--- Agent 0\n",
      "------ Mean distance 0.3863803111350389\n",
      "------ Median distance 0.28894339329158647\n",
      "------ Third quartile 0.44287970621312894\n",
      "------ Ninetieth percentile 0.568995747373787\n",
      "------ max distance 5.4275418553498485\n",
      "------ argmax distance 83\n",
      "--- Agent 1\n",
      "------ Mean distance 0.3623446652556793\n",
      "------ Median distance 0.23801347584409688\n",
      "------ Third quartile 0.4397851799092624\n",
      "------ Ninetieth percentile 0.5435828683679548\n",
      "------ max distance 5.378187098893801\n",
      "------ argmax distance 83\n",
      "computing time\n",
      "0:01:37.278786\n",
      "generation time\n",
      "0:01:35.563195\n",
      "memory usage\n",
      "memory use: 0.9050178527832031\n",
      "-- Stats word count:\n",
      "---- Mean number of word activated: 1.67\n",
      "---- Median number of word activated: 2.0\n",
      "---- Total number of word activated: 4\n",
      "\n",
      "\n",
      "iteration 1500\n",
      "physical reward: -471.50995\n",
      "prediction reward: -1.5022534\n",
      "vocabulary reward: -9.4555025\n",
      "total reward: -477.73996\n",
      "--- Agent 0\n",
      "------ Mean distance 0.23240400612472784\n",
      "------ Median distance 0.1969375621513878\n",
      "------ Third quartile 0.28132976666795056\n",
      "------ Ninetieth percentile 0.38602349041458967\n",
      "------ max distance 3.029191091883131\n",
      "------ argmax distance 1\n",
      "--- Agent 1\n",
      "------ Mean distance 0.24256632350744223\n",
      "------ Median distance 0.21344447018238316\n",
      "------ Third quartile 0.2922539910970072\n",
      "------ Ninetieth percentile 0.36463623123674616\n",
      "------ max distance 3.056401590244382\n",
      "------ argmax distance 1\n",
      "computing time\n",
      "0:01:30.459897\n",
      "generation time\n",
      "0:01:28.488474\n",
      "memory usage\n",
      "memory use: 0.9050178527832031\n",
      "-- Stats word count:\n",
      "---- Mean number of word activated: 1.705\n",
      "---- Median number of word activated: 2.0\n",
      "---- Total number of word activated: 4\n",
      "\n",
      "\n",
      "iteration 1550\n",
      "physical reward: -479.37225\n",
      "prediction reward: -1.5111208\n",
      "vocabulary reward: -8.277188\n",
      "total reward: -485.02194\n",
      "--- Agent 0\n",
      "------ Mean distance 0.19636442055517267\n",
      "------ Median distance 0.12127506052806457\n",
      "------ Third quartile 0.17867115966905578\n",
      "------ Ninetieth percentile 0.26595216976974606\n",
      "------ max distance 5.836016836024683\n",
      "------ argmax distance 72\n",
      "--- Agent 1\n",
      "------ Mean distance 0.1853121939051622\n",
      "------ Median distance 0.11439968718545285\n",
      "------ Third quartile 0.16771851331225832\n",
      "------ Ninetieth percentile 0.23950813939694\n",
      "------ max distance 5.937596476816279\n",
      "------ argmax distance 72\n",
      "computing time\n",
      "0:01:35.285302\n",
      "generation time\n",
      "0:01:33.318588\n",
      "memory usage\n",
      "memory use: 0.9050178527832031\n",
      "-- Stats word count:\n",
      "---- Mean number of word activated: 1.66\n",
      "---- Median number of word activated: 2.0\n",
      "---- Total number of word activated: 3\n",
      "\n",
      "\n",
      "iteration 1600\n",
      "physical reward: -462.31714\n",
      "prediction reward: -1.5152843\n",
      "vocabulary reward: -8.276325\n",
      "total reward: -467.97058\n",
      "--- Agent 0\n",
      "------ Mean distance 0.18969977482590983\n",
      "------ Median distance 0.10674435557849837\n",
      "------ Third quartile 0.1658323436769998\n",
      "------ Ninetieth percentile 0.25079406076672833\n",
      "------ max distance 6.758195817598974\n",
      "------ argmax distance 6\n",
      "--- Agent 1\n",
      "------ Mean distance 0.2094802664780567\n",
      "------ Median distance 0.11240683326367071\n",
      "------ Third quartile 0.1777620226742196\n",
      "------ Ninetieth percentile 0.29484584937975206\n",
      "------ max distance 6.876438878065484\n",
      "------ argmax distance 6\n",
      "computing time\n",
      "0:01:37.283670\n",
      "generation time\n",
      "0:01:35.186878\n",
      "memory usage\n",
      "memory use: 0.9050178527832031\n",
      "-- Stats word count:\n",
      "---- Mean number of word activated: 1.675\n",
      "---- Median number of word activated: 2.0\n",
      "---- Total number of word activated: 3\n",
      "\n",
      "\n",
      "iteration 1650\n",
      "physical reward: -468.1099\n",
      "prediction reward: -1.534716\n",
      "vocabulary reward: -8.671027\n",
      "total reward: -473.98013\n",
      "--- Agent 0\n",
      "------ Mean distance 0.15516029910974832\n",
      "------ Median distance 0.120020912026527\n",
      "------ Third quartile 0.16493162809641515\n",
      "------ Ninetieth percentile 0.2033454024389331\n",
      "------ max distance 3.115215238586464\n",
      "------ argmax distance 42\n",
      "--- Agent 1\n",
      "------ Mean distance 0.1866143459690887\n",
      "------ Median distance 0.11491314879727581\n",
      "------ Third quartile 0.16109324723789406\n",
      "------ Ninetieth percentile 0.20235158315864113\n",
      "------ max distance 5.880248873149536\n",
      "------ argmax distance 80\n",
      "computing time\n",
      "0:01:34.595545\n",
      "generation time\n",
      "0:01:33.013845\n",
      "memory usage\n",
      "memory use: 0.9050178527832031\n",
      "-- Stats word count:\n",
      "---- Mean number of word activated: 1.695\n",
      "---- Median number of word activated: 2.0\n",
      "---- Total number of word activated: 3\n",
      "\n",
      "\n",
      "iteration 1700\n",
      "physical reward: -459.28485\n",
      "prediction reward: -1.4997001\n",
      "vocabulary reward: -8.42329\n",
      "total reward: -464.9962\n",
      "--- Agent 0\n",
      "------ Mean distance 0.17389343873409602\n",
      "------ Median distance 0.10385548865374163\n",
      "------ Third quartile 0.1555193962885319\n",
      "------ Ninetieth percentile 0.21625653471152773\n",
      "------ max distance 5.5507781481205845\n",
      "------ argmax distance 74\n",
      "--- Agent 1\n",
      "------ Mean distance 0.1832687299129841\n",
      "------ Median distance 0.10972874236058466\n",
      "------ Third quartile 0.17204896360749272\n",
      "------ Ninetieth percentile 0.22225296340368733\n",
      "------ max distance 5.790203547775982\n",
      "------ argmax distance 74\n",
      "computing time\n",
      "0:01:38.310680\n",
      "generation time\n",
      "0:01:36.388389\n",
      "memory usage\n",
      "memory use: 0.9050178527832031\n",
      "-- Stats word count:\n",
      "---- Mean number of word activated: 1.685\n",
      "---- Median number of word activated: 2.0\n",
      "---- Total number of word activated: 3\n"
     ]
    },
    {
     "ename": "KeyboardInterrupt",
     "evalue": "",
     "output_type": "error",
     "traceback": [
      "\u001b[0;31m---------------------------------------------------------------------------\u001b[0m",
      "\u001b[0;31mKeyboardInterrupt\u001b[0m                         Traceback (most recent call last)",
      "\u001b[0;32m<ipython-input-86-06409e79a080>\u001b[0m in \u001b[0;36m<module>\u001b[0;34m()\u001b[0m\n\u001b[1;32m      1\u001b[0m \u001b[0mexp\u001b[0m \u001b[0;34m=\u001b[0m \u001b[0mExperiment\u001b[0m\u001b[0;34m(\u001b[0m\u001b[0;34m)\u001b[0m\u001b[0;34m\u001b[0m\u001b[0m\n\u001b[1;32m      2\u001b[0m \u001b[0msess\u001b[0m \u001b[0;34m=\u001b[0m \u001b[0mtf\u001b[0m\u001b[0;34m.\u001b[0m\u001b[0mSession\u001b[0m\u001b[0;34m(\u001b[0m\u001b[0;34m)\u001b[0m\u001b[0;34m\u001b[0m\u001b[0m\n\u001b[0;32m----> 3\u001b[0;31m \u001b[0mexp\u001b[0m\u001b[0;34m.\u001b[0m\u001b[0mtrain\u001b[0m\u001b[0;34m(\u001b[0m\u001b[0msess\u001b[0m\u001b[0;34m)\u001b[0m\u001b[0;34m\u001b[0m\u001b[0m\n\u001b[0m",
      "\u001b[0;32m<ipython-input-85-360d6eeb9bba>\u001b[0m in \u001b[0;36mtrain\u001b[0;34m(self, sess)\u001b[0m\n\u001b[1;32m    173\u001b[0m                 \u001b[0mself\u001b[0m\u001b[0;34m.\u001b[0m\u001b[0mtrain_writer\u001b[0m\u001b[0;34m.\u001b[0m\u001b[0madd_summary\u001b[0m\u001b[0;34m(\u001b[0m\u001b[0msummary\u001b[0m\u001b[0;34m,\u001b[0m \u001b[0mi\u001b[0m\u001b[0;34m)\u001b[0m\u001b[0;34m\u001b[0m\u001b[0m\n\u001b[1;32m    174\u001b[0m             \u001b[0;32melse\u001b[0m\u001b[0;34m:\u001b[0m\u001b[0;34m\u001b[0m\u001b[0m\n\u001b[0;32m--> 175\u001b[0;31m                 \u001b[0m_\u001b[0m \u001b[0;34m,\u001b[0m \u001b[0marray_states\u001b[0m\u001b[0;34m,\u001b[0m \u001b[0marray_utterances\u001b[0m\u001b[0;34m,\u001b[0m \u001b[0marray_mem_com\u001b[0m\u001b[0;34m,\u001b[0m \u001b[0marray_mem_last\u001b[0m\u001b[0;34m,\u001b[0m \u001b[0marray_pred\u001b[0m\u001b[0;34m,\u001b[0m \u001b[0mfull_goals\u001b[0m\u001b[0;34m,\u001b[0m \u001b[0marray_outputs\u001b[0m\u001b[0;34m,\u001b[0m \u001b[0mt\u001b[0m\u001b[0;34m,\u001b[0m \u001b[0mreward\u001b[0m\u001b[0;34m,\u001b[0m \u001b[0mphys_reward\u001b[0m\u001b[0;34m,\u001b[0m \u001b[0mvoc_reward\u001b[0m\u001b[0;34m,\u001b[0m \u001b[0mpred_reward\u001b[0m \u001b[0;34m=\u001b[0m \u001b[0msess\u001b[0m\u001b[0;34m.\u001b[0m\u001b[0mrun\u001b[0m\u001b[0;34m(\u001b[0m\u001b[0mself\u001b[0m\u001b[0;34m.\u001b[0m\u001b[0moutput_to_run\u001b[0m\u001b[0;34m,\u001b[0m \u001b[0mfeed_dict\u001b[0m\u001b[0;34m)\u001b[0m\u001b[0;34m\u001b[0m\u001b[0m\n\u001b[0m\u001b[1;32m    176\u001b[0m \u001b[0;34m\u001b[0m\u001b[0m\n\u001b[1;32m    177\u001b[0m \u001b[0;34m\u001b[0m\u001b[0m\n",
      "\u001b[0;32m~/anaconda3/lib/python3.6/site-packages/tensorflow/python/client/session.py\u001b[0m in \u001b[0;36mrun\u001b[0;34m(self, fetches, feed_dict, options, run_metadata)\u001b[0m\n\u001b[1;32m    887\u001b[0m     \u001b[0;32mtry\u001b[0m\u001b[0;34m:\u001b[0m\u001b[0;34m\u001b[0m\u001b[0m\n\u001b[1;32m    888\u001b[0m       result = self._run(None, fetches, feed_dict, options_ptr,\n\u001b[0;32m--> 889\u001b[0;31m                          run_metadata_ptr)\n\u001b[0m\u001b[1;32m    890\u001b[0m       \u001b[0;32mif\u001b[0m \u001b[0mrun_metadata\u001b[0m\u001b[0;34m:\u001b[0m\u001b[0;34m\u001b[0m\u001b[0m\n\u001b[1;32m    891\u001b[0m         \u001b[0mproto_data\u001b[0m \u001b[0;34m=\u001b[0m \u001b[0mtf_session\u001b[0m\u001b[0;34m.\u001b[0m\u001b[0mTF_GetBuffer\u001b[0m\u001b[0;34m(\u001b[0m\u001b[0mrun_metadata_ptr\u001b[0m\u001b[0;34m)\u001b[0m\u001b[0;34m\u001b[0m\u001b[0m\n",
      "\u001b[0;32m~/anaconda3/lib/python3.6/site-packages/tensorflow/python/client/session.py\u001b[0m in \u001b[0;36m_run\u001b[0;34m(self, handle, fetches, feed_dict, options, run_metadata)\u001b[0m\n\u001b[1;32m   1118\u001b[0m     \u001b[0;32mif\u001b[0m \u001b[0mfinal_fetches\u001b[0m \u001b[0;32mor\u001b[0m \u001b[0mfinal_targets\u001b[0m \u001b[0;32mor\u001b[0m \u001b[0;34m(\u001b[0m\u001b[0mhandle\u001b[0m \u001b[0;32mand\u001b[0m \u001b[0mfeed_dict_tensor\u001b[0m\u001b[0;34m)\u001b[0m\u001b[0;34m:\u001b[0m\u001b[0;34m\u001b[0m\u001b[0m\n\u001b[1;32m   1119\u001b[0m       results = self._do_run(handle, final_targets, final_fetches,\n\u001b[0;32m-> 1120\u001b[0;31m                              feed_dict_tensor, options, run_metadata)\n\u001b[0m\u001b[1;32m   1121\u001b[0m     \u001b[0;32melse\u001b[0m\u001b[0;34m:\u001b[0m\u001b[0;34m\u001b[0m\u001b[0m\n\u001b[1;32m   1122\u001b[0m       \u001b[0mresults\u001b[0m \u001b[0;34m=\u001b[0m \u001b[0;34m[\u001b[0m\u001b[0;34m]\u001b[0m\u001b[0;34m\u001b[0m\u001b[0m\n",
      "\u001b[0;32m~/anaconda3/lib/python3.6/site-packages/tensorflow/python/client/session.py\u001b[0m in \u001b[0;36m_do_run\u001b[0;34m(self, handle, target_list, fetch_list, feed_dict, options, run_metadata)\u001b[0m\n\u001b[1;32m   1315\u001b[0m     \u001b[0;32mif\u001b[0m \u001b[0mhandle\u001b[0m \u001b[0;32mis\u001b[0m \u001b[0;32mNone\u001b[0m\u001b[0;34m:\u001b[0m\u001b[0;34m\u001b[0m\u001b[0m\n\u001b[1;32m   1316\u001b[0m       return self._do_call(_run_fn, self._session, feeds, fetches, targets,\n\u001b[0;32m-> 1317\u001b[0;31m                            options, run_metadata)\n\u001b[0m\u001b[1;32m   1318\u001b[0m     \u001b[0;32melse\u001b[0m\u001b[0;34m:\u001b[0m\u001b[0;34m\u001b[0m\u001b[0m\n\u001b[1;32m   1319\u001b[0m       \u001b[0;32mreturn\u001b[0m \u001b[0mself\u001b[0m\u001b[0;34m.\u001b[0m\u001b[0m_do_call\u001b[0m\u001b[0;34m(\u001b[0m\u001b[0m_prun_fn\u001b[0m\u001b[0;34m,\u001b[0m \u001b[0mself\u001b[0m\u001b[0;34m.\u001b[0m\u001b[0m_session\u001b[0m\u001b[0;34m,\u001b[0m \u001b[0mhandle\u001b[0m\u001b[0;34m,\u001b[0m \u001b[0mfeeds\u001b[0m\u001b[0;34m,\u001b[0m \u001b[0mfetches\u001b[0m\u001b[0;34m)\u001b[0m\u001b[0;34m\u001b[0m\u001b[0m\n",
      "\u001b[0;32m~/anaconda3/lib/python3.6/site-packages/tensorflow/python/client/session.py\u001b[0m in \u001b[0;36m_do_call\u001b[0;34m(self, fn, *args)\u001b[0m\n\u001b[1;32m   1321\u001b[0m   \u001b[0;32mdef\u001b[0m \u001b[0m_do_call\u001b[0m\u001b[0;34m(\u001b[0m\u001b[0mself\u001b[0m\u001b[0;34m,\u001b[0m \u001b[0mfn\u001b[0m\u001b[0;34m,\u001b[0m \u001b[0;34m*\u001b[0m\u001b[0margs\u001b[0m\u001b[0;34m)\u001b[0m\u001b[0;34m:\u001b[0m\u001b[0;34m\u001b[0m\u001b[0m\n\u001b[1;32m   1322\u001b[0m     \u001b[0;32mtry\u001b[0m\u001b[0;34m:\u001b[0m\u001b[0;34m\u001b[0m\u001b[0m\n\u001b[0;32m-> 1323\u001b[0;31m       \u001b[0;32mreturn\u001b[0m \u001b[0mfn\u001b[0m\u001b[0;34m(\u001b[0m\u001b[0;34m*\u001b[0m\u001b[0margs\u001b[0m\u001b[0;34m)\u001b[0m\u001b[0;34m\u001b[0m\u001b[0m\n\u001b[0m\u001b[1;32m   1324\u001b[0m     \u001b[0;32mexcept\u001b[0m \u001b[0merrors\u001b[0m\u001b[0;34m.\u001b[0m\u001b[0mOpError\u001b[0m \u001b[0;32mas\u001b[0m \u001b[0me\u001b[0m\u001b[0;34m:\u001b[0m\u001b[0;34m\u001b[0m\u001b[0m\n\u001b[1;32m   1325\u001b[0m       \u001b[0mmessage\u001b[0m \u001b[0;34m=\u001b[0m \u001b[0mcompat\u001b[0m\u001b[0;34m.\u001b[0m\u001b[0mas_text\u001b[0m\u001b[0;34m(\u001b[0m\u001b[0me\u001b[0m\u001b[0;34m.\u001b[0m\u001b[0mmessage\u001b[0m\u001b[0;34m)\u001b[0m\u001b[0;34m\u001b[0m\u001b[0m\n",
      "\u001b[0;32m~/anaconda3/lib/python3.6/site-packages/tensorflow/python/client/session.py\u001b[0m in \u001b[0;36m_run_fn\u001b[0;34m(session, feed_dict, fetch_list, target_list, options, run_metadata)\u001b[0m\n\u001b[1;32m   1300\u001b[0m           return tf_session.TF_Run(session, options,\n\u001b[1;32m   1301\u001b[0m                                    \u001b[0mfeed_dict\u001b[0m\u001b[0;34m,\u001b[0m \u001b[0mfetch_list\u001b[0m\u001b[0;34m,\u001b[0m \u001b[0mtarget_list\u001b[0m\u001b[0;34m,\u001b[0m\u001b[0;34m\u001b[0m\u001b[0m\n\u001b[0;32m-> 1302\u001b[0;31m                                    status, run_metadata)\n\u001b[0m\u001b[1;32m   1303\u001b[0m \u001b[0;34m\u001b[0m\u001b[0m\n\u001b[1;32m   1304\u001b[0m     \u001b[0;32mdef\u001b[0m \u001b[0m_prun_fn\u001b[0m\u001b[0;34m(\u001b[0m\u001b[0msession\u001b[0m\u001b[0;34m,\u001b[0m \u001b[0mhandle\u001b[0m\u001b[0;34m,\u001b[0m \u001b[0mfeed_dict\u001b[0m\u001b[0;34m,\u001b[0m \u001b[0mfetch_list\u001b[0m\u001b[0;34m)\u001b[0m\u001b[0;34m:\u001b[0m\u001b[0;34m\u001b[0m\u001b[0m\n",
      "\u001b[0;31mKeyboardInterrupt\u001b[0m: "
     ]
    }
   ],
   "source": [
    "exp = Experiment()\n",
    "sess = tf.Session()\n",
    "exp.train(sess)"
   ]
  },
  {
   "cell_type": "markdown",
   "metadata": {},
   "source": [
    "iteration 46000\n",
    "-253.03172\n",
    "--- Agent 0\n",
    "------ Mean distance 0.3349107071033829\n",
    "------ Median distance 0.29547300157924467\n",
    "------ Third quartile 0.4377302665174422\n",
    "------ Ninetieth percentile 0.638775063507328\n",
    "------ max distance 0.8557159604403306\n",
    "------ argmax distance 39\n",
    "--- Agent 1\n",
    "------ Mean distance 0.3412405142027863\n",
    "------ Median distance 0.31892391108436546\n",
    "------ Third quartile 0.45355292453441526\n",
    "------ Ninetieth percentile 0.6242127385438654\n",
    "------ max distance 0.9072062760757306\n",
    "------ argmax distance 16\n",
    "computing time\n",
    "0:11:42.544759\n",
    "generation time\n",
    "0:11:41.076586\n",
    "memory usage\n",
    "memory use: 0.8258514404296875\n",
    "-- Stats word count:\n",
    "---- Mean number of word activated: 19.28\n",
    "---- Median number of word activated: 19.0"
   ]
  },
  {
   "cell_type": "code",
   "execution_count": 87,
   "metadata": {},
   "outputs": [],
   "source": [
    "with open(\"env_history.pkl\", \"rb\") as openfile:\n",
    "    states, utterances, memories_com, memories_last, goal_locations, goal_types, targets, which_ld = cPickle.load(openfile)\n",
    "\n",
    "    \n",
    "array_states, array_utterances, array_mem_com, array_mem_last, full_goals, array_outputs, pred = exp.arrays_history"
   ]
  },
  {
   "cell_type": "code",
   "execution_count": null,
   "metadata": {
    "collapsed": true
   },
   "outputs": [],
   "source": [
    "print_stats_agent(array_states[-1, :, :, :], goal_locations, goal_types, targets)"
   ]
  },
  {
   "cell_type": "code",
   "execution_count": null,
   "metadata": {
    "collapsed": true
   },
   "outputs": [],
   "source": [
    "goal_locations.shape"
   ]
  },
  {
   "cell_type": "code",
   "execution_count": null,
   "metadata": {
    "collapsed": true
   },
   "outputs": [],
   "source": [
    "sess.close()"
   ]
  },
  {
   "cell_type": "code",
   "execution_count": 39,
   "metadata": {
    "collapsed": true
   },
   "outputs": [],
   "source": [
    "\n",
    "dist_to_goal = compute_goal_dist(python_shuffle(array_states[-1, :, :, :],targets),  goal_locations, goal_types)\n",
    "#dist_to_goal = compute_goal_dist(python_shuffle(array_states[-1, :, :, :],targets),  v, goal_types)"
   ]
  },
  {
   "cell_type": "code",
   "execution_count": 40,
   "metadata": {},
   "outputs": [
    {
     "data": {
      "text/plain": [
       "0.8045466732914726"
      ]
     },
     "execution_count": 40,
     "metadata": {},
     "output_type": "execute_result"
    }
   ],
   "source": [
    "np.max(dist_to_goal)"
   ]
  },
  {
   "cell_type": "code",
   "execution_count": 41,
   "metadata": {},
   "outputs": [
    {
     "data": {
      "text/plain": [
       "(array([ 0,  1,  2,  3,  5,  6,  7,  8,  9, 10, 11, 12, 13, 14, 15, 16, 17,\n",
       "        18, 20, 21, 22, 23, 26, 27, 28, 29, 31, 33, 35, 37, 38, 40, 42, 44,\n",
       "        46, 47, 50, 51, 52, 53, 54, 55, 56, 57, 58, 59, 60, 61, 62, 64, 66,\n",
       "        68, 69, 71, 72, 73, 74, 75, 76, 77, 78, 80, 83, 84, 89, 90, 91, 92,\n",
       "        93, 95, 96, 99]),)"
      ]
     },
     "execution_count": 41,
     "metadata": {},
     "output_type": "execute_result"
    }
   ],
   "source": [
    "np.where((goal_locations[0, :, :] != goal_locations[1, :, :])[0, :] & (targets[1, 0, :] == 0))"
   ]
  },
  {
   "cell_type": "code",
   "execution_count": 42,
   "metadata": {
    "collapsed": true
   },
   "outputs": [],
   "source": [
    "move = dist_to_goal[:, goal_types[0, 0, :] == 1]\n",
    "gaze = dist_to_goal[:, goal_types[0, 1, :] == 1]\n",
    "nothing = dist_to_goal[:, goal_types[0, 2, :] == 1]\n",
    "\n",
    "no_shuffle = dist_to_goal[:, targets[0, 0, :] == 0]\n",
    "shuffle = dist_to_goal[:, targets[1, 0, :] == 0]\n",
    "\n",
    "same_loc = dist_to_goal[:, (goal_locations[0, :, :] == goal_locations[1, :, :])[0, :]]\n",
    "diff_loc = dist_to_goal[:, (goal_locations[0, :, :] != goal_locations[1, :, :])[0, :]]\n",
    "\n",
    "diff_n_shuffle = dist_to_goal[:, (goal_locations[0, :, :] != goal_locations[1, :, :])[0, :] & (targets[1, 0, :] == 0)]\n",
    "diff_not_shuffle = dist_to_goal[:, (goal_locations[0, :, :] != goal_locations[1, :, :])[0, :] & (targets[1, 0, :] == 1)]\n",
    "rest = dist_to_goal[:, ~(goal_locations[0, :, :] != goal_locations[1, :, :])[0, :] & (targets[1, 0, :] == 0)]"
   ]
  },
  {
   "cell_type": "code",
   "execution_count": 43,
   "metadata": {},
   "outputs": [
    {
     "name": "stdout",
     "output_type": "stream",
     "text": [
      "- rest:\n",
      "---- median:0.28894728041085926\n",
      "---- mean:0.3258696595982576\n",
      "---- max:0.8045466732914726\n",
      "---- third quartile:0.45485963684998665\n",
      "---- ninetieth percentile:0.6157374634030559\n",
      "\n",
      "\n",
      "- diff and shuffle:\n",
      "---- median:0.3432538725496517\n",
      "---- mean:0.35289259951391466\n",
      "---- max:0.8025584511627492\n",
      "---- third quartile:0.4681861486882135\n",
      "---- ninetieth percentile:0.5616923920176826\n",
      "\n",
      "\n",
      "- diff and not shuffle:\n",
      "---- median:nan\n",
      "---- mean:nan\n"
     ]
    },
    {
     "name": "stderr",
     "output_type": "stream",
     "text": [
      "/home/gabriel/anaconda3/lib/python3.6/site-packages/numpy/core/fromnumeric.py:2957: RuntimeWarning: Mean of empty slice.\n",
      "  out=out, **kwargs)\n",
      "/home/gabriel/anaconda3/lib/python3.6/site-packages/numpy/core/_methods.py:80: RuntimeWarning: invalid value encountered in double_scalars\n",
      "  ret = ret.dtype.type(ret / rcount)\n"
     ]
    },
    {
     "ename": "ValueError",
     "evalue": "zero-size array to reduction operation maximum which has no identity",
     "output_type": "error",
     "traceback": [
      "\u001b[0;31m---------------------------------------------------------------------------\u001b[0m",
      "\u001b[0;31mValueError\u001b[0m                                Traceback (most recent call last)",
      "\u001b[0;32m<ipython-input-43-01f18624306c>\u001b[0m in \u001b[0;36m<module>\u001b[0;34m()\u001b[0m\n\u001b[1;32m     16\u001b[0m \u001b[0mprint\u001b[0m\u001b[0;34m(\u001b[0m\u001b[0;34m\"---- median:\"\u001b[0m \u001b[0;34m+\u001b[0m \u001b[0mstr\u001b[0m\u001b[0;34m(\u001b[0m\u001b[0mnp\u001b[0m\u001b[0;34m.\u001b[0m\u001b[0mmedian\u001b[0m\u001b[0;34m(\u001b[0m\u001b[0mdiff_not_shuffle\u001b[0m\u001b[0;34m)\u001b[0m\u001b[0;34m)\u001b[0m\u001b[0;34m)\u001b[0m\u001b[0;34m\u001b[0m\u001b[0m\n\u001b[1;32m     17\u001b[0m \u001b[0mprint\u001b[0m\u001b[0;34m(\u001b[0m\u001b[0;34m\"---- mean:\"\u001b[0m \u001b[0;34m+\u001b[0m \u001b[0mstr\u001b[0m\u001b[0;34m(\u001b[0m\u001b[0mnp\u001b[0m\u001b[0;34m.\u001b[0m\u001b[0mmean\u001b[0m\u001b[0;34m(\u001b[0m\u001b[0mdiff_not_shuffle\u001b[0m\u001b[0;34m)\u001b[0m\u001b[0;34m)\u001b[0m\u001b[0;34m)\u001b[0m\u001b[0;34m\u001b[0m\u001b[0m\n\u001b[0;32m---> 18\u001b[0;31m \u001b[0mprint\u001b[0m\u001b[0;34m(\u001b[0m\u001b[0;34m\"---- max:\"\u001b[0m \u001b[0;34m+\u001b[0m \u001b[0mstr\u001b[0m\u001b[0;34m(\u001b[0m\u001b[0mnp\u001b[0m\u001b[0;34m.\u001b[0m\u001b[0mmax\u001b[0m\u001b[0;34m(\u001b[0m\u001b[0mdiff_not_shuffle\u001b[0m\u001b[0;34m)\u001b[0m\u001b[0;34m)\u001b[0m\u001b[0;34m)\u001b[0m\u001b[0;34m\u001b[0m\u001b[0m\n\u001b[0m\u001b[1;32m     19\u001b[0m \u001b[0mprint\u001b[0m\u001b[0;34m(\u001b[0m\u001b[0;34m\"---- third quartile:\"\u001b[0m \u001b[0;34m+\u001b[0m \u001b[0mstr\u001b[0m\u001b[0;34m(\u001b[0m\u001b[0mnp\u001b[0m\u001b[0;34m.\u001b[0m\u001b[0mpercentile\u001b[0m\u001b[0;34m(\u001b[0m\u001b[0mdiff_not_shuffle\u001b[0m\u001b[0;34m,\u001b[0m \u001b[0;36m75\u001b[0m\u001b[0;34m)\u001b[0m\u001b[0;34m)\u001b[0m\u001b[0;34m)\u001b[0m\u001b[0;34m\u001b[0m\u001b[0m\n\u001b[1;32m     20\u001b[0m \u001b[0mprint\u001b[0m\u001b[0;34m(\u001b[0m\u001b[0;34m\"---- ninetieth percentile:\"\u001b[0m \u001b[0;34m+\u001b[0m \u001b[0mstr\u001b[0m\u001b[0;34m(\u001b[0m\u001b[0mnp\u001b[0m\u001b[0;34m.\u001b[0m\u001b[0mpercentile\u001b[0m\u001b[0;34m(\u001b[0m\u001b[0mdiff_not_shuffle\u001b[0m\u001b[0;34m,\u001b[0m \u001b[0;36m90\u001b[0m\u001b[0;34m)\u001b[0m\u001b[0;34m)\u001b[0m\u001b[0;34m)\u001b[0m\u001b[0;34m\u001b[0m\u001b[0m\n",
      "\u001b[0;32m~/anaconda3/lib/python3.6/site-packages/numpy/core/fromnumeric.py\u001b[0m in \u001b[0;36mamax\u001b[0;34m(a, axis, out, keepdims)\u001b[0m\n\u001b[1;32m   2318\u001b[0m \u001b[0;34m\u001b[0m\u001b[0m\n\u001b[1;32m   2319\u001b[0m     return _methods._amax(a, axis=axis,\n\u001b[0;32m-> 2320\u001b[0;31m                           out=out, **kwargs)\n\u001b[0m\u001b[1;32m   2321\u001b[0m \u001b[0;34m\u001b[0m\u001b[0m\n\u001b[1;32m   2322\u001b[0m \u001b[0;34m\u001b[0m\u001b[0m\n",
      "\u001b[0;32m~/anaconda3/lib/python3.6/site-packages/numpy/core/_methods.py\u001b[0m in \u001b[0;36m_amax\u001b[0;34m(a, axis, out, keepdims)\u001b[0m\n\u001b[1;32m     24\u001b[0m \u001b[0;31m# small reductions\u001b[0m\u001b[0;34m\u001b[0m\u001b[0;34m\u001b[0m\u001b[0m\n\u001b[1;32m     25\u001b[0m \u001b[0;32mdef\u001b[0m \u001b[0m_amax\u001b[0m\u001b[0;34m(\u001b[0m\u001b[0ma\u001b[0m\u001b[0;34m,\u001b[0m \u001b[0maxis\u001b[0m\u001b[0;34m=\u001b[0m\u001b[0;32mNone\u001b[0m\u001b[0;34m,\u001b[0m \u001b[0mout\u001b[0m\u001b[0;34m=\u001b[0m\u001b[0;32mNone\u001b[0m\u001b[0;34m,\u001b[0m \u001b[0mkeepdims\u001b[0m\u001b[0;34m=\u001b[0m\u001b[0;32mFalse\u001b[0m\u001b[0;34m)\u001b[0m\u001b[0;34m:\u001b[0m\u001b[0;34m\u001b[0m\u001b[0m\n\u001b[0;32m---> 26\u001b[0;31m     \u001b[0;32mreturn\u001b[0m \u001b[0mumr_maximum\u001b[0m\u001b[0;34m(\u001b[0m\u001b[0ma\u001b[0m\u001b[0;34m,\u001b[0m \u001b[0maxis\u001b[0m\u001b[0;34m,\u001b[0m \u001b[0;32mNone\u001b[0m\u001b[0;34m,\u001b[0m \u001b[0mout\u001b[0m\u001b[0;34m,\u001b[0m \u001b[0mkeepdims\u001b[0m\u001b[0;34m)\u001b[0m\u001b[0;34m\u001b[0m\u001b[0m\n\u001b[0m\u001b[1;32m     27\u001b[0m \u001b[0;34m\u001b[0m\u001b[0m\n\u001b[1;32m     28\u001b[0m \u001b[0;32mdef\u001b[0m \u001b[0m_amin\u001b[0m\u001b[0;34m(\u001b[0m\u001b[0ma\u001b[0m\u001b[0;34m,\u001b[0m \u001b[0maxis\u001b[0m\u001b[0;34m=\u001b[0m\u001b[0;32mNone\u001b[0m\u001b[0;34m,\u001b[0m \u001b[0mout\u001b[0m\u001b[0;34m=\u001b[0m\u001b[0;32mNone\u001b[0m\u001b[0;34m,\u001b[0m \u001b[0mkeepdims\u001b[0m\u001b[0;34m=\u001b[0m\u001b[0;32mFalse\u001b[0m\u001b[0;34m)\u001b[0m\u001b[0;34m:\u001b[0m\u001b[0;34m\u001b[0m\u001b[0m\n",
      "\u001b[0;31mValueError\u001b[0m: zero-size array to reduction operation maximum which has no identity"
     ]
    }
   ],
   "source": [
    "print(\"- rest:\")\n",
    "print(\"---- median:\" + str(np.median(rest)))\n",
    "print(\"---- mean:\" + str(np.mean(rest)))\n",
    "print(\"---- max:\" + str(np.max(rest)))\n",
    "print(\"---- third quartile:\" + str(np.percentile(rest, 75)))\n",
    "print(\"---- ninetieth percentile:\" + str(np.percentile(rest, 90)))\n",
    "print(\"\\n\")\n",
    "print(\"- diff and shuffle:\")\n",
    "print(\"---- median:\" + str(np.median(diff_n_shuffle)))\n",
    "print(\"---- mean:\" + str(np.mean(diff_n_shuffle)))\n",
    "print(\"---- max:\" + str(np.max(diff_n_shuffle)))\n",
    "print(\"---- third quartile:\" + str(np.percentile(diff_n_shuffle, 75)))\n",
    "print(\"---- ninetieth percentile:\" + str(np.percentile(diff_n_shuffle, 90)))\n",
    "print(\"\\n\")\n",
    "print(\"- diff and not shuffle:\")\n",
    "print(\"---- median:\" + str(np.median(diff_not_shuffle)))\n",
    "print(\"---- mean:\" + str(np.mean(diff_not_shuffle)))\n",
    "print(\"---- max:\" + str(np.max(diff_not_shuffle)))\n",
    "print(\"---- third quartile:\" + str(np.percentile(diff_not_shuffle, 75)))\n",
    "print(\"---- ninetieth percentile:\" + str(np.percentile(diff_not_shuffle, 90)))"
   ]
  },
  {
   "cell_type": "code",
   "execution_count": 44,
   "metadata": {},
   "outputs": [
    {
     "data": {
      "text/plain": [
       "0.8045466732914726"
      ]
     },
     "execution_count": 44,
     "metadata": {},
     "output_type": "execute_result"
    }
   ],
   "source": [
    "np.max(dist_to_goal)"
   ]
  },
  {
   "cell_type": "code",
   "execution_count": 45,
   "metadata": {},
   "outputs": [
    {
     "data": {
      "text/plain": [
       "(2, 100)"
      ]
     },
     "execution_count": 45,
     "metadata": {},
     "output_type": "execute_result"
    }
   ],
   "source": [
    "goal_locations[1, :, :].shape"
   ]
  },
  {
   "cell_type": "code",
   "execution_count": 46,
   "metadata": {},
   "outputs": [
    {
     "name": "stdout",
     "output_type": "stream",
     "text": [
      "- no_shuffle:\n",
      "---- median:nan\n",
      "---- mean:nan\n"
     ]
    },
    {
     "name": "stderr",
     "output_type": "stream",
     "text": [
      "/home/gabriel/anaconda3/lib/python3.6/site-packages/numpy/core/fromnumeric.py:2957: RuntimeWarning: Mean of empty slice.\n",
      "  out=out, **kwargs)\n",
      "/home/gabriel/anaconda3/lib/python3.6/site-packages/numpy/core/_methods.py:80: RuntimeWarning: invalid value encountered in double_scalars\n",
      "  ret = ret.dtype.type(ret / rcount)\n"
     ]
    },
    {
     "ename": "ValueError",
     "evalue": "zero-size array to reduction operation maximum which has no identity",
     "output_type": "error",
     "traceback": [
      "\u001b[0;31m---------------------------------------------------------------------------\u001b[0m",
      "\u001b[0;31mValueError\u001b[0m                                Traceback (most recent call last)",
      "\u001b[0;32m<ipython-input-46-5c0e08e46e86>\u001b[0m in \u001b[0;36m<module>\u001b[0;34m()\u001b[0m\n\u001b[1;32m      2\u001b[0m \u001b[0mprint\u001b[0m\u001b[0;34m(\u001b[0m\u001b[0;34m\"---- median:\"\u001b[0m \u001b[0;34m+\u001b[0m \u001b[0mstr\u001b[0m\u001b[0;34m(\u001b[0m\u001b[0mnp\u001b[0m\u001b[0;34m.\u001b[0m\u001b[0mmedian\u001b[0m\u001b[0;34m(\u001b[0m\u001b[0mno_shuffle\u001b[0m\u001b[0;34m)\u001b[0m\u001b[0;34m)\u001b[0m\u001b[0;34m)\u001b[0m\u001b[0;34m\u001b[0m\u001b[0m\n\u001b[1;32m      3\u001b[0m \u001b[0mprint\u001b[0m\u001b[0;34m(\u001b[0m\u001b[0;34m\"---- mean:\"\u001b[0m \u001b[0;34m+\u001b[0m \u001b[0mstr\u001b[0m\u001b[0;34m(\u001b[0m\u001b[0mnp\u001b[0m\u001b[0;34m.\u001b[0m\u001b[0mmean\u001b[0m\u001b[0;34m(\u001b[0m\u001b[0mno_shuffle\u001b[0m\u001b[0;34m)\u001b[0m\u001b[0;34m)\u001b[0m\u001b[0;34m)\u001b[0m\u001b[0;34m\u001b[0m\u001b[0m\n\u001b[0;32m----> 4\u001b[0;31m \u001b[0mprint\u001b[0m\u001b[0;34m(\u001b[0m\u001b[0;34m\"---- max:\"\u001b[0m \u001b[0;34m+\u001b[0m \u001b[0mstr\u001b[0m\u001b[0;34m(\u001b[0m\u001b[0mnp\u001b[0m\u001b[0;34m.\u001b[0m\u001b[0mmax\u001b[0m\u001b[0;34m(\u001b[0m\u001b[0mno_shuffle\u001b[0m\u001b[0;34m)\u001b[0m\u001b[0;34m)\u001b[0m\u001b[0;34m)\u001b[0m\u001b[0;34m\u001b[0m\u001b[0m\n\u001b[0m\u001b[1;32m      5\u001b[0m \u001b[0mprint\u001b[0m\u001b[0;34m(\u001b[0m\u001b[0;34m\"---- third quartile:\"\u001b[0m \u001b[0;34m+\u001b[0m \u001b[0mstr\u001b[0m\u001b[0;34m(\u001b[0m\u001b[0mnp\u001b[0m\u001b[0;34m.\u001b[0m\u001b[0mpercentile\u001b[0m\u001b[0;34m(\u001b[0m\u001b[0mno_shuffle\u001b[0m\u001b[0;34m,\u001b[0m \u001b[0;36m75\u001b[0m\u001b[0;34m)\u001b[0m\u001b[0;34m)\u001b[0m\u001b[0;34m)\u001b[0m\u001b[0;34m\u001b[0m\u001b[0m\n\u001b[1;32m      6\u001b[0m \u001b[0mprint\u001b[0m\u001b[0;34m(\u001b[0m\u001b[0;34m\"---- ninetieth percentile:\"\u001b[0m \u001b[0;34m+\u001b[0m \u001b[0mstr\u001b[0m\u001b[0;34m(\u001b[0m\u001b[0mnp\u001b[0m\u001b[0;34m.\u001b[0m\u001b[0mpercentile\u001b[0m\u001b[0;34m(\u001b[0m\u001b[0mno_shuffle\u001b[0m\u001b[0;34m,\u001b[0m \u001b[0;36m90\u001b[0m\u001b[0;34m)\u001b[0m\u001b[0;34m)\u001b[0m\u001b[0;34m)\u001b[0m\u001b[0;34m\u001b[0m\u001b[0m\n",
      "\u001b[0;32m~/anaconda3/lib/python3.6/site-packages/numpy/core/fromnumeric.py\u001b[0m in \u001b[0;36mamax\u001b[0;34m(a, axis, out, keepdims)\u001b[0m\n\u001b[1;32m   2318\u001b[0m \u001b[0;34m\u001b[0m\u001b[0m\n\u001b[1;32m   2319\u001b[0m     return _methods._amax(a, axis=axis,\n\u001b[0;32m-> 2320\u001b[0;31m                           out=out, **kwargs)\n\u001b[0m\u001b[1;32m   2321\u001b[0m \u001b[0;34m\u001b[0m\u001b[0m\n\u001b[1;32m   2322\u001b[0m \u001b[0;34m\u001b[0m\u001b[0m\n",
      "\u001b[0;32m~/anaconda3/lib/python3.6/site-packages/numpy/core/_methods.py\u001b[0m in \u001b[0;36m_amax\u001b[0;34m(a, axis, out, keepdims)\u001b[0m\n\u001b[1;32m     24\u001b[0m \u001b[0;31m# small reductions\u001b[0m\u001b[0;34m\u001b[0m\u001b[0;34m\u001b[0m\u001b[0m\n\u001b[1;32m     25\u001b[0m \u001b[0;32mdef\u001b[0m \u001b[0m_amax\u001b[0m\u001b[0;34m(\u001b[0m\u001b[0ma\u001b[0m\u001b[0;34m,\u001b[0m \u001b[0maxis\u001b[0m\u001b[0;34m=\u001b[0m\u001b[0;32mNone\u001b[0m\u001b[0;34m,\u001b[0m \u001b[0mout\u001b[0m\u001b[0;34m=\u001b[0m\u001b[0;32mNone\u001b[0m\u001b[0;34m,\u001b[0m \u001b[0mkeepdims\u001b[0m\u001b[0;34m=\u001b[0m\u001b[0;32mFalse\u001b[0m\u001b[0;34m)\u001b[0m\u001b[0;34m:\u001b[0m\u001b[0;34m\u001b[0m\u001b[0m\n\u001b[0;32m---> 26\u001b[0;31m     \u001b[0;32mreturn\u001b[0m \u001b[0mumr_maximum\u001b[0m\u001b[0;34m(\u001b[0m\u001b[0ma\u001b[0m\u001b[0;34m,\u001b[0m \u001b[0maxis\u001b[0m\u001b[0;34m,\u001b[0m \u001b[0;32mNone\u001b[0m\u001b[0;34m,\u001b[0m \u001b[0mout\u001b[0m\u001b[0;34m,\u001b[0m \u001b[0mkeepdims\u001b[0m\u001b[0;34m)\u001b[0m\u001b[0;34m\u001b[0m\u001b[0m\n\u001b[0m\u001b[1;32m     27\u001b[0m \u001b[0;34m\u001b[0m\u001b[0m\n\u001b[1;32m     28\u001b[0m \u001b[0;32mdef\u001b[0m \u001b[0m_amin\u001b[0m\u001b[0;34m(\u001b[0m\u001b[0ma\u001b[0m\u001b[0;34m,\u001b[0m \u001b[0maxis\u001b[0m\u001b[0;34m=\u001b[0m\u001b[0;32mNone\u001b[0m\u001b[0;34m,\u001b[0m \u001b[0mout\u001b[0m\u001b[0;34m=\u001b[0m\u001b[0;32mNone\u001b[0m\u001b[0;34m,\u001b[0m \u001b[0mkeepdims\u001b[0m\u001b[0;34m=\u001b[0m\u001b[0;32mFalse\u001b[0m\u001b[0;34m)\u001b[0m\u001b[0;34m:\u001b[0m\u001b[0;34m\u001b[0m\u001b[0m\n",
      "\u001b[0;31mValueError\u001b[0m: zero-size array to reduction operation maximum which has no identity"
     ]
    }
   ],
   "source": [
    "print(\"- no_shuffle:\")\n",
    "print(\"---- median:\" + str(np.median(no_shuffle)))\n",
    "print(\"---- mean:\" + str(np.mean(no_shuffle)))\n",
    "print(\"---- max:\" + str(np.max(no_shuffle)))\n",
    "print(\"---- third quartile:\" + str(np.percentile(no_shuffle, 75)))\n",
    "print(\"---- ninetieth percentile:\" + str(np.percentile(no_shuffle, 90)))\n",
    "print(\"\\n\")\n",
    "print(\"- shuffle:\")\n",
    "print(\"---- median:\" + str(np.median(shuffle)))\n",
    "print(\"---- mean:\" + str(np.mean(shuffle)))\n",
    "print(\"---- max:\" + str(np.max(shuffle)))\n",
    "print(\"---- third quartile:\" + str(np.percentile(shuffle, 75)))\n",
    "print(\"---- ninetieth percentile:\" + str(np.percentile(shuffle, 90)))"
   ]
  },
  {
   "cell_type": "code",
   "execution_count": 47,
   "metadata": {},
   "outputs": [
    {
     "name": "stdout",
     "output_type": "stream",
     "text": [
      "- move:\n",
      "---- median:0.33451158428247263\n",
      "---- mean:0.3453261763375307\n",
      "---- max:0.8045466732914726\n",
      "---- third quartile:0.4622149582380899\n",
      "---- ninetieth percentile:0.5934106536566446\n",
      "\n",
      "\n",
      "- gaze:\n",
      "---- median:nan\n",
      "---- mean:nan\n"
     ]
    },
    {
     "name": "stderr",
     "output_type": "stream",
     "text": [
      "/home/gabriel/anaconda3/lib/python3.6/site-packages/numpy/core/fromnumeric.py:2957: RuntimeWarning: Mean of empty slice.\n",
      "  out=out, **kwargs)\n",
      "/home/gabriel/anaconda3/lib/python3.6/site-packages/numpy/core/_methods.py:80: RuntimeWarning: invalid value encountered in double_scalars\n",
      "  ret = ret.dtype.type(ret / rcount)\n"
     ]
    },
    {
     "ename": "ValueError",
     "evalue": "zero-size array to reduction operation maximum which has no identity",
     "output_type": "error",
     "traceback": [
      "\u001b[0;31m---------------------------------------------------------------------------\u001b[0m",
      "\u001b[0;31mValueError\u001b[0m                                Traceback (most recent call last)",
      "\u001b[0;32m<ipython-input-47-5dc8361ef0c5>\u001b[0m in \u001b[0;36m<module>\u001b[0;34m()\u001b[0m\n\u001b[1;32m      9\u001b[0m \u001b[0mprint\u001b[0m\u001b[0;34m(\u001b[0m\u001b[0;34m\"---- median:\"\u001b[0m \u001b[0;34m+\u001b[0m \u001b[0mstr\u001b[0m\u001b[0;34m(\u001b[0m\u001b[0mnp\u001b[0m\u001b[0;34m.\u001b[0m\u001b[0mmedian\u001b[0m\u001b[0;34m(\u001b[0m\u001b[0mgaze\u001b[0m\u001b[0;34m)\u001b[0m\u001b[0;34m)\u001b[0m\u001b[0;34m)\u001b[0m\u001b[0;34m\u001b[0m\u001b[0m\n\u001b[1;32m     10\u001b[0m \u001b[0mprint\u001b[0m\u001b[0;34m(\u001b[0m\u001b[0;34m\"---- mean:\"\u001b[0m \u001b[0;34m+\u001b[0m \u001b[0mstr\u001b[0m\u001b[0;34m(\u001b[0m\u001b[0mnp\u001b[0m\u001b[0;34m.\u001b[0m\u001b[0mmean\u001b[0m\u001b[0;34m(\u001b[0m\u001b[0mgaze\u001b[0m\u001b[0;34m)\u001b[0m\u001b[0;34m)\u001b[0m\u001b[0;34m)\u001b[0m\u001b[0;34m\u001b[0m\u001b[0m\n\u001b[0;32m---> 11\u001b[0;31m \u001b[0mprint\u001b[0m\u001b[0;34m(\u001b[0m\u001b[0;34m\"---- max:\"\u001b[0m \u001b[0;34m+\u001b[0m \u001b[0mstr\u001b[0m\u001b[0;34m(\u001b[0m\u001b[0mnp\u001b[0m\u001b[0;34m.\u001b[0m\u001b[0mmax\u001b[0m\u001b[0;34m(\u001b[0m\u001b[0mgaze\u001b[0m\u001b[0;34m)\u001b[0m\u001b[0;34m)\u001b[0m\u001b[0;34m)\u001b[0m\u001b[0;34m\u001b[0m\u001b[0m\n\u001b[0m\u001b[1;32m     12\u001b[0m \u001b[0mprint\u001b[0m\u001b[0;34m(\u001b[0m\u001b[0;34m\"---- third quartile:\"\u001b[0m \u001b[0;34m+\u001b[0m \u001b[0mstr\u001b[0m\u001b[0;34m(\u001b[0m\u001b[0mnp\u001b[0m\u001b[0;34m.\u001b[0m\u001b[0mpercentile\u001b[0m\u001b[0;34m(\u001b[0m\u001b[0mgaze\u001b[0m\u001b[0;34m,\u001b[0m \u001b[0;36m75\u001b[0m\u001b[0;34m)\u001b[0m\u001b[0;34m)\u001b[0m\u001b[0;34m)\u001b[0m\u001b[0;34m\u001b[0m\u001b[0m\n\u001b[1;32m     13\u001b[0m \u001b[0mprint\u001b[0m\u001b[0;34m(\u001b[0m\u001b[0;34m\"---- ninetieth percentile:\"\u001b[0m \u001b[0;34m+\u001b[0m \u001b[0mstr\u001b[0m\u001b[0;34m(\u001b[0m\u001b[0mnp\u001b[0m\u001b[0;34m.\u001b[0m\u001b[0mpercentile\u001b[0m\u001b[0;34m(\u001b[0m\u001b[0mgaze\u001b[0m\u001b[0;34m,\u001b[0m \u001b[0;36m90\u001b[0m\u001b[0;34m)\u001b[0m\u001b[0;34m)\u001b[0m\u001b[0;34m)\u001b[0m\u001b[0;34m\u001b[0m\u001b[0m\n",
      "\u001b[0;32m~/anaconda3/lib/python3.6/site-packages/numpy/core/fromnumeric.py\u001b[0m in \u001b[0;36mamax\u001b[0;34m(a, axis, out, keepdims)\u001b[0m\n\u001b[1;32m   2318\u001b[0m \u001b[0;34m\u001b[0m\u001b[0m\n\u001b[1;32m   2319\u001b[0m     return _methods._amax(a, axis=axis,\n\u001b[0;32m-> 2320\u001b[0;31m                           out=out, **kwargs)\n\u001b[0m\u001b[1;32m   2321\u001b[0m \u001b[0;34m\u001b[0m\u001b[0m\n\u001b[1;32m   2322\u001b[0m \u001b[0;34m\u001b[0m\u001b[0m\n",
      "\u001b[0;32m~/anaconda3/lib/python3.6/site-packages/numpy/core/_methods.py\u001b[0m in \u001b[0;36m_amax\u001b[0;34m(a, axis, out, keepdims)\u001b[0m\n\u001b[1;32m     24\u001b[0m \u001b[0;31m# small reductions\u001b[0m\u001b[0;34m\u001b[0m\u001b[0;34m\u001b[0m\u001b[0m\n\u001b[1;32m     25\u001b[0m \u001b[0;32mdef\u001b[0m \u001b[0m_amax\u001b[0m\u001b[0;34m(\u001b[0m\u001b[0ma\u001b[0m\u001b[0;34m,\u001b[0m \u001b[0maxis\u001b[0m\u001b[0;34m=\u001b[0m\u001b[0;32mNone\u001b[0m\u001b[0;34m,\u001b[0m \u001b[0mout\u001b[0m\u001b[0;34m=\u001b[0m\u001b[0;32mNone\u001b[0m\u001b[0;34m,\u001b[0m \u001b[0mkeepdims\u001b[0m\u001b[0;34m=\u001b[0m\u001b[0;32mFalse\u001b[0m\u001b[0;34m)\u001b[0m\u001b[0;34m:\u001b[0m\u001b[0;34m\u001b[0m\u001b[0m\n\u001b[0;32m---> 26\u001b[0;31m     \u001b[0;32mreturn\u001b[0m \u001b[0mumr_maximum\u001b[0m\u001b[0;34m(\u001b[0m\u001b[0ma\u001b[0m\u001b[0;34m,\u001b[0m \u001b[0maxis\u001b[0m\u001b[0;34m,\u001b[0m \u001b[0;32mNone\u001b[0m\u001b[0;34m,\u001b[0m \u001b[0mout\u001b[0m\u001b[0;34m,\u001b[0m \u001b[0mkeepdims\u001b[0m\u001b[0;34m)\u001b[0m\u001b[0;34m\u001b[0m\u001b[0m\n\u001b[0m\u001b[1;32m     27\u001b[0m \u001b[0;34m\u001b[0m\u001b[0m\n\u001b[1;32m     28\u001b[0m \u001b[0;32mdef\u001b[0m \u001b[0m_amin\u001b[0m\u001b[0;34m(\u001b[0m\u001b[0ma\u001b[0m\u001b[0;34m,\u001b[0m \u001b[0maxis\u001b[0m\u001b[0;34m=\u001b[0m\u001b[0;32mNone\u001b[0m\u001b[0;34m,\u001b[0m \u001b[0mout\u001b[0m\u001b[0;34m=\u001b[0m\u001b[0;32mNone\u001b[0m\u001b[0;34m,\u001b[0m \u001b[0mkeepdims\u001b[0m\u001b[0;34m=\u001b[0m\u001b[0;32mFalse\u001b[0m\u001b[0;34m)\u001b[0m\u001b[0;34m:\u001b[0m\u001b[0;34m\u001b[0m\u001b[0m\n",
      "\u001b[0;31mValueError\u001b[0m: zero-size array to reduction operation maximum which has no identity"
     ]
    }
   ],
   "source": [
    "print(\"- move:\")\n",
    "print(\"---- median:\" + str(np.median(move)))\n",
    "print(\"---- mean:\" + str(np.mean(move)))\n",
    "print(\"---- max:\" + str(np.max(move)))\n",
    "print(\"---- third quartile:\" + str(np.percentile(move, 75)))\n",
    "print(\"---- ninetieth percentile:\" + str(np.percentile(move, 90)))\n",
    "print(\"\\n\")\n",
    "print(\"- gaze:\")\n",
    "print(\"---- median:\" + str(np.median(gaze)))\n",
    "print(\"---- mean:\" + str(np.mean(gaze)))\n",
    "print(\"---- max:\" + str(np.max(gaze)))\n",
    "print(\"---- third quartile:\" + str(np.percentile(gaze, 75)))\n",
    "print(\"---- ninetieth percentile:\" + str(np.percentile(gaze, 90)))"
   ]
  },
  {
   "cell_type": "code",
   "execution_count": 48,
   "metadata": {},
   "outputs": [
    {
     "name": "stdout",
     "output_type": "stream",
     "text": [
      "- same loc:\n",
      "---- median:0.28894728041085926\n",
      "---- mean:0.3258696595982576\n",
      "---- max:0.8045466732914726\n",
      "---- third quartile:0.45485963684998665\n",
      "---- ninetieth percentile:0.6157374634030559\n",
      "\n",
      "\n",
      "- diff loc:\n",
      "---- median:0.3432538725496517\n",
      "---- mean:0.35289259951391466\n",
      "---- max:0.8025584511627492\n",
      "---- third quartile:0.4681861486882135\n",
      "---- ninetieth percentile:0.5616923920176826\n"
     ]
    }
   ],
   "source": [
    "print(\"- same loc:\")\n",
    "print(\"---- median:\" + str(np.median(same_loc)))\n",
    "print(\"---- mean:\" + str(np.mean(same_loc)))\n",
    "print(\"---- max:\" + str(np.max(same_loc)))\n",
    "print(\"---- third quartile:\" + str(np.percentile(same_loc, 75)))\n",
    "print(\"---- ninetieth percentile:\" + str(np.percentile(same_loc, 90)))\n",
    "print(\"\\n\")\n",
    "print(\"- diff loc:\")\n",
    "print(\"---- median:\" + str(np.median(diff_loc)))\n",
    "print(\"---- mean:\" + str(np.mean(diff_loc)))\n",
    "print(\"---- max:\" + str(np.max(diff_loc)))\n",
    "print(\"---- third quartile:\" + str(np.percentile(diff_loc, 75)))\n",
    "print(\"---- ninetieth percentile:\" + str(np.percentile(diff_loc, 90)))"
   ]
  },
  {
   "cell_type": "code",
   "execution_count": 49,
   "metadata": {},
   "outputs": [
    {
     "data": {
      "text/plain": [
       "array([0., 0., 0., 0., 0., 0., 0., 0., 0., 0., 0., 0., 0., 0., 0., 0., 0.,\n",
       "       0., 0., 0.], dtype=float32)"
      ]
     },
     "execution_count": 49,
     "metadata": {},
     "output_type": "execute_result"
    }
   ],
   "source": [
    "array_utterances[10, 0, :, 3]"
   ]
  },
  {
   "cell_type": "code",
   "execution_count": 50,
   "metadata": {},
   "outputs": [
    {
     "data": {
      "text/plain": [
       "array([0.40567913, 0.56070427])"
      ]
     },
     "execution_count": 50,
     "metadata": {},
     "output_type": "execute_result"
    }
   ],
   "source": [
    "dist_to_goal[:, 56]"
   ]
  },
  {
   "cell_type": "code",
   "execution_count": 51,
   "metadata": {},
   "outputs": [
    {
     "data": {
      "text/plain": [
       "0.5934106536566446"
      ]
     },
     "execution_count": 51,
     "metadata": {},
     "output_type": "execute_result"
    }
   ],
   "source": [
    "np.percentile(dist_to_goal, 90)"
   ]
  },
  {
   "cell_type": "code",
   "execution_count": 52,
   "metadata": {},
   "outputs": [
    {
     "ename": "IndexError",
     "evalue": "too many indices for array",
     "output_type": "error",
     "traceback": [
      "\u001b[0;31m---------------------------------------------------------------------------\u001b[0m",
      "\u001b[0;31mIndexError\u001b[0m                                Traceback (most recent call last)",
      "\u001b[0;32m<ipython-input-52-e58bbd5f5f76>\u001b[0m in \u001b[0;36m<module>\u001b[0;34m()\u001b[0m\n\u001b[0;32m----> 1\u001b[0;31m \u001b[0marray_states\u001b[0m\u001b[0;34m[\u001b[0m\u001b[0;36m0\u001b[0m\u001b[0;34m]\u001b[0m\u001b[0;34m[\u001b[0m\u001b[0;34m-\u001b[0m\u001b[0;36m1\u001b[0m\u001b[0;34m,\u001b[0m \u001b[0;34m:\u001b[0m\u001b[0;34m,\u001b[0m \u001b[0;36m4\u001b[0m\u001b[0;34m:\u001b[0m\u001b[0;36m6\u001b[0m\u001b[0;34m,\u001b[0m \u001b[0;36m82\u001b[0m\u001b[0;34m]\u001b[0m\u001b[0;34m\u001b[0m\u001b[0m\n\u001b[0m",
      "\u001b[0;31mIndexError\u001b[0m: too many indices for array"
     ]
    }
   ],
   "source": [
    "array_states[0][-1, :, 4:6, 82]"
   ]
  },
  {
   "cell_type": "code",
   "execution_count": 53,
   "metadata": {},
   "outputs": [
    {
     "ename": "IndexError",
     "evalue": "too many indices for array",
     "output_type": "error",
     "traceback": [
      "\u001b[0;31m---------------------------------------------------------------------------\u001b[0m",
      "\u001b[0;31mIndexError\u001b[0m                                Traceback (most recent call last)",
      "\u001b[0;32m<ipython-input-53-c5b16d5090f4>\u001b[0m in \u001b[0;36m<module>\u001b[0;34m()\u001b[0m\n\u001b[0;32m----> 1\u001b[0;31m \u001b[0marray_states\u001b[0m\u001b[0;34m[\u001b[0m\u001b[0;36m0\u001b[0m\u001b[0;34m]\u001b[0m\u001b[0;34m[\u001b[0m\u001b[0;36m0\u001b[0m\u001b[0;34m,\u001b[0m \u001b[0;34m:\u001b[0m\u001b[0;34m,\u001b[0m \u001b[0;36m4\u001b[0m\u001b[0;34m:\u001b[0m\u001b[0;36m6\u001b[0m\u001b[0;34m,\u001b[0m \u001b[0;36m82\u001b[0m\u001b[0;34m]\u001b[0m\u001b[0;34m\u001b[0m\u001b[0m\n\u001b[0m",
      "\u001b[0;31mIndexError\u001b[0m: too many indices for array"
     ]
    }
   ],
   "source": [
    "array_states[0][0, :, 4:6, 82]"
   ]
  },
  {
   "cell_type": "code",
   "execution_count": 54,
   "metadata": {},
   "outputs": [
    {
     "data": {
      "text/plain": [
       "(2, 2)"
      ]
     },
     "execution_count": 54,
     "metadata": {},
     "output_type": "execute_result"
    }
   ],
   "source": [
    "goal_locations[:,:, 87].shape"
   ]
  },
  {
   "cell_type": "code",
   "execution_count": 55,
   "metadata": {},
   "outputs": [
    {
     "ename": "IndexError",
     "evalue": "too many indices for array",
     "output_type": "error",
     "traceback": [
      "\u001b[0;31m---------------------------------------------------------------------------\u001b[0m",
      "\u001b[0;31mIndexError\u001b[0m                                Traceback (most recent call last)",
      "\u001b[0;32m<ipython-input-55-1c1e03e4d0e0>\u001b[0m in \u001b[0;36m<module>\u001b[0;34m()\u001b[0m\n\u001b[0;32m----> 1\u001b[0;31m \u001b[0marray_states\u001b[0m\u001b[0;34m[\u001b[0m\u001b[0;36m0\u001b[0m\u001b[0;34m]\u001b[0m\u001b[0;34m[\u001b[0m\u001b[0;34m:\u001b[0m\u001b[0;34m,\u001b[0m \u001b[0;36m0\u001b[0m\u001b[0;34m,\u001b[0m \u001b[0;36m0\u001b[0m\u001b[0;34m:\u001b[0m\u001b[0;36m2\u001b[0m\u001b[0;34m,\u001b[0m \u001b[0;36m82\u001b[0m\u001b[0;34m]\u001b[0m\u001b[0;34m.\u001b[0m\u001b[0mshape\u001b[0m\u001b[0;34m\u001b[0m\u001b[0m\n\u001b[0m",
      "\u001b[0;31mIndexError\u001b[0m: too many indices for array"
     ]
    }
   ],
   "source": [
    "array_states[0][:, 0, 0:2, 82].shape"
   ]
  },
  {
   "cell_type": "code",
   "execution_count": 56,
   "metadata": {},
   "outputs": [
    {
     "ename": "IndexError",
     "evalue": "too many indices for array",
     "output_type": "error",
     "traceback": [
      "\u001b[0;31m---------------------------------------------------------------------------\u001b[0m",
      "\u001b[0;31mIndexError\u001b[0m                                Traceback (most recent call last)",
      "\u001b[0;32m<ipython-input-56-6df541d46d74>\u001b[0m in \u001b[0;36m<module>\u001b[0;34m()\u001b[0m\n\u001b[0;32m----> 1\u001b[0;31m \u001b[0mprint_stats_agent\u001b[0m\u001b[0;34m(\u001b[0m\u001b[0marray_states\u001b[0m\u001b[0;34m[\u001b[0m\u001b[0;36m0\u001b[0m\u001b[0;34m]\u001b[0m\u001b[0;34m[\u001b[0m\u001b[0;34m-\u001b[0m\u001b[0;36m1\u001b[0m\u001b[0;34m,\u001b[0m \u001b[0;34m:\u001b[0m\u001b[0;34m,\u001b[0m \u001b[0;34m:\u001b[0m\u001b[0;34m,\u001b[0m \u001b[0;34m:\u001b[0m\u001b[0;34m]\u001b[0m\u001b[0;34m,\u001b[0m \u001b[0mgoal_locations\u001b[0m\u001b[0;34m,\u001b[0m \u001b[0mgoal_types\u001b[0m\u001b[0;34m)\u001b[0m\u001b[0;34m\u001b[0m\u001b[0m\n\u001b[0m\u001b[1;32m      2\u001b[0m \u001b[0mprint_stats_agent\u001b[0m\u001b[0;34m(\u001b[0m\u001b[0marray_states\u001b[0m\u001b[0;34m[\u001b[0m\u001b[0;36m0\u001b[0m\u001b[0;34m]\u001b[0m\u001b[0;34m[\u001b[0m\u001b[0;36m0\u001b[0m\u001b[0;34m,\u001b[0m \u001b[0;34m:\u001b[0m\u001b[0;34m,\u001b[0m \u001b[0;34m:\u001b[0m\u001b[0;34m,\u001b[0m \u001b[0;34m:\u001b[0m\u001b[0;34m]\u001b[0m\u001b[0;34m,\u001b[0m \u001b[0mgoal_locations\u001b[0m\u001b[0;34m,\u001b[0m \u001b[0mgoal_types\u001b[0m\u001b[0;34m)\u001b[0m\u001b[0;34m\u001b[0m\u001b[0m\n",
      "\u001b[0;31mIndexError\u001b[0m: too many indices for array"
     ]
    }
   ],
   "source": [
    "print_stats_agent(array_states[0][-1, :, :, :], goal_locations, goal_types)\n",
    "print_stats_agent(array_states[0][0, :, :, :], goal_locations, goal_types)"
   ]
  },
  {
   "cell_type": "code",
   "execution_count": 57,
   "metadata": {},
   "outputs": [
    {
     "ename": "NameError",
     "evalue": "name 'v' is not defined",
     "output_type": "error",
     "traceback": [
      "\u001b[0;31m---------------------------------------------------------------------------\u001b[0m",
      "\u001b[0;31mNameError\u001b[0m                                 Traceback (most recent call last)",
      "\u001b[0;32m<ipython-input-57-52c6ba3bf0e8>\u001b[0m in \u001b[0;36m<module>\u001b[0;34m()\u001b[0m\n\u001b[1;32m      1\u001b[0m \u001b[0msave_array_states\u001b[0m \u001b[0;34m=\u001b[0m \u001b[0marray_states\u001b[0m\u001b[0;34m\u001b[0m\u001b[0m\n\u001b[1;32m      2\u001b[0m \u001b[0msave_goal_locations\u001b[0m \u001b[0;34m=\u001b[0m \u001b[0mgoal_locations\u001b[0m\u001b[0;34m\u001b[0m\u001b[0m\n\u001b[0;32m----> 3\u001b[0;31m \u001b[0msave_v\u001b[0m \u001b[0;34m=\u001b[0m \u001b[0mv\u001b[0m\u001b[0;34m\u001b[0m\u001b[0m\n\u001b[0m",
      "\u001b[0;31mNameError\u001b[0m: name 'v' is not defined"
     ]
    }
   ],
   "source": [
    "save_array_states = array_states\n",
    "save_goal_locations = goal_locations\n",
    "save_v = v"
   ]
  },
  {
   "cell_type": "code",
   "execution_count": 58,
   "metadata": {},
   "outputs": [
    {
     "data": {
      "text/plain": [
       "array([0.21563244, 0.08816148])"
      ]
     },
     "execution_count": 58,
     "metadata": {},
     "output_type": "execute_result"
    }
   ],
   "source": [
    "dist_to_goal[:, 81]"
   ]
  },
  {
   "cell_type": "code",
   "execution_count": 59,
   "metadata": {},
   "outputs": [
    {
     "ename": "NameError",
     "evalue": "name 'v' is not defined",
     "output_type": "error",
     "traceback": [
      "\u001b[0;31m---------------------------------------------------------------------------\u001b[0m",
      "\u001b[0;31mNameError\u001b[0m                                 Traceback (most recent call last)",
      "\u001b[0;32m<ipython-input-59-336f6c0b9b46>\u001b[0m in \u001b[0;36m<module>\u001b[0;34m()\u001b[0m\n\u001b[0;32m----> 1\u001b[0;31m \u001b[0mv\u001b[0m\u001b[0;34m[\u001b[0m\u001b[0;36m2\u001b[0m\u001b[0;34m,\u001b[0m \u001b[0;34m:\u001b[0m\u001b[0;34m,\u001b[0m \u001b[0mnb\u001b[0m\u001b[0;34m]\u001b[0m\u001b[0;34m\u001b[0m\u001b[0m\n\u001b[0m",
      "\u001b[0;31mNameError\u001b[0m: name 'v' is not defined"
     ]
    }
   ],
   "source": [
    "v[2, :, nb]"
   ]
  },
  {
   "cell_type": "code",
   "execution_count": 101,
   "metadata": {},
   "outputs": [
    {
     "name": "stdout",
     "output_type": "stream",
     "text": [
      "target  [[1]\n",
      " [0]]\n",
      "first [0 1 0]\n",
      "second [0 1 0]\n"
     ]
    },
    {
     "data": {
      "image/png": "[encoded data removed]",
      "text/plain": [
       "<matplotlib.figure.Figure at 0x7f35e643f630>"
      ]
     },
     "metadata": {},
     "output_type": "display_data"
    },
    {
     "name": "stdout",
     "output_type": "stream",
     "text": [
      "first: [ 2.5 -1. ]\n",
      "second: [1.5 2. ]\n",
      "[[2.  0.5]\n",
      " [2.  0.5]]\n"
     ]
    }
   ],
   "source": [
    "nb = 18\n",
    "print(\"target \", targets[:, :, nb])\n",
    "print(\"first\", goal_types[0, :, nb])\n",
    "print(\"second\", goal_types[1, :, nb])\n",
    "plot_trajectory(array_states[:,1,4:6,nb], goal_locations[0, :, nb], v[0, :, nb])\n",
    "print(\"first:\", goal_locations[0, :, nb])\n",
    "print(\"second:\", goal_locations[1, :, nb])\n",
    "print(v[:, :, nb])"
   ]
  },
  {
   "cell_type": "code",
   "execution_count": 89,
   "metadata": {},
   "outputs": [
    {
     "data": {
      "text/plain": [
       "0.0196078431372549"
      ]
     },
     "execution_count": 89,
     "metadata": {},
     "output_type": "execute_result"
    }
   ],
   "source": [
    "np.mean(array_mem_last == 0)"
   ]
  },
  {
   "cell_type": "code",
   "execution_count": 90,
   "metadata": {},
   "outputs": [
    {
     "data": {
      "text/plain": [
       "array([0., 0.], dtype=float32)"
      ]
     },
     "execution_count": 90,
     "metadata": {},
     "output_type": "execute_result"
    }
   ],
   "source": [
    "np.mean(array_states[-1, 2:, 0:2, 1], axis = 0)"
   ]
  },
  {
   "cell_type": "code",
   "execution_count": 91,
   "metadata": {},
   "outputs": [
    {
     "data": {
      "text/plain": [
       "array([0., 0.], dtype=float32)"
      ]
     },
     "execution_count": 91,
     "metadata": {},
     "output_type": "execute_result"
    }
   ],
   "source": [
    "np.mean(array_states[-1, 3:, 0:2, nb], axis = 0)"
   ]
  },
  {
   "cell_type": "code",
   "execution_count": 92,
   "metadata": {},
   "outputs": [
    {
     "data": {
      "text/plain": [
       "(array([], dtype=int64),)"
      ]
     },
     "execution_count": 92,
     "metadata": {},
     "output_type": "execute_result"
    }
   ],
   "source": [
    "np.where((goal_types[0, 0, :] == 1) & (goal_types[1, 0, :] == 1))"
   ]
  },
  {
   "cell_type": "code",
   "execution_count": 93,
   "metadata": {},
   "outputs": [
    {
     "data": {
      "text/plain": [
       "array([[[ 2.  , -0.75, -3.  , -0.75, -0.25,  2.5 , -0.75, -0.25,  2.  ,\n",
       "          2.5 ,  2.  ,  2.  , -0.25, -0.25, -0.25, -0.25,  2.5 , -0.25,\n",
       "         -0.75, -0.75,  2.5 ,  1.5 , -0.25,  2.  , -3.  ,  2.5 , -3.  ,\n",
       "         -0.75,  2.  , -0.25,  2.  ,  2.  ,  2.  , -3.  ,  2.  ,  1.5 ,\n",
       "         -0.75,  1.5 ,  1.5 ,  2.  , -0.75, -3.  , -0.25, -3.  , -0.25,\n",
       "         -0.25, -0.25,  2.  , -0.25,  2.  , -0.25,  2.5 , -0.75,  2.  ,\n",
       "          2.5 ,  2.5 , -0.25, -0.75, -0.25, -0.25,  2.5 , -0.75,  1.5 ,\n",
       "         -0.25,  2.5 , -3.  , -0.75, -3.  ,  2.  ,  2.  , -0.75,  2.5 ,\n",
       "         -0.75, -0.75, -0.25,  2.5 ,  1.5 , -3.  ,  1.5 , -0.25,  2.5 ,\n",
       "          2.  , -0.25, -0.25, -0.75,  1.5 ,  2.  , -0.25, -0.75,  2.  ,\n",
       "         -3.  , -0.25, -0.75,  2.  ,  2.  ,  2.  ,  2.  , -3.  ,  1.5 ,\n",
       "         -0.25],\n",
       "        [ 0.5 , -0.5 , -3.  , -0.5 , -2.  , -1.  , -0.5 , -2.  ,  0.5 ,\n",
       "         -1.  ,  0.5 ,  0.5 , -2.  , -2.  , -2.  , -2.  , -1.  , -2.  ,\n",
       "         -0.5 , -0.5 , -1.  ,  2.  , -2.  ,  0.5 , -3.  , -1.  , -3.  ,\n",
       "         -0.5 ,  0.5 , -2.  ,  0.5 ,  0.5 ,  0.5 , -3.  ,  0.5 ,  2.  ,\n",
       "         -0.5 ,  2.  ,  2.  ,  0.5 , -0.5 , -3.  , -2.  , -3.  , -2.  ,\n",
       "         -2.  , -2.  ,  0.5 , -2.  ,  0.5 , -2.  , -1.  , -0.5 ,  0.5 ,\n",
       "         -1.  , -1.  , -2.  , -0.5 , -2.  , -2.  , -1.  , -0.5 ,  2.  ,\n",
       "         -2.  , -1.  , -3.  , -0.5 , -3.  ,  0.5 ,  0.5 , -0.5 , -1.  ,\n",
       "         -0.5 , -0.5 , -2.  , -1.  ,  2.  , -3.  ,  2.  , -2.  , -1.  ,\n",
       "          0.5 , -2.  , -2.  , -0.5 ,  2.  ,  0.5 , -2.  , -0.5 ,  0.5 ,\n",
       "         -3.  , -2.  , -0.5 ,  0.5 ,  0.5 ,  0.5 ,  0.5 , -3.  ,  2.  ,\n",
       "         -2.  ]],\n",
       "\n",
       "       [[ 2.  , -0.75, -3.  , -0.75, -0.25,  2.5 , -0.75, -0.25,  2.  ,\n",
       "          2.5 ,  2.  ,  2.  , -0.25, -0.25, -0.25, -0.25,  2.5 , -0.25,\n",
       "         -0.75, -0.75,  2.5 ,  1.5 , -0.25,  2.  , -3.  ,  2.5 , -3.  ,\n",
       "         -0.75,  2.  , -0.25,  2.  ,  2.  ,  2.  , -3.  ,  2.  ,  1.5 ,\n",
       "         -0.75,  1.5 ,  1.5 ,  2.  , -0.75, -3.  , -0.25, -3.  , -0.25,\n",
       "         -0.25, -0.25,  2.  , -0.25,  2.  , -0.25,  2.5 , -0.75,  2.  ,\n",
       "          2.5 ,  2.5 , -0.25, -0.75, -0.25, -0.25,  2.5 , -0.75,  1.5 ,\n",
       "         -0.25,  2.5 , -3.  , -0.75, -3.  ,  2.  ,  2.  , -0.75,  2.5 ,\n",
       "         -0.75, -0.75, -0.25,  2.5 ,  1.5 , -3.  ,  1.5 , -0.25,  2.5 ,\n",
       "          2.  , -0.25, -0.25, -0.75,  1.5 ,  2.  , -0.25, -0.75,  2.  ,\n",
       "         -3.  , -0.25, -0.75,  2.  ,  2.  ,  2.  ,  2.  , -3.  ,  1.5 ,\n",
       "         -0.25],\n",
       "        [ 0.5 , -0.5 , -3.  , -0.5 , -2.  , -1.  , -0.5 , -2.  ,  0.5 ,\n",
       "         -1.  ,  0.5 ,  0.5 , -2.  , -2.  , -2.  , -2.  , -1.  , -2.  ,\n",
       "         -0.5 , -0.5 , -1.  ,  2.  , -2.  ,  0.5 , -3.  , -1.  , -3.  ,\n",
       "         -0.5 ,  0.5 , -2.  ,  0.5 ,  0.5 ,  0.5 , -3.  ,  0.5 ,  2.  ,\n",
       "         -0.5 ,  2.  ,  2.  ,  0.5 , -0.5 , -3.  , -2.  , -3.  , -2.  ,\n",
       "         -2.  , -2.  ,  0.5 , -2.  ,  0.5 , -2.  , -1.  , -0.5 ,  0.5 ,\n",
       "         -1.  , -1.  , -2.  , -0.5 , -2.  , -2.  , -1.  , -0.5 ,  2.  ,\n",
       "         -2.  , -1.  , -3.  , -0.5 , -3.  ,  0.5 ,  0.5 , -0.5 , -1.  ,\n",
       "         -0.5 , -0.5 , -2.  , -1.  ,  2.  , -3.  ,  2.  , -2.  , -1.  ,\n",
       "          0.5 , -2.  , -2.  , -0.5 ,  2.  ,  0.5 , -2.  , -0.5 ,  0.5 ,\n",
       "         -3.  , -2.  , -0.5 ,  0.5 ,  0.5 ,  0.5 ,  0.5 , -3.  ,  2.  ,\n",
       "         -2.  ]]])"
      ]
     },
     "execution_count": 93,
     "metadata": {},
     "output_type": "execute_result"
    }
   ],
   "source": [
    "v"
   ]
  },
  {
   "cell_type": "code",
   "execution_count": 94,
   "metadata": {
    "collapsed": true
   },
   "outputs": [],
   "source": [
    "vv = np.mean(goal_locations, axis = 0)"
   ]
  },
  {
   "cell_type": "code",
   "execution_count": 95,
   "metadata": {
    "collapsed": true
   },
   "outputs": [],
   "source": [
    "v = np.tile(vv, (2, 1, 1))"
   ]
  },
  {
   "cell_type": "code",
   "execution_count": 165,
   "metadata": {},
   "outputs": [
    {
     "data": {
      "text/plain": [
       "array([ 0.25, -0.75], dtype=float32)"
      ]
     },
     "execution_count": 165,
     "metadata": {},
     "output_type": "execute_result"
    }
   ],
   "source": [
    "np.mean(array_states[0, 3:, 0:2, 1], axis = 0)"
   ]
  },
  {
   "cell_type": "code",
   "execution_count": 166,
   "metadata": {},
   "outputs": [
    {
     "ename": "SyntaxError",
     "evalue": "invalid syntax (<ipython-input-166-2e5bb8609410>, line 1)",
     "output_type": "error",
     "traceback": [
      "\u001b[0;36m  File \u001b[0;32m\"<ipython-input-166-2e5bb8609410>\"\u001b[0;36m, line \u001b[0;32m1\u001b[0m\n\u001b[0;31m    array_states.\u001b[0m\n\u001b[0m                 ^\u001b[0m\n\u001b[0;31mSyntaxError\u001b[0m\u001b[0;31m:\u001b[0m invalid syntax\n"
     ]
    }
   ],
   "source": [
    "array_states."
   ]
  },
  {
   "cell_type": "code",
   "execution_count": 209,
   "metadata": {
    "scrolled": true
   },
   "outputs": [
    {
     "data": {
      "text/plain": [
       "array([ 5.843392, -7.008334], dtype=float32)"
      ]
     },
     "execution_count": 209,
     "metadata": {},
     "output_type": "execute_result"
    }
   ],
   "source": [
    "array_states[-1, 0,0:2,nb]"
   ]
  },
  {
   "cell_type": "code",
   "execution_count": 19,
   "metadata": {},
   "outputs": [
    {
     "data": {
      "text/plain": [
       "array([[ 1.        ,  0.        ,  0.        ,  0.58468604,  3.1692955 ,\n",
       "         0.        ,  1.        ,  0.        ],\n",
       "       [ 0.        ,  1.        ,  0.        ,  1.3187793 , -0.6615655 ,\n",
       "         1.        ,  0.        ,  0.        ]], dtype=float32)"
      ]
     },
     "execution_count": 19,
     "metadata": {},
     "output_type": "execute_result"
    }
   ],
   "source": [
    "full_goals[:, :, 45]"
   ]
  },
  {
   "cell_type": "code",
   "execution_count": 22,
   "metadata": {},
   "outputs": [
    {
     "data": {
      "text/plain": [
       "array([[ 0.58468605,  3.16929552],\n",
       "       [ 1.31877935, -0.66156551]])"
      ]
     },
     "execution_count": 22,
     "metadata": {},
     "output_type": "execute_result"
    }
   ],
   "source": [
    "goal_locations[:, :, 45]"
   ]
  },
  {
   "cell_type": "code",
   "execution_count": 25,
   "metadata": {},
   "outputs": [
    {
     "data": {
      "text/plain": [
       "array([[1],\n",
       "       [0]])"
      ]
     },
     "execution_count": 25,
     "metadata": {},
     "output_type": "execute_result"
    }
   ],
   "source": [
    "targets[:, :, 45]"
   ]
  },
  {
   "cell_type": "code",
   "execution_count": 27,
   "metadata": {},
   "outputs": [
    {
     "data": {
      "text/plain": [
       "array([[1., 0., 0.],\n",
       "       [0., 1., 0.]])"
      ]
     },
     "execution_count": 27,
     "metadata": {},
     "output_type": "execute_result"
    }
   ],
   "source": [
    "goal_types[:, :, 45]"
   ]
  },
  {
   "cell_type": "code",
   "execution_count": 31,
   "metadata": {},
   "outputs": [
    {
     "data": {
      "text/plain": [
       "array([[ 0.58468604,  3.1692955 ,  0.        ,  0.        ,  0.        ,\n",
       "         0.        ,  1.        ,  0.        ,  0.        ],\n",
       "       [ 1.3187793 , -0.6615655 ,  0.        ,  0.        ,  0.        ,\n",
       "         0.        ,  0.        ,  1.        ,  0.        ],\n",
       "       [-0.98659277, -3.7688777 ,  0.        ,  0.        ,  0.        ,\n",
       "         0.        ,  0.        ,  0.        ,  1.        ]],\n",
       "      dtype=float32)"
      ]
     },
     "execution_count": 31,
     "metadata": {},
     "output_type": "execute_result"
    }
   ],
   "source": [
    "array_states[-1, 2:, :, 45]"
   ]
  },
  {
   "cell_type": "code",
   "execution_count": 102,
   "metadata": {},
   "outputs": [
    {
     "data": {
      "text/plain": [
       "(3, 3, 100)"
      ]
     },
     "execution_count": 102,
     "metadata": {},
     "output_type": "execute_result"
    }
   ],
   "source": [
    "goal_types.shape"
   ]
  },
  {
   "cell_type": "code",
   "execution_count": 103,
   "metadata": {},
   "outputs": [
    {
     "data": {
      "text/plain": [
       "(3, 2, 100)"
      ]
     },
     "execution_count": 103,
     "metadata": {},
     "output_type": "execute_result"
    }
   ],
   "source": [
    "goal_locations.shape"
   ]
  },
  {
   "cell_type": "code",
   "execution_count": 113,
   "metadata": {
    "collapsed": true
   },
   "outputs": [],
   "source": [
    "positions_landmarks = np.array([[[-4 for i in range(100)], [-4 for i in range(100)]], [[4 for i in range(100)], [4 for i in range(100)]], [[-2 for i in range(100)], [0 for i in range(100)]]])"
   ]
  },
  {
   "cell_type": "code",
   "execution_count": 117,
   "metadata": {},
   "outputs": [
    {
     "data": {
      "text/plain": [
       "array([-2,  0])"
      ]
     },
     "execution_count": 117,
     "metadata": {},
     "output_type": "execute_result"
    }
   ],
   "source": [
    "positions_landmarks[2, :, 0]"
   ]
  },
  {
   "cell_type": "code",
   "execution_count": 118,
   "metadata": {
    "collapsed": true
   },
   "outputs": [],
   "source": [
    "goal_types = np.array([[[1 for i in range(100)], [0 for i in range(100)], [0 for i in range(100)]], [[1 for i in range(100)], [0 for i in range(100)], [0 for i in range(100)]], [[1 for i in range(100)], [0 for i in range(100)], [0 for i in range(100)]]])"
   ]
  },
  {
   "cell_type": "code",
   "execution_count": 119,
   "metadata": {},
   "outputs": [
    {
     "data": {
      "text/plain": [
       "(3, 3, 100)"
      ]
     },
     "execution_count": 119,
     "metadata": {},
     "output_type": "execute_result"
    }
   ],
   "source": [
    "goal_types.shape"
   ]
  },
  {
   "cell_type": "code",
   "execution_count": 120,
   "metadata": {},
   "outputs": [
    {
     "data": {
      "text/plain": [
       "array([1, 0, 0])"
      ]
     },
     "execution_count": 120,
     "metadata": {},
     "output_type": "execute_result"
    }
   ],
   "source": [
    "goal_types[0, :, 0]"
   ]
  },
  {
   "cell_type": "code",
   "execution_count": 56,
   "metadata": {},
   "outputs": [
    {
     "data": {
      "image/png": "[encoded data removed]",
      "text/plain": [
       "<matplotlib.figure.Figure at 0x7f1fb445f080>"
      ]
     },
     "metadata": {},
     "output_type": "display_data"
    }
   ],
   "source": [
    "plt.plot(exp.reward_history)\n",
    "plt.show()"
   ]
  },
  {
   "cell_type": "code",
   "execution_count": 55,
   "metadata": {
    "scrolled": true
   },
   "outputs": [
    {
     "data": {
      "image/png": "[encoded data removed]",
      "text/plain": [
       "<matplotlib.figure.Figure at 0x7f1fb45348d0>"
      ]
     },
     "metadata": {},
     "output_type": "display_data"
    }
   ],
   "source": [
    "plt.plot(exp.voc_reward_history)\n",
    "plt.show()"
   ]
  },
  {
   "cell_type": "code",
   "execution_count": 102,
   "metadata": {},
   "outputs": [
    {
     "data": {
      "image/png": "[encoded data removed]",
      "text/plain": [
       "<matplotlib.figure.Figure at 0x7f35bc342208>"
      ]
     },
     "metadata": {},
     "output_type": "display_data"
    }
   ],
   "source": [
    "plt.plot(exp.mean_act_count)\n",
    "plt.show()"
   ]
  },
  {
   "cell_type": "code",
   "execution_count": 25,
   "metadata": {},
   "outputs": [
    {
     "data": {
      "text/plain": [
       "2.98"
      ]
     },
     "execution_count": 25,
     "metadata": {},
     "output_type": "execute_result"
    }
   ],
   "source": [
    "exp.mean_act_count[-1]"
   ]
  },
  {
   "cell_type": "code",
   "execution_count": 53,
   "metadata": {},
   "outputs": [
    {
     "data": {
      "text/plain": [
       "array([[0.00478059, 0.02923876],\n",
       "       [4.41817   , 4.4507103 ]], dtype=float32)"
      ]
     },
     "execution_count": 53,
     "metadata": {},
     "output_type": "execute_result"
    }
   ],
   "source": [
    "array_outputs[-1, :, :, 50]"
   ]
  },
  {
   "cell_type": "code",
   "execution_count": 54,
   "metadata": {},
   "outputs": [
    {
     "data": {
      "text/plain": [
       "array([[0, 0],\n",
       "       [4, 4]])"
      ]
     },
     "execution_count": 54,
     "metadata": {},
     "output_type": "execute_result"
    }
   ],
   "source": [
    "goal_locations[:, :, 50]"
   ]
  },
  {
   "cell_type": "code",
   "execution_count": 55,
   "metadata": {},
   "outputs": [
    {
     "data": {
      "text/plain": [
       "array([[0],\n",
       "       [1]])"
      ]
     },
     "execution_count": 55,
     "metadata": {},
     "output_type": "execute_result"
    }
   ],
   "source": [
    "targets[:, :, 50]"
   ]
  },
  {
   "cell_type": "code",
   "execution_count": 64,
   "metadata": {},
   "outputs": [
    {
     "data": {
      "text/plain": [
       "array([-0.029627  , -0.61482185], dtype=float32)"
      ]
     },
     "execution_count": 64,
     "metadata": {},
     "output_type": "execute_result"
    }
   ],
   "source": [
    "exp.reward_batch_history[-1][:, 50]"
   ]
  },
  {
   "cell_type": "code",
   "execution_count": 65,
   "metadata": {},
   "outputs": [
    {
     "data": {
      "text/plain": [
       "array([0.029627  , 0.61482184])"
      ]
     },
     "execution_count": 65,
     "metadata": {},
     "output_type": "execute_result"
    }
   ],
   "source": [
    "np.sqrt(np.sum((array_outputs[-1, [0, 1], :, 50] - goal_locations[[0, 1], :, 50])**2, axis = 1))"
   ]
  },
  {
   "cell_type": "code",
   "execution_count": 58,
   "metadata": {},
   "outputs": [
    {
     "data": {
      "text/plain": [
       "array([[4.7789516, 1.2834195],\n",
       "       [4.017225 , 1.3816243]], dtype=float32)"
      ]
     },
     "execution_count": 58,
     "metadata": {},
     "output_type": "execute_result"
    }
   ],
   "source": [
    "np.mean(array_outputs[-1, :, :, :], axis = 2)"
   ]
  },
  {
   "cell_type": "code",
   "execution_count": 59,
   "metadata": {
    "collapsed": true
   },
   "outputs": [],
   "source": [
    "v = np.sum(np.sum(array_outputs[-1, :, :, :], axis = 2), axis = 0)/200"
   ]
  },
  {
   "cell_type": "code",
   "execution_count": 60,
   "metadata": {},
   "outputs": [
    {
     "data": {
      "text/plain": [
       "array([[8.406772 , 4.3033895],\n",
       "       [8.583255 , 4.4507103]], dtype=float32)"
      ]
     },
     "execution_count": 60,
     "metadata": {},
     "output_type": "execute_result"
    }
   ],
   "source": [
    "np.max(array_outputs[-1, :, :, :], axis = 2)"
   ]
  },
  {
   "cell_type": "code",
   "execution_count": 61,
   "metadata": {},
   "outputs": [
    {
     "data": {
      "text/plain": [
       "array([[-0.05605835, -0.26878864],\n",
       "       [-0.06561816, -0.35824925]], dtype=float32)"
      ]
     },
     "execution_count": 61,
     "metadata": {},
     "output_type": "execute_result"
    }
   ],
   "source": [
    "np.min(array_outputs[-1, :, :, :], axis = 2)"
   ]
  },
  {
   "cell_type": "code",
   "execution_count": 62,
   "metadata": {},
   "outputs": [
    {
     "data": {
      "text/plain": [
       "array([[3.209854 , 1.8657004],\n",
       "       [3.2325075, 1.9222469]], dtype=float32)"
      ]
     },
     "execution_count": 62,
     "metadata": {},
     "output_type": "execute_result"
    }
   ],
   "source": [
    "np.std(array_outputs[-1, :, :, :], axis = 2)"
   ]
  },
  {
   "cell_type": "code",
   "execution_count": 303,
   "metadata": {},
   "outputs": [
    {
     "data": {
      "text/plain": [
       "0.655"
      ]
     },
     "execution_count": 303,
     "metadata": {},
     "output_type": "execute_result"
    }
   ],
   "source": [
    "sum((goal_locations[:, 1, :] == 0).sum(axis = 1))/200"
   ]
  },
  {
   "cell_type": "code",
   "execution_count": 98,
   "metadata": {},
   "outputs": [
    {
     "data": {
      "text/plain": [
       "3.7380105721219263"
      ]
     },
     "execution_count": 98,
     "metadata": {},
     "output_type": "execute_result"
    }
   ],
   "source": [
    "plx = np.ones((2, 1, 100))*4\n",
    "ply = np.ones((2, 1, 100))*2.28\n",
    "pl = np.concatenate([plx, ply], axis = 1)\n",
    "np.mean(np.sum(np.sqrt(np.sum((pl - goal_locations)**2, axis = 1)), axis = 0))"
   ]
  },
  {
   "cell_type": "code",
   "execution_count": 99,
   "metadata": {},
   "outputs": [
    {
     "data": {
      "text/plain": [
       "3.75172211500846"
      ]
     },
     "execution_count": 99,
     "metadata": {},
     "output_type": "execute_result"
    }
   ],
   "source": [
    "plx = np.ones((2, 1, 100))*4\n",
    "ply = np.ones((2, 1, 100))*1.33\n",
    "pl = np.concatenate([plx, ply], axis = 1)\n",
    "np.mean(np.sum(np.sqrt(np.sum((pl - goal_locations)**2, axis = 1)), axis = 0))"
   ]
  },
  {
   "cell_type": "code",
   "execution_count": 107,
   "metadata": {},
   "outputs": [
    {
     "data": {
      "text/plain": [
       "3.642781347408684"
      ]
     },
     "execution_count": 107,
     "metadata": {},
     "output_type": "execute_result"
    }
   ],
   "source": [
    "plx = np.ones((3, 1))*4\n",
    "ply = np.ones((3, 1))*2.28\n",
    "pl = np.concatenate([plx, ply], axis = 1)\n",
    "np.mean(np.sqrt(np.sum((pl - array_states[-1, 2:, 0:2, 14])**2, axis = 1)))"
   ]
  },
  {
   "cell_type": "code",
   "execution_count": 108,
   "metadata": {},
   "outputs": [
    {
     "data": {
      "text/plain": [
       "3.700211538103295"
      ]
     },
     "execution_count": 108,
     "metadata": {},
     "output_type": "execute_result"
    }
   ],
   "source": [
    "plx = np.ones((3, 1))*4\n",
    "ply = np.ones((3, 1))*1.33\n",
    "pl = np.concatenate([plx, ply], axis = 1)\n",
    "np.mean(np.sqrt(np.sum((pl - array_states[-1, 2:, 0:2, 14])**2, axis = 1)))"
   ]
  },
  {
   "cell_type": "code",
   "execution_count": 15,
   "metadata": {},
   "outputs": [
    {
     "data": {
      "text/plain": [
       "<tf.Tensor 'Placeholder_5:0' shape=(3, 2, 100) dtype=float32>"
      ]
     },
     "execution_count": 15,
     "metadata": {},
     "output_type": "execute_result"
    }
   ],
   "source": [
    "exp.goal_locations"
   ]
  },
  {
   "cell_type": "code",
   "execution_count": 175,
   "metadata": {},
   "outputs": [
    {
     "ename": "NameError",
     "evalue": "name 'pred_reward' is not defined",
     "output_type": "error",
     "traceback": [
      "\u001b[0;31m---------------------------------------------------------------------------\u001b[0m",
      "\u001b[0;31mNameError\u001b[0m                                 Traceback (most recent call last)",
      "\u001b[0;32m<ipython-input-175-89624fec0195>\u001b[0m in \u001b[0;36m<module>\u001b[0;34m()\u001b[0m\n\u001b[0;32m----> 1\u001b[0;31m \u001b[0mpred_reward\u001b[0m\u001b[0;34m\u001b[0m\u001b[0m\n\u001b[0m",
      "\u001b[0;31mNameError\u001b[0m: name 'pred_reward' is not defined"
     ]
    }
   ],
   "source": [
    "pred_reward"
   ]
  },
  {
   "cell_type": "code",
   "execution_count": 87,
   "metadata": {},
   "outputs": [
    {
     "data": {
      "text/plain": [
       "array([[ 7.6263475 , -0.17130268],\n",
       "       [ 3.2847695 ,  3.8299196 ]], dtype=float32)"
      ]
     },
     "execution_count": 87,
     "metadata": {},
     "output_type": "execute_result"
    }
   ],
   "source": [
    "pred[-1, :, :, 10]"
   ]
  },
  {
   "cell_type": "code",
   "execution_count": 83,
   "metadata": {},
   "outputs": [
    {
     "data": {
      "text/plain": [
       "array([[4, 4],\n",
       "       [8, 0]])"
      ]
     },
     "execution_count": 83,
     "metadata": {},
     "output_type": "execute_result"
    }
   ],
   "source": [
    "goal_locations[:, :, 10]"
   ]
  },
  {
   "cell_type": "code",
   "execution_count": 82,
   "metadata": {},
   "outputs": [
    {
     "data": {
      "text/plain": [
       "array([[1],\n",
       "       [0]])"
      ]
     },
     "execution_count": 82,
     "metadata": {},
     "output_type": "execute_result"
    }
   ],
   "source": [
    "targets[:, :, 73]"
   ]
  },
  {
   "cell_type": "code",
   "execution_count": 296,
   "metadata": {
    "collapsed": true
   },
   "outputs": [],
   "source": [
    "length = []\n",
    "for i in range(100):\n",
    "    length.append(len(np.unique(np.argmax(array_utterances[:, 0, :, i], axis = 1))))\n",
    "    length.append(len(np.unique(np.argmax(array_utterances[:, 1, :, i], axis = 1))))"
   ]
  },
  {
   "cell_type": "code",
   "execution_count": 297,
   "metadata": {},
   "outputs": [
    {
     "data": {
      "text/plain": [
       "15.0"
      ]
     },
     "execution_count": 297,
     "metadata": {},
     "output_type": "execute_result"
    }
   ],
   "source": [
    "np.median(length)"
   ]
  },
  {
   "cell_type": "code",
   "execution_count": 285,
   "metadata": {},
   "outputs": [
    {
     "data": {
      "text/plain": [
       "(51, 2, 20, 100)"
      ]
     },
     "execution_count": 285,
     "metadata": {},
     "output_type": "execute_result"
    }
   ],
   "source": [
    "array_utterances.shape"
   ]
  },
  {
   "cell_type": "code",
   "execution_count": 20,
   "metadata": {},
   "outputs": [
    {
     "data": {
      "text/plain": [
       "2"
      ]
     },
     "execution_count": 20,
     "metadata": {},
     "output_type": "execute_result"
    }
   ],
   "source": [
    "len(np.unique(np.argmax(array_utterances[:, 0, :, 10], axis = 1)))"
   ]
  },
  {
   "cell_type": "code",
   "execution_count": 53,
   "metadata": {},
   "outputs": [
    {
     "data": {
      "image/png": "[encoded data removed]",
      "text/plain": [
       "<matplotlib.figure.Figure at 0x7f1fb45c0f60>"
      ]
     },
     "metadata": {},
     "output_type": "display_data"
    }
   ],
   "source": [
    "plt.plot(exp.mean_act_count)\n",
    "plt.show()"
   ]
  },
  {
   "cell_type": "code",
   "execution_count": 90,
   "metadata": {},
   "outputs": [
    {
     "data": {
      "text/plain": [
       "array([[4, 4],\n",
       "       [8, 0]])"
      ]
     },
     "execution_count": 90,
     "metadata": {},
     "output_type": "execute_result"
    }
   ],
   "source": [
    "goal_locations[:, :, 0]"
   ]
  },
  {
   "cell_type": "code",
   "execution_count": 92,
   "metadata": {},
   "outputs": [
    {
     "data": {
      "text/plain": [
       "array([[4, 4],\n",
       "       [8, 0]])"
      ]
     },
     "execution_count": 92,
     "metadata": {},
     "output_type": "execute_result"
    }
   ],
   "source": [
    "goal_locations[:, :, 2]"
   ]
  },
  {
   "cell_type": "code",
   "execution_count": 102,
   "metadata": {},
   "outputs": [
    {
     "data": {
      "text/plain": [
       "array([[0, 0],\n",
       "       [4, 4]])"
      ]
     },
     "execution_count": 102,
     "metadata": {},
     "output_type": "execute_result"
    }
   ],
   "source": [
    "goal_locations[:, :, 5]"
   ]
  },
  {
   "cell_type": "code",
   "execution_count": 94,
   "metadata": {},
   "outputs": [
    {
     "data": {
      "text/plain": [
       "array([ 0,  0,  0,  3, 17, 17,  0,  3,  0,  3,  0,  0,  9,  0,  3,  3,  3,\n",
       "       18,  3,  0,  3,  0,  0,  0,  0,  3,  3,  3,  3,  7,  0,  0,  9,  0,\n",
       "        0,  3,  3,  3,  3,  0,  3,  3,  3,  3, 10,  9,  7,  3,  3, 15,  0])"
      ]
     },
     "execution_count": 94,
     "metadata": {},
     "output_type": "execute_result"
    }
   ],
   "source": [
    "np.argmax(array_utterances[:, 0, :, 0], axis = 1)"
   ]
  },
  {
   "cell_type": "code",
   "execution_count": 95,
   "metadata": {},
   "outputs": [
    {
     "data": {
      "text/plain": [
       "array([ 0, 10,  0,  0,  0,  0,  3,  3,  9,  0,  0,  3, 13,  3,  0,  3,  0,\n",
       "        0,  3,  3,  3,  9,  0,  3,  9,  7,  9,  0,  3,  4,  4,  0,  3,  9,\n",
       "       14,  0,  3,  0,  0,  0,  3,  0,  0,  9,  3,  0,  0,  0,  3,  3,  3])"
      ]
     },
     "execution_count": 95,
     "metadata": {},
     "output_type": "execute_result"
    }
   ],
   "source": [
    "np.argmax(array_utterances[:, 0, :, 2], axis = 1)"
   ]
  },
  {
   "cell_type": "code",
   "execution_count": 122,
   "metadata": {},
   "outputs": [
    {
     "data": {
      "text/plain": [
       "array([ 0,  0,  0,  0,  0,  0,  3,  3,  0,  0,  3,  0,  0,  0,  8,  0,  0,\n",
       "        0,  6,  3,  0,  0,  0,  0,  3,  0,  4,  0,  0,  0,  0,  0,  0,  0,\n",
       "        0,  0,  0,  0, 10,  0,  0,  0,  3,  0,  0,  3,  3,  0,  0,  0,  3])"
      ]
     },
     "execution_count": 122,
     "metadata": {},
     "output_type": "execute_result"
    }
   ],
   "source": [
    "np.argmax(array_utterances[:, 1, :, 5], axis = 1)"
   ]
  },
  {
   "cell_type": "code",
   "execution_count": 99,
   "metadata": {},
   "outputs": [
    {
     "data": {
      "text/plain": [
       "array([ 0,  1,  2,  3,  4,  5,  6,  7,  8,  9, 10, 11, 12, 13, 14, 15, 16,\n",
       "       17, 18, 19])"
      ]
     },
     "execution_count": 99,
     "metadata": {},
     "output_type": "execute_result"
    }
   ],
   "source": [
    "np.unique(np.argmax(array_utterances, axis = 2))"
   ]
  },
  {
   "cell_type": "code",
   "execution_count": 123,
   "metadata": {},
   "outputs": [
    {
     "data": {
      "text/plain": [
       "[]"
      ]
     },
     "execution_count": 123,
     "metadata": {},
     "output_type": "execute_result"
    }
   ],
   "source": [
    "exp.voc_reward_history"
   ]
  },
  {
   "cell_type": "code",
   "execution_count": 46,
   "metadata": {},
   "outputs": [
    {
     "data": {
      "text/plain": [
       "array([ 0,  2,  3,  4,  6,  8,  9, 10, 11, 12, 13, 14, 15, 16, 18, 19])"
      ]
     },
     "execution_count": 46,
     "metadata": {},
     "output_type": "execute_result"
    }
   ],
   "source": [
    "np.unique(np.argmax(array_utterances, axis = 2)[:, :, 0])"
   ]
  },
  {
   "cell_type": "code",
   "execution_count": 51,
   "metadata": {},
   "outputs": [
    {
     "data": {
      "text/plain": [
       "array([ 0, 15, 18])"
      ]
     },
     "execution_count": 51,
     "metadata": {},
     "output_type": "execute_result"
    }
   ],
   "source": [
    "np.unique(np.argmax(array_utterances, axis = 2)[:, 0, 10])"
   ]
  },
  {
   "cell_type": "code",
   "execution_count": 55,
   "metadata": {},
   "outputs": [
    {
     "data": {
      "text/plain": [
       "array([ 0, 15, 18])"
      ]
     },
     "execution_count": 55,
     "metadata": {},
     "output_type": "execute_result"
    }
   ],
   "source": [
    "np.unique(np.argmax(array_utterances, axis = 2)[:, 1, 11])"
   ]
  },
  {
   "cell_type": "code",
   "execution_count": 145,
   "metadata": {},
   "outputs": [
    {
     "data": {
      "text/plain": [
       "array([ 0,  5,  9, 16, 17, 18, 19])"
      ]
     },
     "execution_count": 145,
     "metadata": {},
     "output_type": "execute_result"
    }
   ],
   "source": [
    "np.unique(np.argmax(array_utterances, axis = 2)[:, 0, 12])"
   ]
  },
  {
   "cell_type": "code",
   "execution_count": 146,
   "metadata": {},
   "outputs": [
    {
     "data": {
      "text/plain": [
       "array([ 0,  2,  4,  5,  9, 10, 18, 19])"
      ]
     },
     "execution_count": 146,
     "metadata": {},
     "output_type": "execute_result"
    }
   ],
   "source": [
    "np.unique(np.argmax(array_utterances, axis = 2)[:, 1, 12])"
   ]
  },
  {
   "cell_type": "code",
   "execution_count": 139,
   "metadata": {},
   "outputs": [
    {
     "data": {
      "text/plain": [
       "array([[0, 0],\n",
       "       [4, 4]])"
      ]
     },
     "execution_count": 139,
     "metadata": {},
     "output_type": "execute_result"
    }
   ],
   "source": [
    "goal_locations[:, :, 25]"
   ]
  },
  {
   "cell_type": "code",
   "execution_count": 142,
   "metadata": {},
   "outputs": [
    {
     "data": {
      "text/plain": [
       "array([[[ 0,  0,  0, ...,  0,  0,  0],\n",
       "        [ 0,  0,  0, ...,  0,  0,  0]],\n",
       "\n",
       "       [[17,  5,  5, ..., 12,  6,  5],\n",
       "        [ 6,  5,  6, ...,  5,  6,  2]],\n",
       "\n",
       "       [[ 6,  5, 19, ..., 18,  2,  5],\n",
       "        [ 6,  5, 17, ...,  5,  6, 18]],\n",
       "\n",
       "       ...,\n",
       "\n",
       "       [[11,  9,  0, ...,  8,  6,  5],\n",
       "        [ 6,  5,  6, ...,  5,  6,  9]],\n",
       "\n",
       "       [[19, 19, 19, ...,  9, 19,  5],\n",
       "        [ 6,  7,  6, ...,  5,  6,  6]],\n",
       "\n",
       "       [[16,  5, 11, ..., 14,  6,  5],\n",
       "        [ 6,  5,  6, ...,  5,  2, 19]]])"
      ]
     },
     "execution_count": 142,
     "metadata": {},
     "output_type": "execute_result"
    }
   ],
   "source": [
    "np.argmax(array_utterances, axis = 2)"
   ]
  },
  {
   "cell_type": "code",
   "execution_count": 319,
   "metadata": {},
   "outputs": [
    {
     "ename": "NameError",
     "evalue": "name 'array_pred' is not defined",
     "output_type": "error",
     "traceback": [
      "\u001b[0;31m---------------------------------------------------------------------------\u001b[0m",
      "\u001b[0;31mNameError\u001b[0m                                 Traceback (most recent call last)",
      "\u001b[0;32m<ipython-input-319-33829bdaa630>\u001b[0m in \u001b[0;36m<module>\u001b[0;34m()\u001b[0m\n\u001b[0;32m----> 1\u001b[0;31m \u001b[0marray_pred\u001b[0m\u001b[0;34m\u001b[0m\u001b[0m\n\u001b[0m",
      "\u001b[0;31mNameError\u001b[0m: name 'array_pred' is not defined"
     ]
    }
   ],
   "source": [
    "array_pred"
   ]
  },
  {
   "cell_type": "code",
   "execution_count": 322,
   "metadata": {},
   "outputs": [
    {
     "data": {
      "text/plain": [
       "16.666666666666668"
      ]
     },
     "execution_count": 322,
     "metadata": {},
     "output_type": "execute_result"
    }
   ],
   "source": [
    "150/9"
   ]
  },
  {
   "cell_type": "code",
   "execution_count": 334,
   "metadata": {},
   "outputs": [
    {
     "data": {
      "text/plain": [
       "8.823529411764707"
      ]
     },
     "execution_count": 334,
     "metadata": {},
     "output_type": "execute_result"
    }
   ],
   "source": [
    "150/17"
   ]
  },
  {
   "cell_type": "code",
   "execution_count": 57,
   "metadata": {},
   "outputs": [
    {
     "data": {
      "text/plain": [
       "array([-3.6868453e-04,  9.9153298e-01, -2.8760213e-02,  3.8191910e+00,\n",
       "        4.0793910e+00,  5.5776936e-01,  5.0881344e-01,  3.6988370e-02],\n",
       "      dtype=float32)"
      ]
     },
     "execution_count": 57,
     "metadata": {},
     "output_type": "execute_result"
    }
   ],
   "source": [
    "pred[-1, 1, :, 10]"
   ]
  },
  {
   "cell_type": "code",
   "execution_count": 58,
   "metadata": {},
   "outputs": [
    {
     "data": {
      "text/plain": [
       "array([0., 1., 0., 4., 4., 1., 0., 0.], dtype=float32)"
      ]
     },
     "execution_count": 58,
     "metadata": {},
     "output_type": "execute_result"
    }
   ],
   "source": [
    "full_goals[1, :, 10]"
   ]
  },
  {
   "cell_type": "code",
   "execution_count": 43,
   "metadata": {},
   "outputs": [
    {
     "data": {
      "text/plain": [
       "(2, 8, 100)"
      ]
     },
     "execution_count": 43,
     "metadata": {},
     "output_type": "execute_result"
    }
   ],
   "source": [
    "full_goals.shape"
   ]
  },
  {
   "cell_type": "code",
   "execution_count": 48,
   "metadata": {},
   "outputs": [
    {
     "data": {
      "text/plain": [
       "array([0.000e+00, 0.000e+00, 0.000e+00, 0.000e+00, 0.000e+00, 1.000e-04,\n",
       "       0.000e+00, 0.000e+00, 3.940e-01, 0.000e+00, 0.000e+00, 0.000e+00,\n",
       "       3.432e-01, 0.000e+00, 0.000e+00, 0.000e+00, 1.000e-04, 2.626e-01,\n",
       "       0.000e+00, 0.000e+00], dtype=float32)"
      ]
     },
     "execution_count": 48,
     "metadata": {},
     "output_type": "execute_result"
    }
   ],
   "source": [
    "np.sum(exp.array_utt[-1], axis = (0, 1, 3))/np.sum(exp.array_utt[-1])"
   ]
  },
  {
   "cell_type": "code",
   "execution_count": 234,
   "metadata": {},
   "outputs": [
    {
     "data": {
      "text/plain": [
       "array([7.00e+00, 3.00e+00, 2.00e+00, 8.00e+00, 4.00e+00, 7.00e+00,\n",
       "       2.00e+00, 6.20e+01, 3.00e+01, 1.00e+00, 9.81e+03, 1.10e+01,\n",
       "       0.00e+00, 1.00e+01, 1.20e+01, 4.00e+00, 1.20e+01, 6.00e+00,\n",
       "       5.00e+00, 4.00e+00], dtype=float32)"
      ]
     },
     "execution_count": 234,
     "metadata": {},
     "output_type": "execute_result"
    }
   ],
   "source": [
    "np.sum(exp.array_utt[-23], axis = (0, 1, 3))"
   ]
  },
  {
   "cell_type": "code",
   "execution_count": 97,
   "metadata": {},
   "outputs": [
    {
     "data": {
      "text/plain": [
       "2.24"
      ]
     },
     "execution_count": 97,
     "metadata": {},
     "output_type": "execute_result"
    }
   ],
   "source": [
    "exp.mean_act_count[-4]"
   ]
  },
  {
   "cell_type": "code",
   "execution_count": 115,
   "metadata": {},
   "outputs": [
    {
     "data": {
      "text/plain": [
       "-661.3527"
      ]
     },
     "execution_count": 115,
     "metadata": {},
     "output_type": "execute_result"
    }
   ],
   "source": [
    "exp.reward_history[-3]"
   ]
  },
  {
   "cell_type": "code",
   "execution_count": 125,
   "metadata": {
    "collapsed": true
   },
   "outputs": [],
   "source": [
    "v = tf.Variable(np.sum(exp.array_utt[-3], axis = (0, 1, 3)))\n",
    "u = tf.gather(v, tf.where(tf.not_equal(v, 0)))\n",
    "init = tf.global_variables_initializer()"
   ]
  },
  {
   "cell_type": "code",
   "execution_count": 126,
   "metadata": {
    "collapsed": true
   },
   "outputs": [],
   "source": [
    "with tf.Session() as sess:\n",
    "    sess.run(init)\n",
    "    ee = sess.run(u)"
   ]
  },
  {
   "cell_type": "code",
   "execution_count": 134,
   "metadata": {},
   "outputs": [
    {
     "data": {
      "text/plain": [
       "array([[7.000e+00],\n",
       "       [8.000e+00],\n",
       "       [4.220e+03],\n",
       "       [5.000e+00],\n",
       "       [5.000e+00],\n",
       "       [4.000e+00],\n",
       "       [1.800e+01],\n",
       "       [5.000e+00],\n",
       "       [1.410e+03],\n",
       "       [6.000e+00],\n",
       "       [6.000e+00],\n",
       "       [2.000e+00],\n",
       "       [5.000e+00],\n",
       "       [3.000e+00],\n",
       "       [5.900e+01],\n",
       "       [7.000e+00],\n",
       "       [7.000e+00],\n",
       "       [2.117e+03],\n",
       "       [2.106e+03]], dtype=float32)"
      ]
     },
     "execution_count": 134,
     "metadata": {},
     "output_type": "execute_result"
    }
   ],
   "source": [
    "ee"
   ]
  },
  {
   "cell_type": "code",
   "execution_count": 73,
   "metadata": {},
   "outputs": [
    {
     "data": {
      "text/plain": [
       "161"
      ]
     },
     "execution_count": 73,
     "metadata": {},
     "output_type": "execute_result"
    }
   ],
   "source": [
    "len(exp.voc_reward_history)"
   ]
  },
  {
   "cell_type": "code",
   "execution_count": 193,
   "metadata": {},
   "outputs": [
    {
     "data": {
      "text/plain": [
       "100000000.0"
      ]
     },
     "execution_count": 193,
     "metadata": {},
     "output_type": "execute_result"
    }
   ],
   "source": [
    "1/0.00000001"
   ]
  },
  {
   "cell_type": "code",
   "execution_count": 30,
   "metadata": {},
   "outputs": [
    {
     "data": {
      "text/plain": [
       "array([ 0,  7,  7,  7,  8, 15,  8,  8,  8, 15,  8,  8,  7,  7, 15, 15, 15,\n",
       "        8,  7,  7,  7,  8, 15,  7,  7,  7,  8,  8,  8, 15,  8,  7,  8,  7,\n",
       "        7, 15,  7,  7,  8,  7, 15,  8, 15,  8,  8,  8,  7, 15,  7,  8,  7,\n",
       "        8,  7, 15,  8,  7,  7, 15,  8, 15,  8, 15,  8,  8,  7,  7,  8,  8,\n",
       "        7,  8, 15, 15,  8, 15,  8,  7,  7, 15,  7,  8,  8, 15, 15, 15,  7,\n",
       "       15,  7,  7, 15,  7, 15,  8,  8,  7, 15, 15, 15,  8,  7,  8,  8,  8,\n",
       "        8,  7, 15, 15, 15,  8,  7, 15,  7, 15,  7,  8,  8,  8,  7, 15,  7,\n",
       "       15, 15,  7,  8,  8,  8, 15, 15, 15, 15,  7,  7, 15,  7, 15,  8,  8,\n",
       "        8, 15,  8, 15, 15,  8,  8,  8,  7, 15,  7, 15,  7,  8,  8, 15,  7,\n",
       "        7,  8,  7,  7, 15,  7,  8,  8,  7,  7, 15,  7,  8,  8,  7,  7, 15,\n",
       "       15,  8, 15,  7,  7,  8,  7,  8, 15, 15,  7, 15,  7, 15,  8, 15,  8,\n",
       "       15,  8, 15,  8,  8,  8, 15,  7, 15,  7,  7,  7, 15,  8])"
      ]
     },
     "execution_count": 30,
     "metadata": {},
     "output_type": "execute_result"
    }
   ],
   "source": [
    "np.argmax(array_utterances, axis = 2)[:, 0, 40]"
   ]
  },
  {
   "cell_type": "code",
   "execution_count": 66,
   "metadata": {},
   "outputs": [
    {
     "data": {
      "text/plain": [
       "array([[4, 4],\n",
       "       [0, 0]])"
      ]
     },
     "execution_count": 66,
     "metadata": {},
     "output_type": "execute_result"
    }
   ],
   "source": [
    "goal_locations[:, :, 32]"
   ]
  },
  {
   "cell_type": "code",
   "execution_count": 26,
   "metadata": {},
   "outputs": [
    {
     "data": {
      "text/plain": [
       "array([[-1.57926386,  1.09727604],\n",
       "       [-1.57926386,  1.09727604]])"
      ]
     },
     "execution_count": 26,
     "metadata": {},
     "output_type": "execute_result"
    }
   ],
   "source": [
    "goal_locations[:, :, 13]"
   ]
  },
  {
   "cell_type": "code",
   "execution_count": 27,
   "metadata": {},
   "outputs": [
    {
     "data": {
      "text/plain": [
       "array([[1.        , 0.        , 0.        , 0.48238987, 0.9266134 ,\n",
       "        1.        , 0.        , 0.        ],\n",
       "       [0.        , 1.        , 0.        , 0.45202035, 1.5437603 ,\n",
       "        0.        , 1.        , 0.        ]], dtype=float32)"
      ]
     },
     "execution_count": 27,
     "metadata": {},
     "output_type": "execute_result"
    }
   ],
   "source": [
    "full_goals[:, :, 40]"
   ]
  },
  {
   "cell_type": "code",
   "execution_count": 94,
   "metadata": {},
   "outputs": [
    {
     "data": {
      "text/plain": [
       "[]"
      ]
     },
     "execution_count": 94,
     "metadata": {},
     "output_type": "execute_result"
    }
   ],
   "source": [
    "exp.grads_norm"
   ]
  },
  {
   "cell_type": "code",
   "execution_count": 32,
   "metadata": {
    "collapsed": true
   },
   "outputs": [],
   "source": [
    "u = tf.Variable(0.0)\n",
    "init = tf.global_variables_initializer()\n",
    "v = tf.log(u)"
   ]
  },
  {
   "cell_type": "code",
   "execution_count": 33,
   "metadata": {
    "collapsed": true
   },
   "outputs": [],
   "source": [
    "with tf.Session() as sess:\n",
    "    sess.run(init)\n",
    "    ee = sess.run(v)"
   ]
  },
  {
   "cell_type": "code",
   "execution_count": 34,
   "metadata": {},
   "outputs": [
    {
     "data": {
      "text/plain": [
       "-inf"
      ]
     },
     "execution_count": 34,
     "metadata": {},
     "output_type": "execute_result"
    }
   ],
   "source": [
    "ee"
   ]
  },
  {
   "cell_type": "code",
   "execution_count": 27,
   "metadata": {},
   "outputs": [
    {
     "data": {
      "text/plain": [
       "-27.631021115928547"
      ]
     },
     "execution_count": 27,
     "metadata": {},
     "output_type": "execute_result"
    }
   ],
   "source": [
    "np.log(0.000000000001)"
   ]
  },
  {
   "cell_type": "code",
   "execution_count": 107,
   "metadata": {},
   "outputs": [
    {
     "ename": "IndexError",
     "evalue": "index 100 is out of bounds for axis 2 with size 100",
     "output_type": "error",
     "traceback": [
      "\u001b[0;31m---------------------------------------------------------------------------\u001b[0m",
      "\u001b[0;31mIndexError\u001b[0m                                Traceback (most recent call last)",
      "\u001b[0;32m<ipython-input-107-8d5de4502d6f>\u001b[0m in \u001b[0;36m<module>\u001b[0;34m()\u001b[0m\n\u001b[0;32m----> 1\u001b[0;31m \u001b[0mgoal_types\u001b[0m\u001b[0;34m[\u001b[0m\u001b[0;34m:\u001b[0m\u001b[0;34m,\u001b[0m \u001b[0;34m:\u001b[0m\u001b[0;34m,\u001b[0m \u001b[0;36m100\u001b[0m\u001b[0;34m]\u001b[0m\u001b[0;34m\u001b[0m\u001b[0m\n\u001b[0m",
      "\u001b[0;31mIndexError\u001b[0m: index 100 is out of bounds for axis 2 with size 100"
     ]
    }
   ],
   "source": [
    "goal_types[:, :, 100]"
   ]
  },
  {
   "cell_type": "code",
   "execution_count": 18,
   "metadata": {},
   "outputs": [
    {
     "data": {
      "text/plain": [
       "array([12, 13, 16])"
      ]
     },
     "execution_count": 18,
     "metadata": {},
     "output_type": "execute_result"
    }
   ],
   "source": [
    "np.unique(np.argmax(array_utterances[1:, :, :, :], axis = 2))"
   ]
  },
  {
   "cell_type": "code",
   "execution_count": 11,
   "metadata": {
    "collapsed": true
   },
   "outputs": [],
   "source": [
    "landmark_nb = [np.random.choice(3, (2, 1), replace = True) for _ in range(FLAGS.batch_size)]\n",
    "landmark_nb_batch = np.stack(landmark_nb, axis = 2)"
   ]
  },
  {
   "cell_type": "code",
   "execution_count": 18,
   "metadata": {},
   "outputs": [
    {
     "data": {
      "text/plain": [
       "array([[1],\n",
       "       [0]])"
      ]
     },
     "execution_count": 18,
     "metadata": {},
     "output_type": "execute_result"
    }
   ],
   "source": [
    "landmark_nb[11]"
   ]
  },
  {
   "cell_type": "code",
   "execution_count": 19,
   "metadata": {},
   "outputs": [
    {
     "data": {
      "text/plain": [
       "array([[1., 0., 0.],\n",
       "       [0., 1., 0.],\n",
       "       [0., 0., 1.]])"
      ]
     },
     "execution_count": 19,
     "metadata": {},
     "output_type": "execute_result"
    }
   ],
   "source": [
    "np.eye(3)"
   ]
  },
  {
   "cell_type": "code",
   "execution_count": 210,
   "metadata": {},
   "outputs": [
    {
     "data": {
      "text/plain": [
       "array([[0., 0., 1.],\n",
       "       [0., 0., 1.]], dtype=float32)"
      ]
     },
     "execution_count": 210,
     "metadata": {},
     "output_type": "execute_result"
    }
   ],
   "source": [
    "full_goals[:, 3:6, 2]"
   ]
  },
  {
   "cell_type": "code",
   "execution_count": 208,
   "metadata": {},
   "outputs": [
    {
     "data": {
      "text/plain": [
       "array([[-0.20028409, -0.96775521],\n",
       "       [ 0.86976883,  0.97217373]])"
      ]
     },
     "execution_count": 208,
     "metadata": {},
     "output_type": "execute_result"
    }
   ],
   "source": [
    "goal_locations[:, :, 62]"
   ]
  },
  {
   "cell_type": "code",
   "execution_count": 257,
   "metadata": {},
   "outputs": [
    {
     "data": {
      "text/plain": [
       "array([[ 0.10546685, -0.38599977,  0.        ,  0.        ,  1.4818624 ,\n",
       "        -0.6813463 ,  1.        ,  0.        ,  0.        ],\n",
       "       [-0.23637994,  0.06048546,  0.        ,  0.        ,  1.9055567 ,\n",
       "         1.469917  ,  0.        ,  1.        ,  0.        ],\n",
       "       [-0.2568565 , -0.13294637,  0.        ,  0.        , -1.2636497 ,\n",
       "        -0.06211003,  0.        ,  0.        ,  1.        ]],\n",
       "      dtype=float32)"
      ]
     },
     "execution_count": 257,
     "metadata": {},
     "output_type": "execute_result"
    }
   ],
   "source": [
    "array_states[0, 2:, :, 36]"
   ]
  },
  {
   "cell_type": "code",
   "execution_count": 30,
   "metadata": {},
   "outputs": [
    {
     "data": {
      "text/plain": [
       "array([ 0, 17, 17,  5, 17,  5,  5,  5, 17, 17, 17, 17,  5, 17,  5,  5, 17,\n",
       "       17, 17,  5, 17,  5, 17, 17, 17, 17, 17,  5, 17, 17, 17,  5,  5,  5,\n",
       "        5,  5, 17,  5, 17,  5,  5,  5, 17, 17,  5, 17,  5,  5,  5,  5,  5])"
      ]
     },
     "execution_count": 30,
     "metadata": {},
     "output_type": "execute_result"
    }
   ],
   "source": [
    "np.argmax(array_utterances[:, 1, :, 2], axis = 1)"
   ]
  },
  {
   "cell_type": "code",
   "execution_count": 253,
   "metadata": {},
   "outputs": [
    {
     "data": {
      "text/plain": [
       "array([[1., 0., 0., 0., 0., 1., 0., 1., 0.],\n",
       "       [0., 0., 1., 0., 1., 0., 1., 0., 0.]], dtype=float32)"
      ]
     },
     "execution_count": 253,
     "metadata": {},
     "output_type": "execute_result"
    }
   ],
   "source": [
    "full_goals[:, :, 10]"
   ]
  },
  {
   "cell_type": "code",
   "execution_count": 40,
   "metadata": {},
   "outputs": [
    {
     "data": {
      "text/plain": [
       "array([[ 1.5, -0.5],\n",
       "       [-1. , -1. ]])"
      ]
     },
     "execution_count": 40,
     "metadata": {},
     "output_type": "execute_result"
    }
   ],
   "source": [
    "goal_locations[:, :, 10]"
   ]
  },
  {
   "cell_type": "code",
   "execution_count": 39,
   "metadata": {},
   "outputs": [
    {
     "data": {
      "text/plain": [
       "array([[ 1.5, -0.5],\n",
       "       [-1. , -1. ]])"
      ]
     },
     "execution_count": 39,
     "metadata": {},
     "output_type": "execute_result"
    }
   ],
   "source": [
    "goal_locations[:, :, 10]"
   ]
  },
  {
   "cell_type": "code",
   "execution_count": 36,
   "metadata": {},
   "outputs": [
    {
     "data": {
      "text/plain": [
       "array([[ 0. ,  1. ,  0. ,  1.5, -0.5,  0. ,  1. ,  0. ],\n",
       "       [ 0. ,  1. ,  0. , -1. , -1. ,  1. ,  0. ,  0. ]], dtype=float32)"
      ]
     },
     "execution_count": 36,
     "metadata": {},
     "output_type": "execute_result"
    }
   ],
   "source": [
    "full_goals[:, :, 10]"
   ]
  },
  {
   "cell_type": "code",
   "execution_count": 43,
   "metadata": {},
   "outputs": [
    {
     "data": {
      "text/plain": [
       "array([[1],\n",
       "       [0]])"
      ]
     },
     "execution_count": 43,
     "metadata": {},
     "output_type": "execute_result"
    }
   ],
   "source": [
    "targets[:, : ,10]"
   ]
  },
  {
   "cell_type": "code",
   "execution_count": 104,
   "metadata": {},
   "outputs": [
    {
     "data": {
      "text/plain": [
       "array([[ 6.0697347e-03,  1.0513390e+00,  2.2460965e-02,  2.4765704e+00,\n",
       "        -1.0961896e+00,  5.0263029e-01,  4.7486654e-01, -3.6538243e-03],\n",
       "       [-4.0758252e-03,  1.0102042e+00, -2.4224397e-02, -3.0727093e+00,\n",
       "        -3.0304856e+00,  5.5312365e-01,  4.2007229e-01,  2.5203116e-03]],\n",
       "      dtype=float32)"
      ]
     },
     "execution_count": 104,
     "metadata": {},
     "output_type": "execute_result"
    }
   ],
   "source": [
    "pred[-1, :, :, 10]"
   ]
  },
  {
   "cell_type": "code",
   "execution_count": 52,
   "metadata": {},
   "outputs": [
    {
     "data": {
      "text/plain": [
       "array([[ 0. ,  0. ,  0. ,  0. ,  0. ,  0. ,  1. ,  0. ,  0. ],\n",
       "       [-1. , -1. ,  0. ,  0. ,  0. ,  0. ,  0. ,  1. ,  0. ],\n",
       "       [ 1.5, -0.5,  0. ,  0. ,  0. ,  0. ,  0. ,  0. ,  1. ]],\n",
       "      dtype=float32)"
      ]
     },
     "execution_count": 52,
     "metadata": {},
     "output_type": "execute_result"
    }
   ],
   "source": [
    "array_states[-1, 2:, :, 18]"
   ]
  },
  {
   "cell_type": "code",
   "execution_count": 60,
   "metadata": {},
   "outputs": [
    {
     "data": {
      "text/plain": [
       "array([[0, 1, 0],\n",
       "       [0, 1, 0]])"
      ]
     },
     "execution_count": 60,
     "metadata": {},
     "output_type": "execute_result"
    }
   ],
   "source": [
    "goal_types[:, :, 45]"
   ]
  },
  {
   "cell_type": "code",
   "execution_count": 113,
   "metadata": {},
   "outputs": [
    {
     "data": {
      "text/plain": [
       "array([[-3. , -3. ],\n",
       "       [ 2.5, -1. ]])"
      ]
     },
     "execution_count": 113,
     "metadata": {},
     "output_type": "execute_result"
    }
   ],
   "source": [
    "goal_locations[:,:, 12]"
   ]
  },
  {
   "cell_type": "code",
   "execution_count": 114,
   "metadata": {},
   "outputs": [
    {
     "data": {
      "text/plain": [
       "array([0, 5, 5, 5, 5, 5, 5, 5, 5, 5, 5, 5, 5, 5, 5, 5, 5, 5, 5, 5, 5, 5,\n",
       "       5, 5, 5, 5, 5, 5, 5, 5, 5, 5, 5, 5, 5, 5, 5, 5, 5, 5, 5, 5, 5, 5,\n",
       "       5, 5, 5, 5, 5, 5, 5])"
      ]
     },
     "execution_count": 114,
     "metadata": {},
     "output_type": "execute_result"
    }
   ],
   "source": [
    "np.argmax(array_utterances[:, 0, :, 12], axis = 1)"
   ]
  },
  {
   "cell_type": "code",
   "execution_count": 111,
   "metadata": {},
   "outputs": [
    {
     "data": {
      "text/plain": [
       "array([[1],\n",
       "       [0]])"
      ]
     },
     "execution_count": 111,
     "metadata": {},
     "output_type": "execute_result"
    }
   ],
   "source": [
    "targets[:, :, 10]"
   ]
  },
  {
   "cell_type": "code",
   "execution_count": null,
   "metadata": {
    "collapsed": true
   },
   "outputs": [],
   "source": []
  }
 ],
 "metadata": {
  "anaconda-cloud": {},
  "kernelspec": {
   "display_name": "Python 3",
   "language": "python",
   "name": "python3"
  },
  "language_info": {
   "codemirror_mode": {
    "name": "ipython",
    "version": 3
   },
   "file_extension": ".py",
   "mimetype": "text/x-python",
   "name": "python",
   "nbconvert_exporter": "python",
   "pygments_lexer": "ipython3",
   "version": "3.6.3"
  }
 },
 "nbformat": 4,
 "nbformat_minor": 1
}
